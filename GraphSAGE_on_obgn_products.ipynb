{
 "cells": [
  {
   "cell_type": "markdown",
   "metadata": {
    "id": "kS6ESNtSpN-z"
   },
   "source": [
    "# CS224W Final Project: Tutorial on the Augmentation of Graphs in PyG\n",
    "\n",
    "### Jerry Chan, Jihee Suh, John So"
   ]
  },
  {
   "cell_type": "markdown",
   "metadata": {
    "id": "TvHgPTT8qnlm"
   },
   "source": [
    "## Installation and Setup"
   ]
  },
  {
   "cell_type": "markdown",
   "metadata": {
    "id": "iPsmdGx7UJ4z"
   },
   "source": [
    "### Install PyG"
   ]
  },
  {
   "cell_type": "code",
   "execution_count": 1,
   "metadata": {
    "colab": {
     "base_uri": "https://localhost:8080/",
     "height": 1000
    },
    "id": "pS2qTpqApIRS",
    "outputId": "00dfed58-8148-4f6c-ef0a-45d6ea01cee3"
   },
   "outputs": [],
   "source": [
    "import torch\n",
    "torch_version = str(torch.__version__)\n",
    "if \"2.4.0\" not in torch_version:\n",
    "  !pip install torch==2.4.0"
   ]
  },
  {
   "cell_type": "code",
   "execution_count": 2,
   "metadata": {
    "colab": {
     "base_uri": "https://localhost:8080/"
    },
    "id": "tfbYW_of-wcv",
    "outputId": "fd916716-0ad8-46ef-e690-8c40599d078a"
   },
   "outputs": [
    {
     "name": "stdout",
     "output_type": "stream",
     "text": [
      "2.4.0+cu121\n"
     ]
    }
   ],
   "source": [
    "print(torch_version)"
   ]
  },
  {
   "cell_type": "code",
   "execution_count": 4,
   "metadata": {
    "colab": {
     "base_uri": "https://localhost:8080/"
    },
    "id": "dies5CJuqmum",
    "outputId": "d47159ad-84ad-4602-d944-78965967cee1"
   },
   "outputs": [
    {
     "name": "stdout",
     "output_type": "stream",
     "text": [
      "Defaulting to user installation because normal site-packages is not writeable\n",
      "Looking in links: https://pytorch-geometric.com/whl/torch-2.4.0+cu121.html\n",
      "Requirement already satisfied: torch-scatter in /home/adel/.local/lib/python3.8/site-packages (2.1.2+pt24cu121)\n",
      "Defaulting to user installation because normal site-packages is not writeable\n",
      "Looking in links: https://pytorch-geometric.com/whl/torch-2.4.0+cu121.html\n",
      "Requirement already satisfied: torch-sparse in /home/adel/.local/lib/python3.8/site-packages (0.6.18+pt24cu121)\n",
      "Requirement already satisfied: scipy in /home/adel/.local/lib/python3.8/site-packages (from torch-sparse) (1.10.1)\n",
      "Requirement already satisfied: numpy<1.27.0,>=1.19.5 in /home/adel/.local/lib/python3.8/site-packages (from scipy->torch-sparse) (1.23.0)\n",
      "Defaulting to user installation because normal site-packages is not writeable\n",
      "Requirement already satisfied: torch-geometric in /home/adel/.local/lib/python3.8/site-packages (2.6.1)\n",
      "Requirement already satisfied: aiohttp in /home/adel/.local/lib/python3.8/site-packages (from torch-geometric) (3.10.10)\n",
      "Requirement already satisfied: fsspec in /home/adel/.local/lib/python3.8/site-packages (from torch-geometric) (2022.1.0)\n",
      "Requirement already satisfied: jinja2 in /home/adel/.local/lib/python3.8/site-packages (from torch-geometric) (3.1.3)\n",
      "Requirement already satisfied: numpy in /home/adel/.local/lib/python3.8/site-packages (from torch-geometric) (1.23.0)\n",
      "Requirement already satisfied: psutil>=5.8.0 in /home/adel/.local/lib/python3.8/site-packages (from torch-geometric) (5.9.1)\n",
      "Requirement already satisfied: pyparsing in /home/adel/.local/lib/python3.8/site-packages (from torch-geometric) (3.0.9)\n",
      "Requirement already satisfied: requests in /home/adel/.local/lib/python3.8/site-packages (from torch-geometric) (2.32.3)\n",
      "Requirement already satisfied: tqdm in /home/adel/.local/lib/python3.8/site-packages (from torch-geometric) (4.64.0)\n",
      "Requirement already satisfied: aiohappyeyeballs>=2.3.0 in /home/adel/.local/lib/python3.8/site-packages (from aiohttp->torch-geometric) (2.4.3)\n",
      "Requirement already satisfied: aiosignal>=1.1.2 in /home/adel/.local/lib/python3.8/site-packages (from aiohttp->torch-geometric) (1.3.1)\n",
      "Requirement already satisfied: attrs>=17.3.0 in /home/adel/.local/lib/python3.8/site-packages (from aiohttp->torch-geometric) (24.2.0)\n",
      "Requirement already satisfied: frozenlist>=1.1.1 in /home/adel/.local/lib/python3.8/site-packages (from aiohttp->torch-geometric) (1.4.1)\n",
      "Requirement already satisfied: multidict<7.0,>=4.5 in /home/adel/.local/lib/python3.8/site-packages (from aiohttp->torch-geometric) (6.1.0)\n",
      "Requirement already satisfied: yarl<2.0,>=1.12.0 in /home/adel/.local/lib/python3.8/site-packages (from aiohttp->torch-geometric) (1.15.2)\n",
      "Requirement already satisfied: async-timeout<5.0,>=4.0 in /home/adel/.local/lib/python3.8/site-packages (from aiohttp->torch-geometric) (4.0.3)\n",
      "Requirement already satisfied: MarkupSafe>=2.0 in /home/adel/.local/lib/python3.8/site-packages (from jinja2->torch-geometric) (2.1.5)\n",
      "Requirement already satisfied: charset-normalizer<4,>=2 in /home/adel/.local/lib/python3.8/site-packages (from requests->torch-geometric) (3.3.2)\n",
      "Requirement already satisfied: idna<4,>=2.5 in /usr/lib/python3/dist-packages (from requests->torch-geometric) (2.8)\n",
      "Requirement already satisfied: urllib3<3,>=1.21.1 in /home/adel/.local/lib/python3.8/site-packages (from requests->torch-geometric) (1.26.12)\n",
      "Requirement already satisfied: certifi>=2017.4.17 in /usr/lib/python3/dist-packages (from requests->torch-geometric) (2019.11.28)\n",
      "Requirement already satisfied: typing-extensions>=4.1.0 in /home/adel/.local/lib/python3.8/site-packages (from multidict<7.0,>=4.5->aiohttp->torch-geometric) (4.12.2)\n",
      "Requirement already satisfied: propcache>=0.2.0 in /home/adel/.local/lib/python3.8/site-packages (from yarl<2.0,>=1.12.0->aiohttp->torch-geometric) (0.2.0)\n",
      "Defaulting to user installation because normal site-packages is not writeable\n",
      "Requirement already satisfied: ogb in /home/adel/.local/lib/python3.8/site-packages (1.3.6)\n",
      "Requirement already satisfied: torch>=1.6.0 in /home/adel/.local/lib/python3.8/site-packages (from ogb) (2.4.0)\n",
      "Requirement already satisfied: numpy>=1.16.0 in /home/adel/.local/lib/python3.8/site-packages (from ogb) (1.23.0)\n",
      "Requirement already satisfied: tqdm>=4.29.0 in /home/adel/.local/lib/python3.8/site-packages (from ogb) (4.64.0)\n",
      "Requirement already satisfied: scikit-learn>=0.20.0 in /home/adel/.local/lib/python3.8/site-packages (from ogb) (1.1.2)\n",
      "Requirement already satisfied: pandas>=0.24.0 in /home/adel/.local/lib/python3.8/site-packages (from ogb) (1.4.3)\n",
      "Requirement already satisfied: six>=1.12.0 in /usr/lib/python3/dist-packages (from ogb) (1.14.0)\n",
      "Requirement already satisfied: urllib3>=1.24.0 in /home/adel/.local/lib/python3.8/site-packages (from ogb) (1.26.12)\n",
      "Requirement already satisfied: outdated>=0.2.0 in /home/adel/.local/lib/python3.8/site-packages (from ogb) (0.2.2)\n",
      "Requirement already satisfied: setuptools>=44 in /usr/lib/python3/dist-packages (from outdated>=0.2.0->ogb) (45.2.0)\n",
      "Requirement already satisfied: littleutils in /home/adel/.local/lib/python3.8/site-packages (from outdated>=0.2.0->ogb) (0.2.4)\n",
      "Requirement already satisfied: requests in /home/adel/.local/lib/python3.8/site-packages (from outdated>=0.2.0->ogb) (2.32.3)\n",
      "Requirement already satisfied: python-dateutil>=2.8.1 in /home/adel/.local/lib/python3.8/site-packages (from pandas>=0.24.0->ogb) (2.8.2)\n",
      "Requirement already satisfied: pytz>=2020.1 in /home/adel/.local/lib/python3.8/site-packages (from pandas>=0.24.0->ogb) (2022.2.1)\n",
      "Requirement already satisfied: scipy>=1.3.2 in /home/adel/.local/lib/python3.8/site-packages (from scikit-learn>=0.20.0->ogb) (1.10.1)\n",
      "Requirement already satisfied: joblib>=1.0.0 in /home/adel/.local/lib/python3.8/site-packages (from scikit-learn>=0.20.0->ogb) (1.1.0)\n",
      "Requirement already satisfied: threadpoolctl>=2.0.0 in /home/adel/.local/lib/python3.8/site-packages (from scikit-learn>=0.20.0->ogb) (3.1.0)\n",
      "Requirement already satisfied: filelock in /usr/lib/python3/dist-packages (from torch>=1.6.0->ogb) (3.0.12)\n",
      "Requirement already satisfied: typing-extensions>=4.8.0 in /home/adel/.local/lib/python3.8/site-packages (from torch>=1.6.0->ogb) (4.12.2)\n",
      "Requirement already satisfied: sympy in /home/adel/.local/lib/python3.8/site-packages (from torch>=1.6.0->ogb) (1.13.3)\n",
      "Requirement already satisfied: networkx in /home/adel/.local/lib/python3.8/site-packages (from torch>=1.6.0->ogb) (2.8.6)\n",
      "Requirement already satisfied: jinja2 in /home/adel/.local/lib/python3.8/site-packages (from torch>=1.6.0->ogb) (3.1.3)\n",
      "Requirement already satisfied: fsspec in /home/adel/.local/lib/python3.8/site-packages (from torch>=1.6.0->ogb) (2022.1.0)\n",
      "Requirement already satisfied: nvidia-cuda-nvrtc-cu12==12.1.105 in /home/adel/.local/lib/python3.8/site-packages (from torch>=1.6.0->ogb) (12.1.105)\n",
      "Requirement already satisfied: nvidia-cuda-runtime-cu12==12.1.105 in /home/adel/.local/lib/python3.8/site-packages (from torch>=1.6.0->ogb) (12.1.105)\n",
      "Requirement already satisfied: nvidia-cuda-cupti-cu12==12.1.105 in /home/adel/.local/lib/python3.8/site-packages (from torch>=1.6.0->ogb) (12.1.105)\n",
      "Requirement already satisfied: nvidia-cudnn-cu12==9.1.0.70 in /home/adel/.local/lib/python3.8/site-packages (from torch>=1.6.0->ogb) (9.1.0.70)\n",
      "Requirement already satisfied: nvidia-cublas-cu12==12.1.3.1 in /home/adel/.local/lib/python3.8/site-packages (from torch>=1.6.0->ogb) (12.1.3.1)\n",
      "Requirement already satisfied: nvidia-cufft-cu12==11.0.2.54 in /home/adel/.local/lib/python3.8/site-packages (from torch>=1.6.0->ogb) (11.0.2.54)\n",
      "Requirement already satisfied: nvidia-curand-cu12==10.3.2.106 in /home/adel/.local/lib/python3.8/site-packages (from torch>=1.6.0->ogb) (10.3.2.106)\n",
      "Requirement already satisfied: nvidia-cusolver-cu12==11.4.5.107 in /home/adel/.local/lib/python3.8/site-packages (from torch>=1.6.0->ogb) (11.4.5.107)\n",
      "Requirement already satisfied: nvidia-cusparse-cu12==12.1.0.106 in /home/adel/.local/lib/python3.8/site-packages (from torch>=1.6.0->ogb) (12.1.0.106)\n",
      "Requirement already satisfied: nvidia-nccl-cu12==2.20.5 in /home/adel/.local/lib/python3.8/site-packages (from torch>=1.6.0->ogb) (2.20.5)\n",
      "Requirement already satisfied: nvidia-nvtx-cu12==12.1.105 in /home/adel/.local/lib/python3.8/site-packages (from torch>=1.6.0->ogb) (12.1.105)\n",
      "Requirement already satisfied: triton==3.0.0 in /home/adel/.local/lib/python3.8/site-packages (from torch>=1.6.0->ogb) (3.0.0)\n",
      "Requirement already satisfied: nvidia-nvjitlink-cu12 in /home/adel/.local/lib/python3.8/site-packages (from nvidia-cusolver-cu12==11.4.5.107->torch>=1.6.0->ogb) (12.6.77)\n",
      "Requirement already satisfied: MarkupSafe>=2.0 in /home/adel/.local/lib/python3.8/site-packages (from jinja2->torch>=1.6.0->ogb) (2.1.5)\n",
      "Requirement already satisfied: charset-normalizer<4,>=2 in /home/adel/.local/lib/python3.8/site-packages (from requests->outdated>=0.2.0->ogb) (3.3.2)\n",
      "Requirement already satisfied: idna<4,>=2.5 in /usr/lib/python3/dist-packages (from requests->outdated>=0.2.0->ogb) (2.8)\n",
      "Requirement already satisfied: certifi>=2017.4.17 in /usr/lib/python3/dist-packages (from requests->outdated>=0.2.0->ogb) (2019.11.28)\n",
      "Requirement already satisfied: mpmath<1.4,>=1.1.0 in /home/adel/.local/lib/python3.8/site-packages (from sympy->torch>=1.6.0->ogb) (1.3.0)\n"
     ]
    }
   ],
   "source": [
    "scatter_src = f\"https://pytorch-geometric.com/whl/torch-{torch_version}.html\"\n",
    "sparse_src = f\"https://pytorch-geometric.com/whl/torch-{torch_version}.html\"\n",
    "!pip install torch-scatter -f $scatter_src\n",
    "!pip install torch-sparse -f $sparse_src\n",
    "!pip install torch-geometric\n",
    "!pip install ogb"
   ]
  },
  {
   "cell_type": "code",
   "execution_count": 5,
   "metadata": {
    "id": "p_CLxHV2M3Wh"
   },
   "outputs": [],
   "source": [
    "import os\n",
    "import random\n",
    "\n",
    "import numpy as np\n",
    "from tqdm import tqdm\n",
    "\n",
    "import torch\n",
    "from torch_geometric.nn.models import GraphSAGE\n",
    "from torch_geometric.loader import NeighborLoader\n",
    "import torch_geometric.transforms as T\n",
    "from torch_geometric.utils import to_undirected\n",
    "from torch_geometric.datasets import KarateClub\n",
    "from ogb.nodeproppred import PygNodePropPredDataset, Evaluator"
   ]
  },
  {
   "cell_type": "code",
   "execution_count": 6,
   "metadata": {
    "colab": {
     "base_uri": "https://localhost:8080/",
     "height": 35
    },
    "id": "0uIk066oMxUJ",
    "outputId": "51f627bb-fa8f-4908-bae3-75e36d220b20"
   },
   "outputs": [
    {
     "data": {
      "text/plain": [
       "'cuda'"
      ]
     },
     "execution_count": 6,
     "metadata": {},
     "output_type": "execute_result"
    }
   ],
   "source": [
    "def seed_everything(seed):\n",
    "    random.seed(seed)\n",
    "    np.random.seed(seed)\n",
    "    os.environ[\"PYTHONHASHSEED\"] = str(seed)\n",
    "    torch.manual_seed(seed)\n",
    "    torch.cuda.manual_seed(seed)\n",
    "    torch.backends.cudnn.deterministic = True\n",
    "    torch.backends.cudnn.benchmark = False\n",
    "\n",
    "seed_everything(42)\n",
    "\n",
    "device = 'cuda' if torch.cuda.is_available() else 'cpu'\n",
    "device"
   ]
  },
  {
   "cell_type": "markdown",
   "metadata": {
    "id": "euGXjAPU1Ss4"
   },
   "source": [
    "### Dataset and Tasks\n",
    "\n"
   ]
  },
  {
   "cell_type": "code",
   "execution_count": 7,
   "metadata": {
    "colab": {
     "base_uri": "https://localhost:8080/"
    },
    "id": "0HmhMpxvuxO0",
    "outputId": "986d7044-1dbd-4923-c96d-5ed8e7e07fc0"
   },
   "outputs": [],
   "source": [
    "def load_dataset(transform=None):\n",
    "    dataset = PygNodePropPredDataset(name='ogbn-products', root='./products/', transform=transform)\n",
    "    print(dataset, flush=True)\n",
    "    data = dataset[0]\n",
    "    print(data, flush=True)\n",
    "    return dataset"
   ]
  },
  {
   "cell_type": "code",
   "execution_count": 8,
   "metadata": {},
   "outputs": [
    {
     "name": "stderr",
     "output_type": "stream",
     "text": [
      "/home/adel/.local/lib/python3.8/site-packages/ogb/nodeproppred/dataset_pyg.py:69: FutureWarning: You are using `torch.load` with `weights_only=False` (the current default value), which uses the default pickle module implicitly. It is possible to construct malicious pickle data which will execute arbitrary code during unpickling (See https://github.com/pytorch/pytorch/blob/main/SECURITY.md#untrusted-models for more details). In a future release, the default value for `weights_only` will be flipped to `True`. This limits the functions that could be executed during unpickling. Arbitrary objects will no longer be allowed to be loaded via this mode unless they are explicitly allowlisted by the user via `torch.serialization.add_safe_globals`. We recommend you start setting `weights_only=True` for any use case where you don't have full control of the loaded file. Please open an issue on GitHub for any issues related to this experimental feature.\n",
      "  self.data, self.slices = torch.load(self.processed_paths[0])\n"
     ]
    },
    {
     "name": "stdout",
     "output_type": "stream",
     "text": [
      "PygNodePropPredDataset()\n",
      "Data(num_nodes=2449029, edge_index=[2, 123718280], x=[2449029, 100], y=[2449029, 1])\n"
     ]
    }
   ],
   "source": [
    "dataset = load_dataset()"
   ]
  },
  {
   "cell_type": "markdown",
   "metadata": {
    "id": "YRim-oBTUVSe"
   },
   "source": [
    "### Training and Evaluation Utilities"
   ]
  },
  {
   "cell_type": "code",
   "execution_count": 9,
   "metadata": {
    "id": "KWZejP8NNFlG"
   },
   "outputs": [],
   "source": [
    "def train(model, optimizer, dataloader, transform=None):\n",
    "    model.train()\n",
    "    total_loss = 0\n",
    "    total_correct = 0\n",
    "    n = 0\n",
    "\n",
    "    for batch in tqdm(dataloader):\n",
    "        optimizer.zero_grad()\n",
    "        batch = batch.to(device)\n",
    "        if transform is not None:\n",
    "            batch = transform(batch)\n",
    "        output = model(batch.x, batch.edge_index)[:batch.batch_size]\n",
    "        y = batch.y[:batch.batch_size].squeeze().to(torch.long)\n",
    "        loss = model.loss_fn(output, y)\n",
    "    \n",
    "        loss.backward()\n",
    "        optimizer.step()\n",
    "\n",
    "        total_loss += loss.item()\n",
    "        total_correct += int(output.argmax(dim=-1).eq(y).sum())\n",
    "        n += batch.batch_size\n",
    "\n",
    "    return total_loss/n, total_correct/n\n",
    "\n",
    "# Test function here\n",
    "@torch.no_grad()\n",
    "def test(model, dataloader, transform=None):\n",
    "    model.eval()\n",
    "    total_loss = 0\n",
    "    total_correct = 0\n",
    "    n = 0\n",
    "\n",
    "    for batch in tqdm(dataloader):\n",
    "        batch = batch.to(device)\n",
    "        if transform is not None:\n",
    "            batch = transform(batch)\n",
    "        out = model(batch.x, batch.edge_index)[:batch.batch_size]\n",
    "        y = batch.y[:batch.batch_size].squeeze().to(torch.long)\n",
    "        loss = model.loss_fn(out, y)\n",
    "\n",
    "        total_loss += loss.item()\n",
    "        total_correct += int(out.argmax(dim=-1).eq(y).sum())\n",
    "        n += batch.batch_size\n",
    "\n",
    "    return total_loss/n, total_correct/n"
   ]
  },
  {
   "cell_type": "code",
   "execution_count": 10,
   "metadata": {
    "colab": {
     "base_uri": "https://localhost:8080/"
    },
    "id": "IFLmCKpCdEEH",
    "outputId": "d1fc1e9d-efc4-4bc6-9922-05a1e76c76bc"
   },
   "outputs": [],
   "source": [
    "input_dim = dataset[0].x.shape[1]\n",
    "hidden_dim = 128\n",
    "learning_rate = 0.0001\n",
    "num_epochs = 20\n",
    "batch_size = 32\n",
    "num_layers = 2\n",
    "\n",
    "fan_out = 10\n",
    "num_workers = 2"
   ]
  },
  {
   "cell_type": "code",
   "execution_count": 11,
   "metadata": {},
   "outputs": [],
   "source": [
    "def get_model(input_dim=input_dim, dataset=dataset):\n",
    "    class GraphSAGENodeClassification(torch.nn.Module):\n",
    "        def __init__(self, input_dim, hidden_dim, num_layers, num_classes):\n",
    "            super(GraphSAGENodeClassification, self).__init__()\n",
    "            self.graph_sage = GraphSAGE(in_channels = input_dim, hidden_channels = hidden_dim, num_layers=num_layers)\n",
    "            self.cls_head = torch.nn.Sequential(\n",
    "                torch.nn.Dropout(0.1),\n",
    "                torch.nn.ReLU(),\n",
    "                torch.nn.Linear(hidden_dim, num_classes),\n",
    "            )\n",
    "            self.loss_fn = torch.nn.CrossEntropyLoss()\n",
    "\n",
    "        def forward(self, x, edge_index):\n",
    "            h = self.graph_sage(x, edge_index)\n",
    "            return self.cls_head(h)\n",
    "\n",
    "    model = GraphSAGENodeClassification(input_dim, hidden_dim, num_layers, dataset.num_classes)\n",
    "    optimizer = torch.optim.Adam(model.parameters(), lr=learning_rate)\n",
    "    model.to(device)\n",
    "    return model, optimizer"
   ]
  },
  {
   "cell_type": "code",
   "execution_count": 12,
   "metadata": {},
   "outputs": [],
   "source": [
    "def get_dataloader(dataset, split):\n",
    "    data = dataset[0]\n",
    "\n",
    "    return NeighborLoader(\n",
    "        data,\n",
    "        input_nodes=split,\n",
    "        num_neighbors=[fan_out] * num_layers,\n",
    "        batch_size=batch_size,\n",
    "        shuffle=True,\n",
    "        pin_memory=True,\n",
    "        num_workers=num_workers\n",
    "    )"
   ]
  },
  {
   "cell_type": "code",
   "execution_count": 13,
   "metadata": {},
   "outputs": [
    {
     "name": "stderr",
     "output_type": "stream",
     "text": [
      "/home/adel/.local/lib/python3.8/site-packages/torch_geometric/sampler/neighbor_sampler.py:61: UserWarning: Using 'NeighborSampler' without a 'pyg-lib' installation is deprecated and will be removed soon. Please install 'pyg-lib' for accelerated neighborhood sampling\n",
      "  warnings.warn(f\"Using '{self.__class__.__name__}' without a \"\n"
     ]
    }
   ],
   "source": [
    "split_idx = dataset.get_idx_split()\n",
    "train_loader = get_dataloader(dataset, split_idx['train'])"
   ]
  },
  {
   "cell_type": "code",
   "execution_count": 14,
   "metadata": {},
   "outputs": [],
   "source": [
    "val_loader = get_dataloader(dataset, split_idx['valid'])"
   ]
  },
  {
   "cell_type": "code",
   "execution_count": 15,
   "metadata": {},
   "outputs": [],
   "source": [
    "test_loader = get_dataloader(dataset, split_idx['test'])"
   ]
  },
  {
   "cell_type": "code",
   "execution_count": 16,
   "metadata": {},
   "outputs": [],
   "source": [
    "def benchmark(model, optimizer, train_loader, val_loader, test_loader, transform=None):\n",
    "    best_val = 0.\n",
    "    for epoch in range(1, num_epochs + 1):\n",
    "        train_loss, train_acc = train(model, optimizer, train_loader, transform)\n",
    "        val_loss, val_acc = test(model, val_loader, transform)\n",
    "    \n",
    "        print(f'Epoch {epoch:02d}, Train Loss: {train_loss:.4f}, Train Acc: {train_acc * 100.0:.2f}%',)\n",
    "        print(f'Val Loss: {val_loss:.4f}, Val Acc: {val_acc * 100.0:.2f}%')\n",
    "    \n",
    "        if val_acc > best_val:\n",
    "            best_val = val_acc\n",
    "    \n",
    "    print(f'Best Validation Accuracy: {100.0 * best_val:.2f}%')\n",
    "    \n",
    "    print('Testing...')\n",
    "    test_loss, test_final_acc = test(model, test_loader)\n",
    "    print(f'Test Accuracy: {100.0 * test_final_acc:.2f}%')"
   ]
  },
  {
   "cell_type": "code",
   "execution_count": 17,
   "metadata": {},
   "outputs": [
    {
     "name": "stderr",
     "output_type": "stream",
     "text": [
      "100%|███████████████████████████████████████████████████████████████████████████████| 6145/6145 [01:44<00:00, 58.67it/s]\n",
      "100%|███████████████████████████████████████████████████████████████████████████████| 1229/1229 [00:19<00:00, 62.49it/s]\n"
     ]
    },
    {
     "name": "stdout",
     "output_type": "stream",
     "text": [
      "Epoch 01, Train Loss: 0.0288, Train Acc: 76.71%\n",
      "Val Loss: 0.0186, Val Acc: 84.91%\n"
     ]
    },
    {
     "name": "stderr",
     "output_type": "stream",
     "text": [
      "100%|███████████████████████████████████████████████████████████████████████████████| 6145/6145 [02:08<00:00, 47.79it/s]\n",
      "100%|███████████████████████████████████████████████████████████████████████████████| 1229/1229 [00:17<00:00, 71.11it/s]\n"
     ]
    },
    {
     "name": "stdout",
     "output_type": "stream",
     "text": [
      "Epoch 02, Train Loss: 0.0164, Train Acc: 86.13%\n",
      "Val Loss: 0.0161, Val Acc: 86.78%\n"
     ]
    },
    {
     "name": "stderr",
     "output_type": "stream",
     "text": [
      "100%|███████████████████████████████████████████████████████████████████████████████| 6145/6145 [01:52<00:00, 54.43it/s]\n",
      "100%|███████████████████████████████████████████████████████████████████████████████| 1229/1229 [00:17<00:00, 70.95it/s]\n"
     ]
    },
    {
     "name": "stdout",
     "output_type": "stream",
     "text": [
      "Epoch 03, Train Loss: 0.0145, Train Acc: 87.46%\n",
      "Val Loss: 0.0147, Val Acc: 87.67%\n"
     ]
    },
    {
     "name": "stderr",
     "output_type": "stream",
     "text": [
      "100%|███████████████████████████████████████████████████████████████████████████████| 6145/6145 [01:55<00:00, 53.24it/s]\n",
      "100%|███████████████████████████████████████████████████████████████████████████████| 1229/1229 [00:18<00:00, 65.05it/s]\n"
     ]
    },
    {
     "name": "stdout",
     "output_type": "stream",
     "text": [
      "Epoch 04, Train Loss: 0.0135, Train Acc: 88.28%\n",
      "Val Loss: 0.0142, Val Acc: 88.18%\n"
     ]
    },
    {
     "name": "stderr",
     "output_type": "stream",
     "text": [
      "100%|███████████████████████████████████████████████████████████████████████████████| 6145/6145 [01:52<00:00, 54.59it/s]\n",
      "100%|███████████████████████████████████████████████████████████████████████████████| 1229/1229 [00:17<00:00, 70.74it/s]\n"
     ]
    },
    {
     "name": "stdout",
     "output_type": "stream",
     "text": [
      "Epoch 05, Train Loss: 0.0128, Train Acc: 88.79%\n",
      "Val Loss: 0.0136, Val Acc: 88.61%\n"
     ]
    },
    {
     "name": "stderr",
     "output_type": "stream",
     "text": [
      "100%|███████████████████████████████████████████████████████████████████████████████| 6145/6145 [01:52<00:00, 54.46it/s]\n",
      "100%|███████████████████████████████████████████████████████████████████████████████| 1229/1229 [00:17<00:00, 70.66it/s]\n"
     ]
    },
    {
     "name": "stdout",
     "output_type": "stream",
     "text": [
      "Epoch 06, Train Loss: 0.0122, Train Acc: 89.29%\n",
      "Val Loss: 0.0130, Val Acc: 88.93%\n"
     ]
    },
    {
     "name": "stderr",
     "output_type": "stream",
     "text": [
      "100%|███████████████████████████████████████████████████████████████████████████████| 6145/6145 [01:51<00:00, 55.32it/s]\n",
      "100%|███████████████████████████████████████████████████████████████████████████████| 1229/1229 [00:17<00:00, 70.02it/s]\n"
     ]
    },
    {
     "name": "stdout",
     "output_type": "stream",
     "text": [
      "Epoch 07, Train Loss: 0.0117, Train Acc: 89.65%\n",
      "Val Loss: 0.0126, Val Acc: 89.13%\n"
     ]
    },
    {
     "name": "stderr",
     "output_type": "stream",
     "text": [
      "100%|███████████████████████████████████████████████████████████████████████████████| 6145/6145 [01:54<00:00, 53.53it/s]\n",
      "100%|███████████████████████████████████████████████████████████████████████████████| 1229/1229 [00:18<00:00, 64.94it/s]\n"
     ]
    },
    {
     "name": "stdout",
     "output_type": "stream",
     "text": [
      "Epoch 08, Train Loss: 0.0113, Train Acc: 89.95%\n",
      "Val Loss: 0.0126, Val Acc: 89.41%\n"
     ]
    },
    {
     "name": "stderr",
     "output_type": "stream",
     "text": [
      "100%|███████████████████████████████████████████████████████████████████████████████| 6145/6145 [01:54<00:00, 53.63it/s]\n",
      "100%|███████████████████████████████████████████████████████████████████████████████| 1229/1229 [00:18<00:00, 66.07it/s]\n"
     ]
    },
    {
     "name": "stdout",
     "output_type": "stream",
     "text": [
      "Epoch 09, Train Loss: 0.0110, Train Acc: 90.23%\n",
      "Val Loss: 0.0123, Val Acc: 89.55%\n"
     ]
    },
    {
     "name": "stderr",
     "output_type": "stream",
     "text": [
      "100%|███████████████████████████████████████████████████████████████████████████████| 6145/6145 [01:48<00:00, 56.61it/s]\n",
      "100%|███████████████████████████████████████████████████████████████████████████████| 1229/1229 [00:15<00:00, 79.17it/s]\n"
     ]
    },
    {
     "name": "stdout",
     "output_type": "stream",
     "text": [
      "Epoch 10, Train Loss: 0.0107, Train Acc: 90.45%\n",
      "Val Loss: 0.0121, Val Acc: 89.62%\n"
     ]
    },
    {
     "name": "stderr",
     "output_type": "stream",
     "text": [
      "100%|███████████████████████████████████████████████████████████████████████████████| 6145/6145 [01:58<00:00, 51.88it/s]\n",
      "100%|███████████████████████████████████████████████████████████████████████████████| 1229/1229 [00:17<00:00, 69.19it/s]\n"
     ]
    },
    {
     "name": "stdout",
     "output_type": "stream",
     "text": [
      "Epoch 11, Train Loss: 0.0105, Train Acc: 90.61%\n",
      "Val Loss: 0.0118, Val Acc: 89.79%\n"
     ]
    },
    {
     "name": "stderr",
     "output_type": "stream",
     "text": [
      "100%|███████████████████████████████████████████████████████████████████████████████| 6145/6145 [01:53<00:00, 54.20it/s]\n",
      "100%|███████████████████████████████████████████████████████████████████████████████| 1229/1229 [00:17<00:00, 69.64it/s]\n"
     ]
    },
    {
     "name": "stdout",
     "output_type": "stream",
     "text": [
      "Epoch 12, Train Loss: 0.0103, Train Acc: 90.78%\n",
      "Val Loss: 0.0118, Val Acc: 90.03%\n"
     ]
    },
    {
     "name": "stderr",
     "output_type": "stream",
     "text": [
      "100%|███████████████████████████████████████████████████████████████████████████████| 6145/6145 [01:53<00:00, 53.93it/s]\n",
      "100%|███████████████████████████████████████████████████████████████████████████████| 1229/1229 [00:17<00:00, 70.54it/s]\n"
     ]
    },
    {
     "name": "stdout",
     "output_type": "stream",
     "text": [
      "Epoch 13, Train Loss: 0.0101, Train Acc: 91.00%\n",
      "Val Loss: 0.0116, Val Acc: 89.91%\n"
     ]
    },
    {
     "name": "stderr",
     "output_type": "stream",
     "text": [
      "100%|███████████████████████████████████████████████████████████████████████████████| 6145/6145 [01:55<00:00, 53.39it/s]\n",
      "100%|███████████████████████████████████████████████████████████████████████████████| 1229/1229 [00:17<00:00, 68.53it/s]\n"
     ]
    },
    {
     "name": "stdout",
     "output_type": "stream",
     "text": [
      "Epoch 14, Train Loss: 0.0099, Train Acc: 91.15%\n",
      "Val Loss: 0.0116, Val Acc: 90.06%\n"
     ]
    },
    {
     "name": "stderr",
     "output_type": "stream",
     "text": [
      "100%|███████████████████████████████████████████████████████████████████████████████| 6145/6145 [01:54<00:00, 53.82it/s]\n",
      "100%|███████████████████████████████████████████████████████████████████████████████| 1229/1229 [00:17<00:00, 68.28it/s]\n"
     ]
    },
    {
     "name": "stdout",
     "output_type": "stream",
     "text": [
      "Epoch 15, Train Loss: 0.0097, Train Acc: 91.29%\n",
      "Val Loss: 0.0116, Val Acc: 90.05%\n"
     ]
    },
    {
     "name": "stderr",
     "output_type": "stream",
     "text": [
      "100%|███████████████████████████████████████████████████████████████████████████████| 6145/6145 [01:53<00:00, 54.36it/s]\n",
      "100%|███████████████████████████████████████████████████████████████████████████████| 1229/1229 [00:18<00:00, 68.12it/s]\n"
     ]
    },
    {
     "name": "stdout",
     "output_type": "stream",
     "text": [
      "Epoch 16, Train Loss: 0.0095, Train Acc: 91.39%\n",
      "Val Loss: 0.0115, Val Acc: 90.12%\n"
     ]
    },
    {
     "name": "stderr",
     "output_type": "stream",
     "text": [
      "100%|███████████████████████████████████████████████████████████████████████████████| 6145/6145 [02:06<00:00, 48.56it/s]\n",
      "100%|███████████████████████████████████████████████████████████████████████████████| 1229/1229 [00:20<00:00, 59.15it/s]\n"
     ]
    },
    {
     "name": "stdout",
     "output_type": "stream",
     "text": [
      "Epoch 17, Train Loss: 0.0094, Train Acc: 91.47%\n",
      "Val Loss: 0.0112, Val Acc: 90.38%\n"
     ]
    },
    {
     "name": "stderr",
     "output_type": "stream",
     "text": [
      "100%|███████████████████████████████████████████████████████████████████████████████| 6145/6145 [01:54<00:00, 53.57it/s]\n",
      "100%|███████████████████████████████████████████████████████████████████████████████| 1229/1229 [00:17<00:00, 70.60it/s]\n"
     ]
    },
    {
     "name": "stdout",
     "output_type": "stream",
     "text": [
      "Epoch 18, Train Loss: 0.0092, Train Acc: 91.64%\n",
      "Val Loss: 0.0112, Val Acc: 90.33%\n"
     ]
    },
    {
     "name": "stderr",
     "output_type": "stream",
     "text": [
      "100%|███████████████████████████████████████████████████████████████████████████████| 6145/6145 [01:50<00:00, 55.67it/s]\n",
      "100%|███████████████████████████████████████████████████████████████████████████████| 1229/1229 [00:17<00:00, 71.03it/s]\n"
     ]
    },
    {
     "name": "stdout",
     "output_type": "stream",
     "text": [
      "Epoch 19, Train Loss: 0.0092, Train Acc: 91.65%\n",
      "Val Loss: 0.0112, Val Acc: 90.51%\n"
     ]
    },
    {
     "name": "stderr",
     "output_type": "stream",
     "text": [
      "100%|███████████████████████████████████████████████████████████████████████████████| 6145/6145 [01:48<00:00, 56.50it/s]\n",
      "100%|███████████████████████████████████████████████████████████████████████████████| 1229/1229 [00:17<00:00, 69.79it/s]\n"
     ]
    },
    {
     "name": "stdout",
     "output_type": "stream",
     "text": [
      "Epoch 20, Train Loss: 0.0091, Train Acc: 91.79%\n",
      "Val Loss: 0.0111, Val Acc: 90.50%\n",
      "Best Validation Accuracy: 90.51%\n",
      "Testing...\n"
     ]
    },
    {
     "name": "stderr",
     "output_type": "stream",
     "text": [
      "100%|█████████████████████████████████████████████████████████████████████████████| 69160/69160 [16:04<00:00, 71.68it/s]"
     ]
    },
    {
     "name": "stdout",
     "output_type": "stream",
     "text": [
      "Test Accuracy: 76.24%\n"
     ]
    },
    {
     "name": "stderr",
     "output_type": "stream",
     "text": [
      "\n"
     ]
    }
   ],
   "source": [
    "model, optimizer = get_model()\n",
    "benchmark(model, optimizer, train_loader, val_loader, test_loader)"
   ]
  },
  {
   "cell_type": "markdown",
   "metadata": {},
   "source": [
    "## Node Feature Augmentation"
   ]
  },
  {
   "cell_type": "markdown",
   "metadata": {},
   "source": [
    "### Why Positional Encoding?"
   ]
  },
  {
   "cell_type": "markdown",
   "metadata": {},
   "source": [
    "In Graph Neural Networks (GNNs), unless nodes possess distinguishing features, isomorphic nodes will inevitably share identical embeddings. If the nodes already have meaningful features that uniquely identify them, this is ideal. However, failing this, additional feature augmentations are required. Basing this augmentation on the position of the node in the graph is known as positional encoding, and provides an inductive bias that helps with learning. A simplified example is provided below to illustrate its functionality."
   ]
  },
  {
   "cell_type": "code",
   "execution_count": 18,
   "metadata": {},
   "outputs": [],
   "source": [
    "import networkx as nx\n",
    "import matplotlib.pyplot as plt\n",
    "from torch_geometric.utils import to_networkx\n",
    "from pylab import show"
   ]
  },
  {
   "cell_type": "markdown",
   "metadata": {},
   "source": [
    "Here, we create a small random graph to demonstrate on. We set the number of nodes to 10, make a constant feature of 1 for every node, and create 20 random edges. Feel free to adjust the number of nodes and edges if you'd like."
   ]
  },
  {
   "cell_type": "code",
   "execution_count": 19,
   "metadata": {},
   "outputs": [
    {
     "data": {
      "text/plain": [
       "(Data(x=[10], edge_index=[2, 20], num_nodes=10), tensor(1.))"
      ]
     },
     "execution_count": 19,
     "metadata": {},
     "output_type": "execute_result"
    }
   ],
   "source": [
    "from torch_geometric.data import Data\n",
    "\n",
    "num_nodes = 10\n",
    "simple_x = torch.ones(num_nodes)\n",
    "simple_edge_index = torch.randint(num_nodes, (2, num_nodes*2))\n",
    "simple_data = Data(x=simple_x, edge_index=simple_edge_index, num_nodes=num_nodes)\n",
    "simple_data, simple_data.x[0]"
   ]
  },
  {
   "cell_type": "markdown",
   "metadata": {},
   "source": [
    "This random graph is visualized below, based on its features. All the nodes are the same color, blue, because we have constant features."
   ]
  },
  {
   "cell_type": "code",
   "execution_count": 20,
   "metadata": {},
   "outputs": [
    {
     "data": {
      "image/png": "[encoded data removed]",
      "text/plain": [
       "<Figure size 300x300 with 1 Axes>"
      ]
     },
     "metadata": {},
     "output_type": "display_data"
    }
   ],
   "source": [
    "G = to_networkx(simple_data)\n",
    "plt.figure(figsize=(3,3))\n",
    "pos = nx.spring_layout(G)\n",
    "node_color = [simple_data.x[node] for node in G.nodes()]\n",
    "nx.draw(G, pos=pos, cmap=plt.get_cmap('coolwarm'), node_color=node_color)\n",
    "show()"
   ]
  },
  {
   "cell_type": "markdown",
   "metadata": {},
   "source": [
    "### Random Walk Positional Encoding (RWPE)"
   ]
  },
  {
   "cell_type": "markdown",
   "metadata": {},
   "source": [
    "PyG supports two kinds of positional encoding, the first being Random Walk Positional Encoding. As the name implies, this method is based on the random walk diffusion process. Given a hyperparameter `walk_length` and node `v`, we calculate the probability that a random walk originating at `v` will land back on `v` after 1, 2, 3, ..., `walk_length` steps. This becomes a vector of `walk_length` length that we can concatenate to its original feature vector. Note that, since this is based on a random walk, if two nodes have the exact same neighborhood structure, they will still have the same positional encoding. The upside is that if the structures vary, even at a very far distance, this positional encoding will help differentiate them without using quite so many GNN layers."
   ]
  },
  {
   "cell_type": "code",
   "execution_count": 21,
   "metadata": {},
   "outputs": [
    {
     "data": {
      "text/plain": [
       "(Data(x=[10, 4], edge_index=[2, 20], num_nodes=10), tensor([1., 0., 0., 0.]))"
      ]
     },
     "execution_count": 21,
     "metadata": {},
     "output_type": "execute_result"
    }
   ],
   "source": [
    "walk_length = 3\n",
    "rwpe = T.AddRandomWalkPE(walk_length=walk_length, attr_name=None)\n",
    "rwpe(simple_data), rwpe(simple_data).x[0]"
   ]
  },
  {
   "cell_type": "markdown",
   "metadata": {},
   "source": [
    "To visualize the changed node features, we map the norm of the feature vector to colors. We can see that some of the nodes have clearly differentiated themselves, as we intended."
   ]
  },
  {
   "cell_type": "code",
   "execution_count": 22,
   "metadata": {},
   "outputs": [
    {
     "data": {
      "image/png": "[encoded data removed]",
      "text/plain": [
       "<Figure size 300x300 with 1 Axes>"
      ]
     },
     "metadata": {},
     "output_type": "display_data"
    }
   ],
   "source": [
    "plt.figure(figsize=(3,3))\n",
    "node_color = [torch.norm(rwpe(simple_data).x[node]) for node in G.nodes()]\n",
    "nx.draw(G, pos=pos, cmap=plt.get_cmap('coolwarm'), node_color=node_color)\n",
    "show()"
   ]
  },
  {
   "cell_type": "markdown",
   "metadata": {},
   "source": [
    "### Laplacian Eigenvector Positional Encoding (LapPE)"
   ]
  },
  {
   "cell_type": "markdown",
   "metadata": {},
   "source": [
    "If we want a positional encoding that will provide stronger uniqueness to each node, we can use the Laplacian Eigenvector Positional Encoding. This takes the first `lappe_k` eigenvectors of the graph's laplacian matrix (where `lappe_k` is a hyperparameter) and adds it to the node feature matrix. This is not only unique, but is distance-sensitive with respect to the Euclidean norm. One thing to be careful of is that since `lappe_k` is the number of eigenvectors to look at, this shouldn't exceed the number of nodes."
   ]
  },
  {
   "cell_type": "code",
   "execution_count": 23,
   "metadata": {},
   "outputs": [
    {
     "data": {
      "text/plain": [
       "(Data(x=[10, 4], edge_index=[2, 20], num_nodes=10),\n",
       " tensor([ 1.0000,  0.0000, -0.7071, -0.0000]))"
      ]
     },
     "execution_count": 23,
     "metadata": {},
     "output_type": "execute_result"
    }
   ],
   "source": [
    "lappe_k = 3\n",
    "lappe = T.AddLaplacianEigenvectorPE(k=lappe_k, is_undirected=True, attr_name=None)\n",
    "lappe(simple_data), lappe(simple_data).x[0]"
   ]
  },
  {
   "cell_type": "markdown",
   "metadata": {},
   "source": [
    "Below, we see that the node features have become much more varied. A limitation exists with this method as well, however, and it is that eigenvectors are sign-ambiguous. An eigenvector with the signs flipped is still the eigenvector of the same eigenvalue, and since we don't have a clear way of deciding which one to choose at each time, a model using this PE scheme must learn to be invariant towards the sign flip. "
   ]
  },
  {
   "cell_type": "code",
   "execution_count": 24,
   "metadata": {},
   "outputs": [
    {
     "data": {
      "image/png": "[encoded data removed]",
      "text/plain": [
       "<Figure size 300x300 with 1 Axes>"
      ]
     },
     "metadata": {},
     "output_type": "display_data"
    }
   ],
   "source": [
    "plt.figure(figsize=(3,3))\n",
    "node_color = [np.linalg.norm(lappe(simple_data).x[node]) for node in G.nodes()]\n",
    "nx.draw(G, pos=pos, cmap=plt.get_cmap('coolwarm'), node_color=node_color)\n",
    "show()"
   ]
  },
  {
   "cell_type": "markdown",
   "metadata": {},
   "source": [
    "### Benchmark Node Feature Augmentation Methods"
   ]
  },
  {
   "cell_type": "markdown",
   "metadata": {},
   "source": [
    "Now, we'll benchmark these methods on ogbn-products. ogbn-products have node features that are already quite distinctive for each feature, so positional encodings don't actually improve the performance by much. But we can still see that it does not hurt performance, and is a stable addition for any dataset."
   ]
  },
  {
   "cell_type": "code",
   "execution_count": 25,
   "metadata": {},
   "outputs": [],
   "source": [
    "walk_length = 16\n",
    "rwpe = T.AddRandomWalkPE(walk_length=walk_length, attr_name=None)"
   ]
  },
  {
   "cell_type": "code",
   "execution_count": null,
   "metadata": {},
   "outputs": [
    {
     "name": "stderr",
     "output_type": "stream",
     "text": [
      "  0%|                                                                                          | 0/6145 [00:00<?, ?it/s]/home/adel/.local/lib/python3.8/site-packages/torch_geometric/utils/sparse.py:277: UserWarning: Sparse CSR tensor support is in beta state. If you miss a functionality in the sparse tensor support, please submit a feature request to https://github.com/pytorch/pytorch/issues. (Triggered internally at ../aten/src/ATen/SparseCsrTensorImpl.cpp:53.)\n",
      "  adj = torch.sparse_csr_tensor(\n",
      "100%|███████████████████████████████████████████████████████████████████████████████| 6145/6145 [11:37<00:00,  8.81it/s]\n",
      "100%|███████████████████████████████████████████████████████████████████████████████| 1229/1229 [02:10<00:00,  9.41it/s]\n"
     ]
    },
    {
     "name": "stdout",
     "output_type": "stream",
     "text": [
      "Epoch 01, Train Loss: 0.0282, Train Acc: 76.88%\n",
      "Val Loss: 0.0185, Val Acc: 84.82%\n"
     ]
    },
    {
     "name": "stderr",
     "output_type": "stream",
     "text": [
      "100%|███████████████████████████████████████████████████████████████████████████████| 6145/6145 [10:54<00:00,  9.39it/s]\n",
      "100%|███████████████████████████████████████████████████████████████████████████████| 1229/1229 [02:12<00:00,  9.31it/s]\n"
     ]
    },
    {
     "name": "stdout",
     "output_type": "stream",
     "text": [
      "Epoch 02, Train Loss: 0.0164, Train Acc: 86.05%\n",
      "Val Loss: 0.0161, Val Acc: 86.65%\n"
     ]
    },
    {
     "name": "stderr",
     "output_type": "stream",
     "text": [
      "100%|███████████████████████████████████████████████████████████████████████████████| 6145/6145 [11:22<00:00,  9.01it/s]\n",
      "100%|███████████████████████████████████████████████████████████████████████████████| 1229/1229 [02:44<00:00,  7.48it/s]\n"
     ]
    },
    {
     "name": "stdout",
     "output_type": "stream",
     "text": [
      "Epoch 03, Train Loss: 0.0145, Train Acc: 87.43%\n",
      "Val Loss: 0.0148, Val Acc: 87.67%\n"
     ]
    },
    {
     "name": "stderr",
     "output_type": "stream",
     "text": [
      "100%|███████████████████████████████████████████████████████████████████████████████| 6145/6145 [11:04<00:00,  9.25it/s]\n",
      "100%|███████████████████████████████████████████████████████████████████████████████| 1229/1229 [01:53<00:00, 10.87it/s]\n"
     ]
    },
    {
     "name": "stdout",
     "output_type": "stream",
     "text": [
      "Epoch 04, Train Loss: 0.0135, Train Acc: 88.23%\n",
      "Val Loss: 0.0141, Val Acc: 88.19%\n"
     ]
    },
    {
     "name": "stderr",
     "output_type": "stream",
     "text": [
      "100%|███████████████████████████████████████████████████████████████████████████████| 6145/6145 [10:10<00:00, 10.07it/s]\n",
      "100%|███████████████████████████████████████████████████████████████████████████████| 1229/1229 [02:03<00:00,  9.92it/s]\n"
     ]
    },
    {
     "name": "stdout",
     "output_type": "stream",
     "text": [
      "Epoch 05, Train Loss: 0.0128, Train Acc: 88.83%\n",
      "Val Loss: 0.0136, Val Acc: 88.55%\n"
     ]
    },
    {
     "name": "stderr",
     "output_type": "stream",
     "text": [
      "100%|███████████████████████████████████████████████████████████████████████████████| 6145/6145 [12:32<00:00,  8.16it/s]\n",
      "100%|███████████████████████████████████████████████████████████████████████████████| 1229/1229 [03:07<00:00,  6.54it/s]\n"
     ]
    },
    {
     "name": "stdout",
     "output_type": "stream",
     "text": [
      "Epoch 06, Train Loss: 0.0121, Train Acc: 89.26%\n",
      "Val Loss: 0.0131, Val Acc: 88.93%\n"
     ]
    },
    {
     "name": "stderr",
     "output_type": "stream",
     "text": [
      " 24%|██████████████████▉                                                            | 1471/6145 [02:49<11:21,  6.86it/s]"
     ]
    }
   ],
   "source": [
    "model, optimizer = get_model(input_dim=input_dim+walk_length)\n",
    "benchmark(model, optimizer, train_loader, val_loader, test_loader, rwpe)"
   ]
  },
  {
   "cell_type": "code",
   "execution_count": null,
   "metadata": {},
   "outputs": [],
   "source": [
    "lappe_k = 16\n",
    "lappe = T.AddLaplacianEigenvectorPE(k=lappe_k, is_undirected=True, attr_name=None)"
   ]
  },
  {
   "cell_type": "code",
   "execution_count": null,
   "metadata": {},
   "outputs": [],
   "source": [
    "model, optimizer = get_model(input_dim=input_dim+lappe_k)\n",
    "benchmark(model, optimizer, train_loader, val_loader, test_loader, lappe)"
   ]
  }
 ],
 "metadata": {
  "accelerator": "GPU",
  "colab": {
   "gpuType": "T4",
   "provenance": []
  },
  "kernelspec": {
   "display_name": "Python 3 (ipykernel)",
   "language": "python",
   "name": "python3"
  },
  "language_info": {
   "codemirror_mode": {
    "name": "ipython",
    "version": 3
   },
   "file_extension": ".py",
   "mimetype": "text/x-python",
   "name": "python",
   "nbconvert_exporter": "python",
   "pygments_lexer": "ipython3",
   "version": "3.8.10"
  }
 },
 "nbformat": 4,
 "nbformat_minor": 4
}
