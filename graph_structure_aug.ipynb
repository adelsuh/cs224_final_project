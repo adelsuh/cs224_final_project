{
  "cells": [
    {
      "cell_type": "markdown",
      "metadata": {
        "id": "view-in-github",
        "colab_type": "text"
      },
      "source": [
        "<a href=\"https://colab.research.google.com/github/adelsuh/cs224_final_project/blob/main/graph_structure_aug.ipynb\" target=\"_parent\"><img src=\"https://colab.research.google.com/assets/colab-badge.svg\" alt=\"Open In Colab\"/></a>"
      ]
    },
    {
      "cell_type": "markdown",
      "metadata": {
        "id": "kS6ESNtSpN-z"
      },
      "source": [
        "# CS224W Final Project: Tutorial on the Augmentation of Graphs in PyG using Structural Augmentations\n",
        "\n",
        "### Jerry Chan, Jihee Suh, John So"
      ]
    },
    {
      "cell_type": "markdown",
      "source": [
        "Data augmentation is a widely used technique that leverages existing data to further train a model, improving its performance and generalization. For structured data formats such as images, augmentation methods can be quite straightforward, including operations like cropping, resizing, rotating, and adding noise. These augmentations are useful for reducing overfitting to the training dataset and adding invariance to certain transformations, such as color shifts, different camera models, and even different camera poses.\n",
        "\n",
        "PyG provides support for dataset augmentations, which primarily inherit from the `torch_geometric.transforms` class. In this Colab, we will cover how augmentations can modify the graph structure to improve performance in inductive graph learning settings."
      ],
      "metadata": {
        "id": "e3x01tiCqdur"
      }
    },
    {
      "cell_type": "markdown",
      "metadata": {
        "id": "iPsmdGx7UJ4z"
      },
      "source": [
        "### Notebook setup: install PyG + torch"
      ]
    },
    {
      "cell_type": "code",
      "execution_count": 1,
      "metadata": {
        "colab": {
          "base_uri": "https://localhost:8080/"
        },
        "collapsed": true,
        "id": "pS2qTpqApIRS",
        "outputId": "830f62c8-844a-4d0f-8660-c4a8528adda6"
      },
      "outputs": [
        {
          "output_type": "stream",
          "name": "stdout",
          "text": [
            "2.4.0+cu121\n"
          ]
        }
      ],
      "source": [
        "import torch\n",
        "torch_version = str(torch.__version__)\n",
        "if \"2.4.0\" not in torch_version:\n",
        "  !pip install torch==2.4.0 -q\n",
        "print(torch_version)"
      ]
    },
    {
      "cell_type": "code",
      "execution_count": 2,
      "metadata": {
        "colab": {
          "base_uri": "https://localhost:8080/"
        },
        "collapsed": true,
        "id": "dies5CJuqmum",
        "outputId": "c8672f22-f97c-448e-97e8-ce210e64ed75"
      },
      "outputs": [
        {
          "output_type": "stream",
          "name": "stdout",
          "text": [
            "\u001b[2K     \u001b[90m━━━━━━━━━━━━━━━━━━━━━━━━━━━━━━━━━━━━━━━━\u001b[0m \u001b[32m10.9/10.9 MB\u001b[0m \u001b[31m23.7 MB/s\u001b[0m eta \u001b[36m0:00:00\u001b[0m\n",
            "\u001b[2K     \u001b[90m━━━━━━━━━━━━━━━━━━━━━━━━━━━━━━━━━━━━━━━━\u001b[0m \u001b[32m5.1/5.1 MB\u001b[0m \u001b[31m17.0 MB/s\u001b[0m eta \u001b[36m0:00:00\u001b[0m\n",
            "\u001b[2K     \u001b[90m━━━━━━━━━━━━━━━━━━━━━━━━━━━━━━━━━━━━━━━━\u001b[0m \u001b[32m63.1/63.1 kB\u001b[0m \u001b[31m2.6 MB/s\u001b[0m eta \u001b[36m0:00:00\u001b[0m\n",
            "\u001b[2K   \u001b[90m━━━━━━━━━━━━━━━━━━━━━━━━━━━━━━━━━━━━━━━━\u001b[0m \u001b[32m1.1/1.1 MB\u001b[0m \u001b[31m23.6 MB/s\u001b[0m eta \u001b[36m0:00:00\u001b[0m\n",
            "\u001b[2K   \u001b[90m━━━━━━━━━━━━━━━━━━━━━━━━━━━━━━━━━━━━━━━━\u001b[0m \u001b[32m78.8/78.8 kB\u001b[0m \u001b[31m3.2 MB/s\u001b[0m eta \u001b[36m0:00:00\u001b[0m\n",
            "\u001b[?25h"
          ]
        }
      ],
      "source": [
        "scatter_src = f\"https://pytorch-geometric.com/whl/torch-{torch_version}.html\"\n",
        "sparse_src = f\"https://pytorch-geometric.com/whl/torch-{torch_version}.html\"\n",
        "!pip install torch-scatter -f $scatter_src -q\n",
        "!pip install torch-sparse -f $sparse_src -q\n",
        "!pip install torch-geometric -q\n",
        "!pip install ogb -q"
      ]
    },
    {
      "cell_type": "code",
      "execution_count": 3,
      "metadata": {
        "colab": {
          "base_uri": "https://localhost:8080/"
        },
        "id": "0uIk066oMxUJ",
        "outputId": "653e8a9e-92ed-4113-cf97-a8ee5db77e0e"
      },
      "outputs": [
        {
          "output_type": "stream",
          "name": "stdout",
          "text": [
            "using device: cpu\n"
          ]
        }
      ],
      "source": [
        "import os\n",
        "import random\n",
        "import numpy as np\n",
        "import torch\n",
        "\n",
        "def seed_everything(seed):\n",
        "    random.seed(seed)\n",
        "    np.random.seed(seed)\n",
        "    os.environ[\"PYTHONHASHSEED\"] = str(seed)\n",
        "    torch.manual_seed(seed)\n",
        "    torch.cuda.manual_seed(seed)\n",
        "    torch.backends.cudnn.deterministic = True\n",
        "    torch.backends.cudnn.benchmark = False\n",
        "\n",
        "seed_everything(42)\n",
        "\n",
        "device = 'cuda' if torch.cuda.is_available() else 'cpu'\n",
        "print(f\"using device: {device}\")"
      ]
    },
    {
      "cell_type": "markdown",
      "metadata": {
        "id": "euGXjAPU1Ss4"
      },
      "source": [
        "### Setting up the dataset and tasks\n",
        "\n",
        "The below code sets up some hyperparameters which will be used in dataloading and training.\n"
      ]
    },
    {
      "cell_type": "code",
      "execution_count": 4,
      "metadata": {
        "cellView": "form",
        "colab": {
          "base_uri": "https://localhost:8080/"
        },
        "id": "Eg2APSF7WvSq",
        "outputId": "6ac24ece-fe84-4fe3-f6d1-5fbe8bb5d6a2"
      },
      "outputs": [
        {
          "output_type": "stream",
          "name": "stdout",
          "text": [
            "\n",
            "Running training with the following configuration:\n",
            "   hidden_dim: 128\n",
            "   num_layers: 4\n",
            "   learning_rate: 0.0001\n",
            "   num_epochs: 10\n",
            "   batch_size: 32\n",
            "\n"
          ]
        }
      ],
      "source": [
        "# Model settings\n",
        "hidden_dim = 128 #@param {type: \"integer\"}\n",
        "num_layers = 4 #@param {type: \"integer\"}\n",
        "# Training settings\n",
        "learning_rate = 0.0001 #@param {type: \"number\"}\n",
        "num_epochs = 25 #@param {type: \"integer\"}\n",
        "\n",
        "# Dataloader settings\n",
        "batch_size = 32 #@param {type: \"integer\"}\n",
        "fan_out = 30 #@param {type: \"integer\", hint: \"Used in neighborhood sampling to sample a subgraph\"}\n",
        "dataloader_num_workers = 2 #@param {type: \"integer\"}\n",
        "\n",
        "print(f\"\"\"\n",
        "Running training with the following configuration:\n",
        "   hidden_dim: {hidden_dim}\n",
        "   num_layers: {num_layers}\n",
        "   learning_rate: {learning_rate}\n",
        "   num_epochs: {num_epochs}\n",
        "   batch_size: {batch_size}\n",
        "\"\"\")"
      ]
    },
    {
      "cell_type": "markdown",
      "metadata": {
        "id": "fNIrDcPdY9ot"
      },
      "source": [
        "### Task: Node property prediction with GraphSAGE\n",
        "\n",
        "For this tutorial, we will consider the [ogbn-arxiv](https://ogb.stanford.edu/docs/nodeprop/) dataset from the Open Graph Benchmark (OGB). This dataset consists of ~170K nodes and ~1.2M directed edges. Each node represents an arXiv CS paper, and each edge represents the citation network between arXiv papers. The prediction task is to predict one of 40 labels for each node (i.e. CS.AI, CS.OS, etc.), given a 128-dimensional feature vector consisting of averaged language embeddings for the arXiv paper."
      ]
    },
    {
      "cell_type": "markdown",
      "source": [
        "Run the below block to create the dataset. If this is your first time loading the dataset, it will additionally prompt you to download files.\n",
        "\n",
        "**Note**: this block loads the dataset into RAM each time it is called! So calling this block multiple times will likely consume all of the notebook's RAM. Take caution."
      ],
      "metadata": {
        "id": "TQcL9AQVqt36"
      }
    },
    {
      "cell_type": "code",
      "execution_count": 5,
      "metadata": {
        "colab": {
          "base_uri": "https://localhost:8080/"
        },
        "id": "TjEjRXaMZLqZ",
        "outputId": "02a0f6c8-af9f-4c77-c462-721d153c609a"
      },
      "outputs": [
        {
          "output_type": "stream",
          "name": "stdout",
          "text": [
            "Downloading http://snap.stanford.edu/ogb/data/nodeproppred/arxiv.zip\n"
          ]
        },
        {
          "output_type": "stream",
          "name": "stderr",
          "text": [
            "Downloaded 0.08 GB: 100%|██████████| 81/81 [00:02<00:00, 32.03it/s]\n"
          ]
        },
        {
          "output_type": "stream",
          "name": "stdout",
          "text": [
            "Extracting ./arxiv/arxiv.zip\n"
          ]
        },
        {
          "output_type": "stream",
          "name": "stderr",
          "text": [
            "Processing...\n"
          ]
        },
        {
          "output_type": "stream",
          "name": "stdout",
          "text": [
            "Loading necessary files...\n",
            "This might take a while.\n",
            "Processing graphs...\n"
          ]
        },
        {
          "output_type": "stream",
          "name": "stderr",
          "text": [
            "100%|██████████| 1/1 [00:00<00:00, 3771.86it/s]\n"
          ]
        },
        {
          "output_type": "stream",
          "name": "stdout",
          "text": [
            "Converting graphs into PyG objects...\n"
          ]
        },
        {
          "output_type": "stream",
          "name": "stderr",
          "text": [
            "100%|██████████| 1/1 [00:00<00:00, 2407.75it/s]"
          ]
        },
        {
          "output_type": "stream",
          "name": "stdout",
          "text": [
            "Saving...\n"
          ]
        },
        {
          "output_type": "stream",
          "name": "stderr",
          "text": [
            "\n",
            "Done!\n",
            "/usr/local/lib/python3.10/dist-packages/ogb/nodeproppred/dataset_pyg.py:69: FutureWarning: You are using `torch.load` with `weights_only=False` (the current default value), which uses the default pickle module implicitly. It is possible to construct malicious pickle data which will execute arbitrary code during unpickling (See https://github.com/pytorch/pytorch/blob/main/SECURITY.md#untrusted-models for more details). In a future release, the default value for `weights_only` will be flipped to `True`. This limits the functions that could be executed during unpickling. Arbitrary objects will no longer be allowed to be loaded via this mode unless they are explicitly allowlisted by the user via `torch.serialization.add_safe_globals`. We recommend you start setting `weights_only=True` for any use case where you don't have full control of the loaded file. Please open an issue on GitHub for any issues related to this experimental feature.\n",
            "  self.data, self.slices = torch.load(self.processed_paths[0])\n"
          ]
        }
      ],
      "source": [
        "from ogb.nodeproppred import PygNodePropPredDataset\n",
        "dataset = PygNodePropPredDataset(name='ogbn-arxiv', root='./arxiv/')"
      ]
    },
    {
      "cell_type": "markdown",
      "source": [
        "We'll approach this as an *inductive graph prediction* problem; we want to train one network across many graphs, such that when given new nodes in the graph, or entirely new graphs, our predictor can generalize. To aid with this, the `ogbn-arxiv` dataset provides dataset splits:\n",
        "\n",
        "- **train split**: CS papers published up until 2017\n",
        "- **validation split**: CS papers published during 2018\n",
        "- **test split**: CS papers published during or after 2019.\n",
        "\n",
        "We'll train on the subgraphs on the train split, then optimize parameters based on performance on the validation split. Lastly, we'll report the performance of methods on the test split."
      ],
      "metadata": {
        "id": "UdW5CelBqwK3"
      }
    },
    {
      "cell_type": "code",
      "execution_count": 12,
      "metadata": {
        "colab": {
          "base_uri": "https://localhost:8080/"
        },
        "id": "bKdSKWebalo3",
        "outputId": "6b535169-f787-4593-94b4-5976c7baf806"
      },
      "outputs": [
        {
          "output_type": "stream",
          "name": "stdout",
          "text": [
            "\n",
            "Summary of the OBGN Arxiv dataset:\n",
            "  Number of graphs: 1\n",
            "  Number of features: 128\n",
            "  Number of classes: 40\n",
            "  Length of each split:\n",
            "    Training: 90941\n",
            "    Validation: 29799\n",
            "    Test: 48603\n",
            "\n"
          ]
        }
      ],
      "source": [
        "split_idx = dataset.get_idx_split()\n",
        "print(f\"\"\"\n",
        "Summary of the OBGN Arxiv dataset:\n",
        "  Number of graphs: {len(dataset)}\n",
        "  Number of features: {dataset.num_features}\n",
        "  Number of classes: {dataset.num_classes}\n",
        "  Length of each split:\n",
        "    Training: {len(split_idx['train'])}\n",
        "    Validation: {len(split_idx['valid'])}\n",
        "    Test: {len(split_idx['test'])}\n",
        "\"\"\")"
      ]
    },
    {
      "cell_type": "markdown",
      "metadata": {
        "id": "aUYQHiFYYloB"
      },
      "source": [
        "Now, let's create some dataloaders. Training GNNs on graphs with 100k+ node is computationally prohibitive, making full-batch training infeasible. To address this, we can use neighbor sampling, a technique designed for efficient mini-batch training on large graphs by sampling smaller subgraphs. In particular, PyG provides native functionality for this with the `NeighborLoader` class.\n",
        "\n",
        "The `num_neighbors` parameter controls how neighbors are sampled. It consists of a length $k$ list of integers, and performs $k$ sampling iterations. Starting from a sampled node, NeighborLoader samples `num_neighbors[i]` neighbors from nodes involved in the previous iteration. In our code, we sample $k$-hop neighborhoods, where $k$ is the depth of our GNN. This approach ensures scalability by iteratively constructing smaller, representative sub-graphs while preserving the graph structure necessary for effective learning."
      ]
    },
    {
      "cell_type": "code",
      "execution_count": 13,
      "metadata": {
        "colab": {
          "base_uri": "https://localhost:8080/"
        },
        "id": "f3loxjdsYkwv",
        "outputId": "f11a9b1b-5d4a-49f6-9bba-4a7a4cf8722c"
      },
      "outputs": [
        {
          "output_type": "stream",
          "name": "stderr",
          "text": [
            "/usr/local/lib/python3.10/dist-packages/torch_geometric/sampler/neighbor_sampler.py:61: UserWarning: Using 'NeighborSampler' without a 'pyg-lib' installation is deprecated and will be removed soon. Please install 'pyg-lib' for accelerated neighborhood sampling\n",
            "  warnings.warn(f\"Using '{self.__class__.__name__}' without a \"\n"
          ]
        }
      ],
      "source": [
        "from torch_geometric.loader import NeighborLoader\n",
        "\n",
        "data = dataset[0]\n",
        "train_loader = NeighborLoader(\n",
        "    data,\n",
        "    input_nodes=split_idx['train'],\n",
        "    num_neighbors=[fan_out] * num_layers,\n",
        "    batch_size=batch_size,\n",
        "    shuffle=True,\n",
        "    pin_memory=True,\n",
        "    num_workers=dataloader_num_workers\n",
        ")\n",
        "val_loader = NeighborLoader(\n",
        "    data,\n",
        "    input_nodes=split_idx['valid'],\n",
        "    num_neighbors=[fan_out] * num_layers,\n",
        "    batch_size=batch_size,\n",
        "    shuffle=True,\n",
        "    num_workers=dataloader_num_workers,\n",
        ")\n",
        "test_loader = NeighborLoader(\n",
        "    data,\n",
        "    input_nodes=split_idx['test'],\n",
        "    num_neighbors=[fan_out] * num_layers,\n",
        "    batch_size=batch_size,\n",
        "    shuffle=True,\n",
        "    num_workers=0\n",
        ")"
      ]
    },
    {
      "cell_type": "code",
      "execution_count": 14,
      "metadata": {
        "colab": {
          "base_uri": "https://localhost:8080/"
        },
        "id": "0HmhMpxvuxO0",
        "outputId": "437aa139-da30-40cf-87bd-465b3b68c723"
      },
      "outputs": [
        {
          "output_type": "stream",
          "name": "stdout",
          "text": [
            "Example batch:\n",
            "Data(num_nodes=5180, edge_index=[2, 7805], x=[5180, 128], node_year=[5180, 1], y=[5180, 1], n_id=[5180], e_id=[7805], input_id=[32], batch_size=32)\n"
          ]
        }
      ],
      "source": [
        "print(f\"Example batch:\")\n",
        "train_batch = next(iter(train_loader))\n",
        "print(train_batch)"
      ]
    },
    {
      "cell_type": "markdown",
      "metadata": {
        "id": "YRim-oBTUVSe"
      },
      "source": [
        "### Training and Evaluation Utilities"
      ]
    },
    {
      "cell_type": "markdown",
      "source": [
        "Given this dataset, let's now choose a GNN model. For the purposes of this tutorial, we will choose a simple yet powerful network. [GraphSage](https://arxiv.org/abs/1706.02216) (Hamilton 2017) leverages node features and neighborhood aggregation to learn deep features for nodes. This lends itself to a variety of prediction problems, including our node classification problem.\n",
        "\n",
        "PyG includes a native implementation of [GraphSAGE](https://pytorch-geometric.readthedocs.io/en/2.5.3/generated/torch_geometric.nn.models.GraphSAGE.html), which we will use to construct our predictor. The predictor consists of a GraphSAGE model to learn deep node embeddings. Then, we pass in a small MLP to output prediction logits for each node."
      ],
      "metadata": {
        "id": "QwWE9Jdeq2Ue"
      }
    },
    {
      "cell_type": "code",
      "execution_count": 15,
      "metadata": {
        "id": "RGBPUxkQ2R7H"
      },
      "outputs": [],
      "source": [
        "from torch_geometric.nn.models import GraphSAGE\n",
        "\n",
        "input_dim = dataset.num_features\n",
        "\n",
        "def get_model():\n",
        "    class GraphSAGENodeClassification(torch.nn.Module):\n",
        "        def __init__(self, input_dim, hidden_dim, num_layers, num_classes):\n",
        "            super(GraphSAGENodeClassification, self).__init__()\n",
        "            self.graph_sage = GraphSAGE(in_channels = input_dim, hidden_channels = hidden_dim, num_layers=num_layers)\n",
        "            self.cls_head = torch.nn.Sequential(\n",
        "                torch.nn.Dropout(0.1),\n",
        "                torch.nn.ReLU(),\n",
        "                torch.nn.Linear(hidden_dim, num_classes),\n",
        "            )\n",
        "            self.loss_fn = torch.nn.CrossEntropyLoss()\n",
        "\n",
        "        def forward(self, x, edge_index):\n",
        "            h = self.graph_sage(x, edge_index)\n",
        "            return self.cls_head(h)\n",
        "\n",
        "    model = GraphSAGENodeClassification(input_dim, hidden_dim, num_layers, dataset.num_classes)\n",
        "    optimizer = torch.optim.Adam(model.parameters(), lr=learning_rate)\n",
        "    model.to(device)\n",
        "    return model, optimizer"
      ]
    },
    {
      "cell_type": "markdown",
      "metadata": {
        "id": "oQk7f7vrcPKR"
      },
      "source": [
        "Next, we'll define some helper functions, `train_one_epoch` and `test` below. Notably, our functions will take in two arguments:\n",
        "- `transform`: whether to apply a unary transformation function to the data, such as removing nodes or adding features.\n",
        "- `filter_output_fn`: whether to apply a binary transformation function to the output. This is intended to handle any extra information introduced by the transformation.\n"
      ]
    },
    {
      "cell_type": "code",
      "execution_count": 10,
      "metadata": {
        "id": "KWZejP8NNFlG"
      },
      "outputs": [],
      "source": [
        "from tqdm import tqdm\n",
        "\n",
        "# training process\n",
        "def train_one_epoch(model,\n",
        "                    dataloader,\n",
        "                    optimizer,\n",
        "                    transform=None,\n",
        "                    filter_output_fn=None):\n",
        "    \"\"\"\n",
        "    Run one epoch of training on the model on the given dataset.\n",
        "\n",
        "    Args:\n",
        "        model (torch.nn.Module): The model to evaluate.\n",
        "        dataloader (torch.utils.data.DataLoader): The dataloader for the dataset.\n",
        "        transform: if specified and apply_transform is True, a transformation to apply to each batch\n",
        "        filter_output_fn: if specified and apply_transform is True, a transformation to apply to the output of each batch.\n",
        "    \"\"\"\n",
        "    model.train()\n",
        "\n",
        "    # define stats\n",
        "    total_loss = 0\n",
        "    total_correct = 0\n",
        "    num_examples = 0\n",
        "\n",
        "    for batch in tqdm(dataloader):\n",
        "\n",
        "        # transform batch if needed\n",
        "        batch_size = batch.batch_size\n",
        "        batch = batch.to(device)\n",
        "        if transform is not None:\n",
        "          batch = transform(batch)\n",
        "        # forward pass\n",
        "        optimizer.zero_grad()\n",
        "        logits = model(batch.x, batch.edge_index)\n",
        "        if filter_output_fn is not None:\n",
        "          logits = filter_output_fn(logits, batch)\n",
        "\n",
        "        # backward pass\n",
        "        labels = batch.y.squeeze(-1)\n",
        "\n",
        "        # use only the supervision nodes; the first batch_size nodes\n",
        "        logits = logits[:batch_size]\n",
        "        labels = labels[:batch_size]\n",
        "\n",
        "        loss = model.loss_fn(logits, labels)\n",
        "        loss.backward()\n",
        "        optimizer.step()\n",
        "\n",
        "        # log stats\n",
        "        total_loss += loss.item() * batch_size\n",
        "        total_correct += logits.argmax(dim=-1).eq(labels).sum().item()\n",
        "        num_examples += batch_size\n",
        "\n",
        "    loss = total_loss / num_examples\n",
        "    acc = total_correct / num_examples\n",
        "    return loss, acc\n",
        "\n",
        "# test process\n",
        "@torch.no_grad()\n",
        "def test(model,\n",
        "         dataloader,\n",
        "         transform=None,\n",
        "         filter_output_fn=None,\n",
        "         apply_transform=True):\n",
        "    \"\"\"\n",
        "    Calculate metrics for the model on the given dataset.\n",
        "\n",
        "    Args:\n",
        "        model (torch.nn.Module): The model to evaluate.\n",
        "        dataloader (torch.utils.data.DataLoader): The dataloader for the dataset.\n",
        "        apply_transform: whether to use the arguments transform and filter_output_fn.\n",
        "        transform: if specified and apply_transform is True, a transformation to apply to each batch\n",
        "        filter_output_fn: if specified and apply_transform is True, a transformation to apply to the output of each batch.\n",
        "    \"\"\"\n",
        "    model.eval()\n",
        "\n",
        "    # define states\n",
        "    total_loss = 0\n",
        "    total_correct = 0\n",
        "    num_examples = 0\n",
        "\n",
        "    for batch in tqdm(dataloader):\n",
        "        # transform batch if needed\n",
        "        batch_size = batch.batch_size\n",
        "        batch = batch.to(device)\n",
        "        if apply_transform and (transform is not None):\n",
        "          batch = transform(batch)\n",
        "\n",
        "        # forward pass\n",
        "        logits = model(batch.x, batch.edge_index)\n",
        "        if apply_transform and (filter_output_fn is not None):\n",
        "          logits = filter_output_fn(logits, batch)\n",
        "\n",
        "        # use only the supervision nodes: the first batch_size nodes\n",
        "        labels = batch.y.squeeze(-1)\n",
        "\n",
        "        logits = logits[:batch_size]\n",
        "        labels = labels[:batch_size]\n",
        "        loss = model.loss_fn(logits, labels)\n",
        "        # log stats\n",
        "        total_loss += loss.item() * batch_size\n",
        "        total_correct += logits.argmax(dim=-1).eq(labels).sum().item()\n",
        "        num_examples += batch_size\n",
        "\n",
        "    loss = total_loss / num_examples\n",
        "    acc = total_correct / num_examples\n",
        "    return loss, acc"
      ]
    },
    {
      "cell_type": "markdown",
      "metadata": {
        "id": "7r7qVZHKdIQi"
      },
      "source": [
        "To train and evaluate the model, call the below `train` function!"
      ]
    },
    {
      "cell_type": "code",
      "execution_count": 118,
      "metadata": {
        "id": "e41neWDGY_Mw"
      },
      "outputs": [],
      "source": [
        "def train(model,\n",
        "          optimizer,\n",
        "          num_epochs,\n",
        "          transform=None,\n",
        "          filter_output_fn=None,\n",
        "          apply_transform_at_test=True):\n",
        "    all_train_acc, all_val_acc, all_test_acc = [], [], []\n",
        "    best_val_ind, best_val_acc = 0, 0\n",
        "    for epoch in range(num_epochs):\n",
        "        print(f'Epoch: {epoch+1:02d}')\n",
        "\n",
        "        # training\n",
        "        train_loss, train_acc = train_one_epoch(model,\n",
        "                                                train_loader,\n",
        "                                                optimizer,\n",
        "                                                transform,\n",
        "                                                filter_output_fn)\n",
        "        val_loss, val_acc = test(model,\n",
        "                                 val_loader,\n",
        "                                 transform,\n",
        "                                 filter_output_fn=filter_output_fn,\n",
        "                                 apply_transform=apply_transform_at_test)\n",
        "        test_loss, test_acc = test(model,\n",
        "                                   test_loader,\n",
        "                                   transform,\n",
        "                                   filter_output_fn=filter_output_fn,\n",
        "                                   apply_transform=apply_transform_at_test)\n",
        "\n",
        "        if val_acc > best_val_acc:\n",
        "            best_val_acc = val_acc\n",
        "            best_val_ind = epoch\n",
        "\n",
        "        print(f'Train {train_loss:.4f} ({100.0 * train_acc:.2f}%) | Val {val_loss:.4f} ({100.0 * val_acc:.2f}%) | Test {test_loss:.4f} ({100.0 * test_acc:.2f}%)')\n",
        "\n",
        "        all_train_acc.append(train_acc)\n",
        "        all_val_acc.append(val_acc)\n",
        "        all_test_acc.append(test_acc)\n",
        "\n",
        "    return {\n",
        "        'all_train_acc': np.array(all_train_acc),\n",
        "        'all_val_acc': np.array(all_val_acc),\n",
        "        'all_test_acc': np.array(all_test_acc),\n",
        "        'best_val_ind': best_val_ind,\n",
        "        'model': model\n",
        "    }"
      ]
    },
    {
      "cell_type": "markdown",
      "metadata": {
        "id": "7689hVEydrU7"
      },
      "source": [
        "To illustrate some example usage, let's run a baseline. This trains a GraphSAGE network with no graph structure augmentations."
      ]
    },
    {
      "cell_type": "code",
      "source": [
        "model, optimizer = get_model()\n",
        "results = train(model, optimizer, num_epochs=num_epochs)\n",
        "\n",
        "best_bl_train_acc = results['all_train_acc'][results['best_val_ind']]\n",
        "best_bl_val_acc = results['all_val_acc'][results['best_val_ind']]\n",
        "best_bl_test_acc = results['all_test_acc'][results['best_val_ind']]"
      ],
      "metadata": {
        "colab": {
          "base_uri": "https://localhost:8080/",
          "height": 400
        },
        "id": "HJREZyVzPqIr",
        "outputId": "92ea4a5f-750b-4435-bbfd-f2530bea48f2"
      },
      "execution_count": 119,
      "outputs": [
        {
          "output_type": "stream",
          "name": "stdout",
          "text": [
            "Epoch: 01\n"
          ]
        },
        {
          "output_type": "stream",
          "name": "stderr",
          "text": [
            "  7%|▋         | 196/2842 [00:21<04:53,  9.01it/s]\n"
          ]
        },
        {
          "output_type": "error",
          "ename": "KeyboardInterrupt",
          "evalue": "",
          "traceback": [
            "\u001b[0;31m---------------------------------------------------------------------------\u001b[0m",
            "\u001b[0;31mKeyboardInterrupt\u001b[0m                         Traceback (most recent call last)",
            "\u001b[0;32m<ipython-input-119-c0daaad18861>\u001b[0m in \u001b[0;36m<cell line: 2>\u001b[0;34m()\u001b[0m\n\u001b[1;32m      1\u001b[0m \u001b[0mmodel\u001b[0m\u001b[0;34m,\u001b[0m \u001b[0moptimizer\u001b[0m \u001b[0;34m=\u001b[0m \u001b[0mget_model\u001b[0m\u001b[0;34m(\u001b[0m\u001b[0;34m)\u001b[0m\u001b[0;34m\u001b[0m\u001b[0;34m\u001b[0m\u001b[0m\n\u001b[0;32m----> 2\u001b[0;31m \u001b[0mresults\u001b[0m \u001b[0;34m=\u001b[0m \u001b[0mtrain\u001b[0m\u001b[0;34m(\u001b[0m\u001b[0mmodel\u001b[0m\u001b[0;34m,\u001b[0m \u001b[0moptimizer\u001b[0m\u001b[0;34m,\u001b[0m \u001b[0mnum_epochs\u001b[0m\u001b[0;34m=\u001b[0m\u001b[0mnum_epochs\u001b[0m\u001b[0;34m)\u001b[0m\u001b[0;34m\u001b[0m\u001b[0;34m\u001b[0m\u001b[0m\n\u001b[0m\u001b[1;32m      3\u001b[0m \u001b[0;34m\u001b[0m\u001b[0m\n\u001b[1;32m      4\u001b[0m \u001b[0mbest_bl_train_acc\u001b[0m \u001b[0;34m=\u001b[0m \u001b[0mresults\u001b[0m\u001b[0;34m[\u001b[0m\u001b[0;34m'all_train_acc'\u001b[0m\u001b[0;34m]\u001b[0m\u001b[0;34m[\u001b[0m\u001b[0mresults\u001b[0m\u001b[0;34m[\u001b[0m\u001b[0;34m'best_val_ind'\u001b[0m\u001b[0;34m]\u001b[0m\u001b[0;34m]\u001b[0m\u001b[0;34m\u001b[0m\u001b[0;34m\u001b[0m\u001b[0m\n\u001b[1;32m      5\u001b[0m \u001b[0mbest_bl_val_acc\u001b[0m \u001b[0;34m=\u001b[0m \u001b[0mresults\u001b[0m\u001b[0;34m[\u001b[0m\u001b[0;34m'all_val_acc'\u001b[0m\u001b[0;34m]\u001b[0m\u001b[0;34m[\u001b[0m\u001b[0mresults\u001b[0m\u001b[0;34m[\u001b[0m\u001b[0;34m'best_val_ind'\u001b[0m\u001b[0;34m]\u001b[0m\u001b[0;34m]\u001b[0m\u001b[0;34m\u001b[0m\u001b[0;34m\u001b[0m\u001b[0m\n",
            "\u001b[0;32m<ipython-input-118-aa1fd3ab4f25>\u001b[0m in \u001b[0;36mtrain\u001b[0;34m(model, optimizer, num_epochs, transform, filter_output_fn, apply_transform_at_test)\u001b[0m\n\u001b[1;32m     11\u001b[0m \u001b[0;34m\u001b[0m\u001b[0m\n\u001b[1;32m     12\u001b[0m         \u001b[0;31m# training\u001b[0m\u001b[0;34m\u001b[0m\u001b[0;34m\u001b[0m\u001b[0m\n\u001b[0;32m---> 13\u001b[0;31m         train_loss, train_acc = train_one_epoch(model,\n\u001b[0m\u001b[1;32m     14\u001b[0m                                                 \u001b[0mtrain_loader\u001b[0m\u001b[0;34m,\u001b[0m\u001b[0;34m\u001b[0m\u001b[0;34m\u001b[0m\u001b[0m\n\u001b[1;32m     15\u001b[0m                                                 \u001b[0moptimizer\u001b[0m\u001b[0;34m,\u001b[0m\u001b[0;34m\u001b[0m\u001b[0;34m\u001b[0m\u001b[0m\n",
            "\u001b[0;32m<ipython-input-10-3f355ed4b999>\u001b[0m in \u001b[0;36mtrain_one_epoch\u001b[0;34m(model, dataloader, optimizer, transform, filter_output_fn)\u001b[0m\n\u001b[1;32m     23\u001b[0m     \u001b[0mnum_examples\u001b[0m \u001b[0;34m=\u001b[0m \u001b[0;36m0\u001b[0m\u001b[0;34m\u001b[0m\u001b[0;34m\u001b[0m\u001b[0m\n\u001b[1;32m     24\u001b[0m \u001b[0;34m\u001b[0m\u001b[0m\n\u001b[0;32m---> 25\u001b[0;31m     \u001b[0;32mfor\u001b[0m \u001b[0mbatch\u001b[0m \u001b[0;32min\u001b[0m \u001b[0mtqdm\u001b[0m\u001b[0;34m(\u001b[0m\u001b[0mdataloader\u001b[0m\u001b[0;34m)\u001b[0m\u001b[0;34m:\u001b[0m\u001b[0;34m\u001b[0m\u001b[0;34m\u001b[0m\u001b[0m\n\u001b[0m\u001b[1;32m     26\u001b[0m \u001b[0;34m\u001b[0m\u001b[0m\n\u001b[1;32m     27\u001b[0m         \u001b[0;31m# transform batch if needed\u001b[0m\u001b[0;34m\u001b[0m\u001b[0;34m\u001b[0m\u001b[0m\n",
            "\u001b[0;32m/usr/local/lib/python3.10/dist-packages/tqdm/std.py\u001b[0m in \u001b[0;36m__iter__\u001b[0;34m(self)\u001b[0m\n\u001b[1;32m   1179\u001b[0m \u001b[0;34m\u001b[0m\u001b[0m\n\u001b[1;32m   1180\u001b[0m         \u001b[0;32mtry\u001b[0m\u001b[0;34m:\u001b[0m\u001b[0;34m\u001b[0m\u001b[0;34m\u001b[0m\u001b[0m\n\u001b[0;32m-> 1181\u001b[0;31m             \u001b[0;32mfor\u001b[0m \u001b[0mobj\u001b[0m \u001b[0;32min\u001b[0m \u001b[0miterable\u001b[0m\u001b[0;34m:\u001b[0m\u001b[0;34m\u001b[0m\u001b[0;34m\u001b[0m\u001b[0m\n\u001b[0m\u001b[1;32m   1182\u001b[0m                 \u001b[0;32myield\u001b[0m \u001b[0mobj\u001b[0m\u001b[0;34m\u001b[0m\u001b[0;34m\u001b[0m\u001b[0m\n\u001b[1;32m   1183\u001b[0m                 \u001b[0;31m# Update and possibly print the progressbar.\u001b[0m\u001b[0;34m\u001b[0m\u001b[0;34m\u001b[0m\u001b[0m\n",
            "\u001b[0;32m/usr/local/lib/python3.10/dist-packages/torch/utils/data/dataloader.py\u001b[0m in \u001b[0;36m__next__\u001b[0;34m(self)\u001b[0m\n\u001b[1;32m    628\u001b[0m                 \u001b[0;31m# TODO(https://github.com/pytorch/pytorch/issues/76750)\u001b[0m\u001b[0;34m\u001b[0m\u001b[0;34m\u001b[0m\u001b[0m\n\u001b[1;32m    629\u001b[0m                 \u001b[0mself\u001b[0m\u001b[0;34m.\u001b[0m\u001b[0m_reset\u001b[0m\u001b[0;34m(\u001b[0m\u001b[0;34m)\u001b[0m  \u001b[0;31m# type: ignore[call-arg]\u001b[0m\u001b[0;34m\u001b[0m\u001b[0;34m\u001b[0m\u001b[0m\n\u001b[0;32m--> 630\u001b[0;31m             \u001b[0mdata\u001b[0m \u001b[0;34m=\u001b[0m \u001b[0mself\u001b[0m\u001b[0;34m.\u001b[0m\u001b[0m_next_data\u001b[0m\u001b[0;34m(\u001b[0m\u001b[0;34m)\u001b[0m\u001b[0;34m\u001b[0m\u001b[0;34m\u001b[0m\u001b[0m\n\u001b[0m\u001b[1;32m    631\u001b[0m             \u001b[0mself\u001b[0m\u001b[0;34m.\u001b[0m\u001b[0m_num_yielded\u001b[0m \u001b[0;34m+=\u001b[0m \u001b[0;36m1\u001b[0m\u001b[0;34m\u001b[0m\u001b[0;34m\u001b[0m\u001b[0m\n\u001b[1;32m    632\u001b[0m             \u001b[0;32mif\u001b[0m \u001b[0mself\u001b[0m\u001b[0;34m.\u001b[0m\u001b[0m_dataset_kind\u001b[0m \u001b[0;34m==\u001b[0m \u001b[0m_DatasetKind\u001b[0m\u001b[0;34m.\u001b[0m\u001b[0mIterable\u001b[0m \u001b[0;32mand\u001b[0m\u001b[0;31m \u001b[0m\u001b[0;31m\\\u001b[0m\u001b[0;34m\u001b[0m\u001b[0;34m\u001b[0m\u001b[0m\n",
            "\u001b[0;32m/usr/local/lib/python3.10/dist-packages/torch/utils/data/dataloader.py\u001b[0m in \u001b[0;36m_next_data\u001b[0;34m(self)\u001b[0m\n\u001b[1;32m   1325\u001b[0m \u001b[0;34m\u001b[0m\u001b[0m\n\u001b[1;32m   1326\u001b[0m             \u001b[0;32massert\u001b[0m \u001b[0;32mnot\u001b[0m \u001b[0mself\u001b[0m\u001b[0;34m.\u001b[0m\u001b[0m_shutdown\u001b[0m \u001b[0;32mand\u001b[0m \u001b[0mself\u001b[0m\u001b[0;34m.\u001b[0m\u001b[0m_tasks_outstanding\u001b[0m \u001b[0;34m>\u001b[0m \u001b[0;36m0\u001b[0m\u001b[0;34m\u001b[0m\u001b[0;34m\u001b[0m\u001b[0m\n\u001b[0;32m-> 1327\u001b[0;31m             \u001b[0midx\u001b[0m\u001b[0;34m,\u001b[0m \u001b[0mdata\u001b[0m \u001b[0;34m=\u001b[0m \u001b[0mself\u001b[0m\u001b[0;34m.\u001b[0m\u001b[0m_get_data\u001b[0m\u001b[0;34m(\u001b[0m\u001b[0;34m)\u001b[0m\u001b[0;34m\u001b[0m\u001b[0;34m\u001b[0m\u001b[0m\n\u001b[0m\u001b[1;32m   1328\u001b[0m             \u001b[0mself\u001b[0m\u001b[0;34m.\u001b[0m\u001b[0m_tasks_outstanding\u001b[0m \u001b[0;34m-=\u001b[0m \u001b[0;36m1\u001b[0m\u001b[0;34m\u001b[0m\u001b[0;34m\u001b[0m\u001b[0m\n\u001b[1;32m   1329\u001b[0m             \u001b[0;32mif\u001b[0m \u001b[0mself\u001b[0m\u001b[0;34m.\u001b[0m\u001b[0m_dataset_kind\u001b[0m \u001b[0;34m==\u001b[0m \u001b[0m_DatasetKind\u001b[0m\u001b[0;34m.\u001b[0m\u001b[0mIterable\u001b[0m\u001b[0;34m:\u001b[0m\u001b[0;34m\u001b[0m\u001b[0;34m\u001b[0m\u001b[0m\n",
            "\u001b[0;32m/usr/local/lib/python3.10/dist-packages/torch/utils/data/dataloader.py\u001b[0m in \u001b[0;36m_get_data\u001b[0;34m(self)\u001b[0m\n\u001b[1;32m   1291\u001b[0m         \u001b[0;32melse\u001b[0m\u001b[0;34m:\u001b[0m\u001b[0;34m\u001b[0m\u001b[0;34m\u001b[0m\u001b[0m\n\u001b[1;32m   1292\u001b[0m             \u001b[0;32mwhile\u001b[0m \u001b[0;32mTrue\u001b[0m\u001b[0;34m:\u001b[0m\u001b[0;34m\u001b[0m\u001b[0;34m\u001b[0m\u001b[0m\n\u001b[0;32m-> 1293\u001b[0;31m                 \u001b[0msuccess\u001b[0m\u001b[0;34m,\u001b[0m \u001b[0mdata\u001b[0m \u001b[0;34m=\u001b[0m \u001b[0mself\u001b[0m\u001b[0;34m.\u001b[0m\u001b[0m_try_get_data\u001b[0m\u001b[0;34m(\u001b[0m\u001b[0;34m)\u001b[0m\u001b[0;34m\u001b[0m\u001b[0;34m\u001b[0m\u001b[0m\n\u001b[0m\u001b[1;32m   1294\u001b[0m                 \u001b[0;32mif\u001b[0m \u001b[0msuccess\u001b[0m\u001b[0;34m:\u001b[0m\u001b[0;34m\u001b[0m\u001b[0;34m\u001b[0m\u001b[0m\n\u001b[1;32m   1295\u001b[0m                     \u001b[0;32mreturn\u001b[0m \u001b[0mdata\u001b[0m\u001b[0;34m\u001b[0m\u001b[0;34m\u001b[0m\u001b[0m\n",
            "\u001b[0;32m/usr/local/lib/python3.10/dist-packages/torch/utils/data/dataloader.py\u001b[0m in \u001b[0;36m_try_get_data\u001b[0;34m(self, timeout)\u001b[0m\n\u001b[1;32m   1129\u001b[0m         \u001b[0;31m#   (bool: whether successfully get data, any: data if successful else None)\u001b[0m\u001b[0;34m\u001b[0m\u001b[0;34m\u001b[0m\u001b[0m\n\u001b[1;32m   1130\u001b[0m         \u001b[0;32mtry\u001b[0m\u001b[0;34m:\u001b[0m\u001b[0;34m\u001b[0m\u001b[0;34m\u001b[0m\u001b[0m\n\u001b[0;32m-> 1131\u001b[0;31m             \u001b[0mdata\u001b[0m \u001b[0;34m=\u001b[0m \u001b[0mself\u001b[0m\u001b[0;34m.\u001b[0m\u001b[0m_data_queue\u001b[0m\u001b[0;34m.\u001b[0m\u001b[0mget\u001b[0m\u001b[0;34m(\u001b[0m\u001b[0mtimeout\u001b[0m\u001b[0;34m=\u001b[0m\u001b[0mtimeout\u001b[0m\u001b[0;34m)\u001b[0m\u001b[0;34m\u001b[0m\u001b[0;34m\u001b[0m\u001b[0m\n\u001b[0m\u001b[1;32m   1132\u001b[0m             \u001b[0;32mreturn\u001b[0m \u001b[0;34m(\u001b[0m\u001b[0;32mTrue\u001b[0m\u001b[0;34m,\u001b[0m \u001b[0mdata\u001b[0m\u001b[0;34m)\u001b[0m\u001b[0;34m\u001b[0m\u001b[0;34m\u001b[0m\u001b[0m\n\u001b[1;32m   1133\u001b[0m         \u001b[0;32mexcept\u001b[0m \u001b[0mException\u001b[0m \u001b[0;32mas\u001b[0m \u001b[0me\u001b[0m\u001b[0;34m:\u001b[0m\u001b[0;34m\u001b[0m\u001b[0;34m\u001b[0m\u001b[0m\n",
            "\u001b[0;32m/usr/lib/python3.10/multiprocessing/queues.py\u001b[0m in \u001b[0;36mget\u001b[0;34m(self, block, timeout)\u001b[0m\n\u001b[1;32m    120\u001b[0m                 \u001b[0mself\u001b[0m\u001b[0;34m.\u001b[0m\u001b[0m_rlock\u001b[0m\u001b[0;34m.\u001b[0m\u001b[0mrelease\u001b[0m\u001b[0;34m(\u001b[0m\u001b[0;34m)\u001b[0m\u001b[0;34m\u001b[0m\u001b[0;34m\u001b[0m\u001b[0m\n\u001b[1;32m    121\u001b[0m         \u001b[0;31m# unserialize the data after having released the lock\u001b[0m\u001b[0;34m\u001b[0m\u001b[0;34m\u001b[0m\u001b[0m\n\u001b[0;32m--> 122\u001b[0;31m         \u001b[0;32mreturn\u001b[0m \u001b[0m_ForkingPickler\u001b[0m\u001b[0;34m.\u001b[0m\u001b[0mloads\u001b[0m\u001b[0;34m(\u001b[0m\u001b[0mres\u001b[0m\u001b[0;34m)\u001b[0m\u001b[0;34m\u001b[0m\u001b[0;34m\u001b[0m\u001b[0m\n\u001b[0m\u001b[1;32m    123\u001b[0m \u001b[0;34m\u001b[0m\u001b[0m\n\u001b[1;32m    124\u001b[0m     \u001b[0;32mdef\u001b[0m \u001b[0mqsize\u001b[0m\u001b[0;34m(\u001b[0m\u001b[0mself\u001b[0m\u001b[0;34m)\u001b[0m\u001b[0;34m:\u001b[0m\u001b[0;34m\u001b[0m\u001b[0;34m\u001b[0m\u001b[0m\n",
            "\u001b[0;32m/usr/local/lib/python3.10/dist-packages/torch/multiprocessing/reductions.py\u001b[0m in \u001b[0;36mrebuild_storage_fd\u001b[0;34m(cls, df, size)\u001b[0m\n\u001b[1;32m    494\u001b[0m \u001b[0;34m\u001b[0m\u001b[0m\n\u001b[1;32m    495\u001b[0m \u001b[0;32mdef\u001b[0m \u001b[0mrebuild_storage_fd\u001b[0m\u001b[0;34m(\u001b[0m\u001b[0mcls\u001b[0m\u001b[0;34m,\u001b[0m \u001b[0mdf\u001b[0m\u001b[0;34m,\u001b[0m \u001b[0msize\u001b[0m\u001b[0;34m)\u001b[0m\u001b[0;34m:\u001b[0m\u001b[0;34m\u001b[0m\u001b[0;34m\u001b[0m\u001b[0m\n\u001b[0;32m--> 496\u001b[0;31m     \u001b[0mfd\u001b[0m \u001b[0;34m=\u001b[0m \u001b[0mdf\u001b[0m\u001b[0;34m.\u001b[0m\u001b[0mdetach\u001b[0m\u001b[0;34m(\u001b[0m\u001b[0;34m)\u001b[0m\u001b[0;34m\u001b[0m\u001b[0;34m\u001b[0m\u001b[0m\n\u001b[0m\u001b[1;32m    497\u001b[0m     \u001b[0;32mtry\u001b[0m\u001b[0;34m:\u001b[0m\u001b[0;34m\u001b[0m\u001b[0;34m\u001b[0m\u001b[0m\n\u001b[1;32m    498\u001b[0m         \u001b[0mstorage\u001b[0m \u001b[0;34m=\u001b[0m \u001b[0mstorage_from_cache\u001b[0m\u001b[0;34m(\u001b[0m\u001b[0mcls\u001b[0m\u001b[0;34m,\u001b[0m \u001b[0mfd_id\u001b[0m\u001b[0;34m(\u001b[0m\u001b[0mfd\u001b[0m\u001b[0;34m)\u001b[0m\u001b[0;34m)\u001b[0m\u001b[0;34m\u001b[0m\u001b[0;34m\u001b[0m\u001b[0m\n",
            "\u001b[0;32m/usr/lib/python3.10/multiprocessing/resource_sharer.py\u001b[0m in \u001b[0;36mdetach\u001b[0;34m(self)\u001b[0m\n\u001b[1;32m     55\u001b[0m         \u001b[0;32mdef\u001b[0m \u001b[0mdetach\u001b[0m\u001b[0;34m(\u001b[0m\u001b[0mself\u001b[0m\u001b[0;34m)\u001b[0m\u001b[0;34m:\u001b[0m\u001b[0;34m\u001b[0m\u001b[0;34m\u001b[0m\u001b[0m\n\u001b[1;32m     56\u001b[0m             \u001b[0;34m'''Get the fd.  This should only be called once.'''\u001b[0m\u001b[0;34m\u001b[0m\u001b[0;34m\u001b[0m\u001b[0m\n\u001b[0;32m---> 57\u001b[0;31m             \u001b[0;32mwith\u001b[0m \u001b[0m_resource_sharer\u001b[0m\u001b[0;34m.\u001b[0m\u001b[0mget_connection\u001b[0m\u001b[0;34m(\u001b[0m\u001b[0mself\u001b[0m\u001b[0;34m.\u001b[0m\u001b[0m_id\u001b[0m\u001b[0;34m)\u001b[0m \u001b[0;32mas\u001b[0m \u001b[0mconn\u001b[0m\u001b[0;34m:\u001b[0m\u001b[0;34m\u001b[0m\u001b[0;34m\u001b[0m\u001b[0m\n\u001b[0m\u001b[1;32m     58\u001b[0m                 \u001b[0;32mreturn\u001b[0m \u001b[0mreduction\u001b[0m\u001b[0;34m.\u001b[0m\u001b[0mrecv_handle\u001b[0m\u001b[0;34m(\u001b[0m\u001b[0mconn\u001b[0m\u001b[0;34m)\u001b[0m\u001b[0;34m\u001b[0m\u001b[0;34m\u001b[0m\u001b[0m\n\u001b[1;32m     59\u001b[0m \u001b[0;34m\u001b[0m\u001b[0m\n",
            "\u001b[0;32m/usr/lib/python3.10/multiprocessing/resource_sharer.py\u001b[0m in \u001b[0;36mget_connection\u001b[0;34m(ident)\u001b[0m\n\u001b[1;32m     84\u001b[0m         \u001b[0;32mfrom\u001b[0m \u001b[0;34m.\u001b[0m\u001b[0mconnection\u001b[0m \u001b[0;32mimport\u001b[0m \u001b[0mClient\u001b[0m\u001b[0;34m\u001b[0m\u001b[0;34m\u001b[0m\u001b[0m\n\u001b[1;32m     85\u001b[0m         \u001b[0maddress\u001b[0m\u001b[0;34m,\u001b[0m \u001b[0mkey\u001b[0m \u001b[0;34m=\u001b[0m \u001b[0mident\u001b[0m\u001b[0;34m\u001b[0m\u001b[0;34m\u001b[0m\u001b[0m\n\u001b[0;32m---> 86\u001b[0;31m         \u001b[0mc\u001b[0m \u001b[0;34m=\u001b[0m \u001b[0mClient\u001b[0m\u001b[0;34m(\u001b[0m\u001b[0maddress\u001b[0m\u001b[0;34m,\u001b[0m \u001b[0mauthkey\u001b[0m\u001b[0;34m=\u001b[0m\u001b[0mprocess\u001b[0m\u001b[0;34m.\u001b[0m\u001b[0mcurrent_process\u001b[0m\u001b[0;34m(\u001b[0m\u001b[0;34m)\u001b[0m\u001b[0;34m.\u001b[0m\u001b[0mauthkey\u001b[0m\u001b[0;34m)\u001b[0m\u001b[0;34m\u001b[0m\u001b[0;34m\u001b[0m\u001b[0m\n\u001b[0m\u001b[1;32m     87\u001b[0m         \u001b[0mc\u001b[0m\u001b[0;34m.\u001b[0m\u001b[0msend\u001b[0m\u001b[0;34m(\u001b[0m\u001b[0;34m(\u001b[0m\u001b[0mkey\u001b[0m\u001b[0;34m,\u001b[0m \u001b[0mos\u001b[0m\u001b[0;34m.\u001b[0m\u001b[0mgetpid\u001b[0m\u001b[0;34m(\u001b[0m\u001b[0;34m)\u001b[0m\u001b[0;34m)\u001b[0m\u001b[0;34m)\u001b[0m\u001b[0;34m\u001b[0m\u001b[0;34m\u001b[0m\u001b[0m\n\u001b[1;32m     88\u001b[0m         \u001b[0;32mreturn\u001b[0m \u001b[0mc\u001b[0m\u001b[0;34m\u001b[0m\u001b[0;34m\u001b[0m\u001b[0m\n",
            "\u001b[0;32m/usr/lib/python3.10/multiprocessing/connection.py\u001b[0m in \u001b[0;36mClient\u001b[0;34m(address, family, authkey)\u001b[0m\n\u001b[1;32m    500\u001b[0m         \u001b[0mc\u001b[0m \u001b[0;34m=\u001b[0m \u001b[0mPipeClient\u001b[0m\u001b[0;34m(\u001b[0m\u001b[0maddress\u001b[0m\u001b[0;34m)\u001b[0m\u001b[0;34m\u001b[0m\u001b[0;34m\u001b[0m\u001b[0m\n\u001b[1;32m    501\u001b[0m     \u001b[0;32melse\u001b[0m\u001b[0;34m:\u001b[0m\u001b[0;34m\u001b[0m\u001b[0;34m\u001b[0m\u001b[0m\n\u001b[0;32m--> 502\u001b[0;31m         \u001b[0mc\u001b[0m \u001b[0;34m=\u001b[0m \u001b[0mSocketClient\u001b[0m\u001b[0;34m(\u001b[0m\u001b[0maddress\u001b[0m\u001b[0;34m)\u001b[0m\u001b[0;34m\u001b[0m\u001b[0;34m\u001b[0m\u001b[0m\n\u001b[0m\u001b[1;32m    503\u001b[0m \u001b[0;34m\u001b[0m\u001b[0m\n\u001b[1;32m    504\u001b[0m     \u001b[0;32mif\u001b[0m \u001b[0mauthkey\u001b[0m \u001b[0;32mis\u001b[0m \u001b[0;32mnot\u001b[0m \u001b[0;32mNone\u001b[0m \u001b[0;32mand\u001b[0m \u001b[0;32mnot\u001b[0m \u001b[0misinstance\u001b[0m\u001b[0;34m(\u001b[0m\u001b[0mauthkey\u001b[0m\u001b[0;34m,\u001b[0m \u001b[0mbytes\u001b[0m\u001b[0;34m)\u001b[0m\u001b[0;34m:\u001b[0m\u001b[0;34m\u001b[0m\u001b[0;34m\u001b[0m\u001b[0m\n",
            "\u001b[0;32m/usr/lib/python3.10/multiprocessing/connection.py\u001b[0m in \u001b[0;36mSocketClient\u001b[0;34m(address)\u001b[0m\n\u001b[1;32m    628\u001b[0m     \u001b[0;32mwith\u001b[0m \u001b[0msocket\u001b[0m\u001b[0;34m.\u001b[0m\u001b[0msocket\u001b[0m\u001b[0;34m(\u001b[0m \u001b[0mgetattr\u001b[0m\u001b[0;34m(\u001b[0m\u001b[0msocket\u001b[0m\u001b[0;34m,\u001b[0m \u001b[0mfamily\u001b[0m\u001b[0;34m)\u001b[0m \u001b[0;34m)\u001b[0m \u001b[0;32mas\u001b[0m \u001b[0ms\u001b[0m\u001b[0;34m:\u001b[0m\u001b[0;34m\u001b[0m\u001b[0;34m\u001b[0m\u001b[0m\n\u001b[1;32m    629\u001b[0m         \u001b[0ms\u001b[0m\u001b[0;34m.\u001b[0m\u001b[0msetblocking\u001b[0m\u001b[0;34m(\u001b[0m\u001b[0;32mTrue\u001b[0m\u001b[0;34m)\u001b[0m\u001b[0;34m\u001b[0m\u001b[0;34m\u001b[0m\u001b[0m\n\u001b[0;32m--> 630\u001b[0;31m         \u001b[0ms\u001b[0m\u001b[0;34m.\u001b[0m\u001b[0mconnect\u001b[0m\u001b[0;34m(\u001b[0m\u001b[0maddress\u001b[0m\u001b[0;34m)\u001b[0m\u001b[0;34m\u001b[0m\u001b[0;34m\u001b[0m\u001b[0m\n\u001b[0m\u001b[1;32m    631\u001b[0m         \u001b[0;32mreturn\u001b[0m \u001b[0mConnection\u001b[0m\u001b[0;34m(\u001b[0m\u001b[0ms\u001b[0m\u001b[0;34m.\u001b[0m\u001b[0mdetach\u001b[0m\u001b[0;34m(\u001b[0m\u001b[0;34m)\u001b[0m\u001b[0;34m)\u001b[0m\u001b[0;34m\u001b[0m\u001b[0;34m\u001b[0m\u001b[0m\n\u001b[1;32m    632\u001b[0m \u001b[0;34m\u001b[0m\u001b[0m\n",
            "\u001b[0;31mKeyboardInterrupt\u001b[0m: "
          ]
        }
      ]
    },
    {
      "cell_type": "code",
      "source": [
        "import pandas as pd\n",
        "if not os.path.exists(\"out\"):\n",
        "  os.mkdir(\"out\")\n",
        "\n",
        "rows = [{\n",
        "    \"edge_prob\": 0,\n",
        "    \"test_acc\": best_bl_test_acc,\n",
        "    \"val_acc\": best_bl_val_acc\n",
        "}]\n",
        "\n",
        "df = pd.DataFrame(rows)\n",
        "df.to_csv(\"out/bl_result.csv\")"
      ],
      "metadata": {
        "id": "dIY2tjtRrBQI"
      },
      "execution_count": null,
      "outputs": []
    },
    {
      "cell_type": "markdown",
      "source": [
        "Now, let's plot the training curve."
      ],
      "metadata": {
        "id": "55V76hyurCjz"
      }
    },
    {
      "cell_type": "code",
      "source": [
        "import numpy as np\n",
        "import matplotlib.pyplot as plt\n",
        "import seaborn as sns\n",
        "from typing import Dict, Optional\n",
        "\n",
        "# Set a clean, modern aesthetic\n",
        "plt.style.use('seaborn-v0_8-pastel')\n",
        "sns.set_palette(\"deep\")\n",
        "\n",
        "def plot(x: Optional[np.ndarray] = None,\n",
        "         y: Dict[str, np.ndarray] = dict(),\n",
        "         xlabel: str = \"\",\n",
        "         ylabel: str = \"accuracy\"):\n",
        "\n",
        "  plt.figure(figsize=(6, 4), dpi=300)\n",
        "\n",
        "  for key, value in y.items():\n",
        "    if x is not None:\n",
        "      plt.plot(x, value, label=key)\n",
        "    else:\n",
        "      plt.plot(value, label=key)\n",
        "\n",
        "  plt.grid(True, linestyle='--', linewidth=0.5, color='grey', alpha=0.7)\n",
        "  plt.title('accuracy')\n",
        "  if x is not None:\n",
        "    plt.xlabel(xlabel)\n",
        "  plt.ylabel(ylabel)\n",
        "\n",
        "  plt.legend(frameon=True, fancybox=True, framealpha=0.7)\n",
        "  plt.tight_layout()\n",
        "  plt.gca().set_facecolor('none')\n",
        "  plt.gcf().patch.set_alpha(0.0)\n",
        "\n",
        "  plt.show()"
      ],
      "metadata": {
        "id": "Dpv163A4GlER"
      },
      "execution_count": null,
      "outputs": []
    },
    {
      "cell_type": "code",
      "source": [
        "to_plot = {\n",
        "    \"train\": results['all_train_acc'],\n",
        "    \"val\": results['all_val_acc'],\n",
        "}\n",
        "\n",
        "plot(y=to_plot, xlabel=\"epoch\")"
      ],
      "metadata": {
        "colab": {
          "base_uri": "https://localhost:8080/",
          "height": 644
        },
        "id": "wPbxf44hHYYm",
        "outputId": "15361394-9793-4134-8f7c-c3f73f00e368"
      },
      "execution_count": null,
      "outputs": [
        {
          "output_type": "display_data",
          "data": {
            "text/plain": [
              "<Figure size 1800x1200 with 1 Axes>"
            ],
            "image/png": "[encoded data removed]"
          },
          "metadata": {
            "needs_background": "light"
          }
        }
      ]
    },
    {
      "cell_type": "markdown",
      "metadata": {
        "id": "zFw4Vi5o1dPP"
      },
      "source": [
        "## Graph Structure Augmentation\n",
        "\n",
        "Modifying the **struture** of the graph is also a powerful way to improve the performance of GNNs. The performance of GNNs is very much related to the structure of the graph.\n",
        "\n",
        "To better motivate graph structure augmentations, let’s first revisit the core idea of GNNs: message passing. At each layer, nodes aggregate information from their neighbors, gradually building a representation that reflects their local neighborhood structure. In theory, deeper networks should be able to capture broader relationships in the graph, integrating information from distant nodes.\n",
        "\n",
        "- **Over-smoothing**:    Recall that a GNN with $k$ layers aggregates information from each node's $k$-hop neighborhood. Thus, as the network deepens, node representations increasingly mix, and after many layers, nodes tend to converge to very similar representations. This “blending” means that the network struggles to distinguish between nodes, especially in large, densely connected graphs. In extreme cases, the output becomes almost uniform across all nodes, rendering the GNN ineffective for tasks like classification or clustering.\n",
        "\n",
        "- **Global relationships**:    While increasing the receptive field of each node by stacking more GNN layers might seem like a solution, it exacerbates the over-smoothing problem noted above, highlighting the trade-offs between depth and effective information propagation.\n",
        "\n",
        "Graph structure augmentations tackle these challenges head-on by altering the graph’s connectivity, introducing extra nodes and/or edges. to improve the flow of information across the graph, mitigate over-smoothing, and enable GNNs to better capture both local and global patterns."
      ]
    },
    {
      "cell_type": "markdown",
      "metadata": {
        "id": "SYXn7Cqm-Ff1"
      },
      "source": [
        "### Half Hop\n",
        "\n",
        "Half-Hop (introduced in [Azabou 2023](https://arxiv.org/abs/2308.09198)) enhances message passing in neural networks by inserting intermediate \"slow nodes\" between connected nodes in a graph. This approach mitigates over-smoothing and improves performance, especially in scenarios where neighboring nodes have different labels. The PyG documentation can be found [here](https://pytorch-geometric.readthedocs.io/en/stable/generated/torch_geometric.transforms.HalfHop.html)."
      ]
    },
    {
      "cell_type": "markdown",
      "source": [
        "First, let's visualize what Half-Hop is doing. First, let's define an example graph:"
      ],
      "metadata": {
        "id": "xP4TTYRYsTIW"
      }
    },
    {
      "cell_type": "code",
      "source": [
        "import networkx as nx\n",
        "from torch_geometric.utils import to_networkx\n",
        "from pylab import show\n",
        "from torch_geometric.data import Data\n",
        "import matplotlib.pyplot as plt\n",
        "\n",
        "num_nodes = 4\n",
        "simple_x = torch.arange(num_nodes)\n",
        "simple_x1 = simple_x + 1\n",
        "simple_x1[-1] = 0\n",
        "simple_edge_index = torch.stack([simple_x, simple_x1], dim=0)\n",
        "\n",
        "simple_x = (simple_x + 1) / 4\n",
        "simple_data = Data(x=simple_x, edge_index=simple_edge_index, num_nodes=num_nodes)\n",
        "simple_data, simple_data.x[0]\n",
        "\n",
        "G = to_networkx(simple_data)\n",
        "plt.figure(figsize=(3,3))\n",
        "pos = nx.spring_layout(G)\n",
        "node_color = [simple_data.x[node] for node in G.nodes()]\n",
        "nx.draw(G,\n",
        "        pos=pos,\n",
        "        cmap=plt.get_cmap('coolwarm'),\n",
        "        node_color=node_color,\n",
        "        vmin=0,\n",
        "        vmax=1,\n",
        "        with_labels=True)\n",
        "show()"
      ],
      "metadata": {
        "colab": {
          "base_uri": "https://localhost:8080/",
          "height": 337
        },
        "id": "F3qPJ_L4sV5I",
        "outputId": "37569d14-c16b-4edf-ff11-58994446ab2c"
      },
      "execution_count": 116,
      "outputs": [
        {
          "output_type": "display_data",
          "data": {
            "text/plain": [
              "<Figure size 300x300 with 1 Axes>"
            ],
            "image/png": "[encoded data removed]"
          },
          "metadata": {}
        }
      ]
    },
    {
      "cell_type": "markdown",
      "source": [
        "Now, let's apply the HalfHop transformation."
      ],
      "metadata": {
        "id": "7j8tv2409JJU"
      }
    },
    {
      "cell_type": "code",
      "source": [
        "from torch_geometric.transforms import HalfHop\n",
        "hh = HalfHop(alpha=0.5, p=1.0)\n",
        "hh_data = hh(simple_data)\n",
        "\n",
        "G = to_networkx(hh_data)\n",
        "plt.figure(figsize=(3,3))\n",
        "pos = nx.spring_layout(G)\n",
        "\n",
        "node_color = [hh_data.x[node] for node in G.nodes()]\n",
        "nx.draw(G,\n",
        "        pos=pos,\n",
        "        cmap=plt.get_cmap('coolwarm'),\n",
        "        node_color=node_color,\n",
        "        vmin=0,\n",
        "        vmax=1,\n",
        "        with_labels=True)\n",
        "show()"
      ],
      "metadata": {
        "colab": {
          "base_uri": "https://localhost:8080/",
          "height": 337
        },
        "id": "8Hxg0IpOsdhB",
        "outputId": "2c598fa3-d0fe-4a12-ac50-6c1553100486"
      },
      "execution_count": 117,
      "outputs": [
        {
          "output_type": "display_data",
          "data": {
            "text/plain": [
              "<Figure size 300x300 with 1 Axes>"
            ],
            "image/png": "[encoded data removed]"
          },
          "metadata": {}
        }
      ]
    },
    {
      "cell_type": "markdown",
      "source": [
        "Below, we define the appropriate trasformations to train HalfHop. Note that we need to filter out the slow nodes which HalfHop creates, so that we are left only with the labels of the true graph's nodes."
      ],
      "metadata": {
        "id": "ix_Eq_159MiO"
      }
    },
    {
      "cell_type": "code",
      "execution_count": null,
      "metadata": {
        "colab": {
          "base_uri": "https://localhost:8080/"
        },
        "id": "_rKVySq62R7H",
        "outputId": "335a2f7d-b65e-4181-a003-1a006b1de1b6"
      },
      "outputs": [
        {
          "output_type": "stream",
          "name": "stdout",
          "text": [
            "Training with half-hop probability of 0.1\n",
            "\n",
            "Epoch: 01\n"
          ]
        },
        {
          "output_type": "stream",
          "name": "stderr",
          "text": [
            "100%|██████████| 2842/2842 [01:31<00:00, 31.12it/s]\n",
            "100%|██████████| 932/932 [00:12<00:00, 75.05it/s]\n",
            "100%|██████████| 1519/1519 [00:07<00:00, 192.39it/s]\n"
          ]
        },
        {
          "output_type": "stream",
          "name": "stdout",
          "text": [
            "Train 2.3653 (35.39%) | Val 1.9509 (45.73%) | Test 2.1667 (39.35%)\n",
            "Epoch: 02\n"
          ]
        },
        {
          "output_type": "stream",
          "name": "stderr",
          "text": [
            "100%|██████████| 2842/2842 [01:16<00:00, 37.35it/s]\n",
            "100%|██████████| 932/932 [00:13<00:00, 66.78it/s]\n",
            "100%|██████████| 1519/1519 [00:07<00:00, 192.16it/s]\n"
          ]
        },
        {
          "output_type": "stream",
          "name": "stdout",
          "text": [
            "Train 1.8786 (46.79%) | Val 1.7746 (49.79%) | Test 1.9608 (45.26%)\n",
            "Epoch: 03\n"
          ]
        },
        {
          "output_type": "stream",
          "name": "stderr",
          "text": [
            "100%|██████████| 2842/2842 [01:16<00:00, 37.13it/s]\n",
            "100%|██████████| 932/932 [00:12<00:00, 76.30it/s]\n",
            "100%|██████████| 1519/1519 [00:07<00:00, 213.25it/s]\n"
          ]
        },
        {
          "output_type": "stream",
          "name": "stdout",
          "text": [
            "Train 1.7369 (50.39%) | Val 1.6818 (52.30%) | Test 1.8746 (47.45%)\n",
            "Epoch: 04\n"
          ]
        },
        {
          "output_type": "stream",
          "name": "stderr",
          "text": [
            "100%|██████████| 2842/2842 [01:15<00:00, 37.59it/s]\n",
            "100%|██████████| 932/932 [00:12<00:00, 76.20it/s]\n",
            "100%|██████████| 1519/1519 [00:07<00:00, 194.44it/s]\n"
          ]
        },
        {
          "output_type": "stream",
          "name": "stdout",
          "text": [
            "Train 1.6310 (53.10%) | Val 1.5974 (53.89%) | Test 1.8097 (48.30%)\n",
            "Epoch: 05\n"
          ]
        },
        {
          "output_type": "stream",
          "name": "stderr",
          "text": [
            "100%|██████████| 2842/2842 [01:15<00:00, 37.61it/s]\n",
            "100%|██████████| 932/932 [00:12<00:00, 75.58it/s]\n",
            "100%|██████████| 1519/1519 [00:07<00:00, 214.59it/s]\n"
          ]
        },
        {
          "output_type": "stream",
          "name": "stdout",
          "text": [
            "Train 1.5571 (54.90%) | Val 1.5540 (55.05%) | Test 1.7688 (49.30%)\n",
            "Epoch: 06\n"
          ]
        },
        {
          "output_type": "stream",
          "name": "stderr",
          "text": [
            "100%|██████████| 2842/2842 [01:17<00:00, 36.59it/s]\n",
            "100%|██████████| 932/932 [00:11<00:00, 79.98it/s]\n",
            "100%|██████████| 1519/1519 [00:07<00:00, 196.03it/s]\n"
          ]
        },
        {
          "output_type": "stream",
          "name": "stdout",
          "text": [
            "Train 1.5116 (55.88%) | Val 1.5171 (55.53%) | Test 1.7294 (49.77%)\n",
            "Epoch: 07\n"
          ]
        },
        {
          "output_type": "stream",
          "name": "stderr",
          "text": [
            "100%|██████████| 2842/2842 [01:14<00:00, 38.11it/s]\n",
            "100%|██████████| 932/932 [00:12<00:00, 76.40it/s]\n",
            "100%|██████████| 1519/1519 [00:07<00:00, 195.65it/s]\n"
          ]
        },
        {
          "output_type": "stream",
          "name": "stdout",
          "text": [
            "Train 1.4780 (56.73%) | Val 1.4806 (56.46%) | Test 1.6991 (50.31%)\n",
            "Epoch: 08\n"
          ]
        },
        {
          "output_type": "stream",
          "name": "stderr",
          "text": [
            "100%|██████████| 2842/2842 [01:15<00:00, 37.73it/s]\n",
            "100%|██████████| 932/932 [00:11<00:00, 77.88it/s]\n",
            "100%|██████████| 1519/1519 [00:07<00:00, 215.88it/s]\n"
          ]
        },
        {
          "output_type": "stream",
          "name": "stdout",
          "text": [
            "Train 1.4508 (57.35%) | Val 1.4645 (56.84%) | Test 1.6825 (51.08%)\n",
            "Epoch: 09\n"
          ]
        },
        {
          "output_type": "stream",
          "name": "stderr",
          "text": [
            "100%|██████████| 2842/2842 [01:17<00:00, 36.85it/s]\n",
            "100%|██████████| 932/932 [00:12<00:00, 75.47it/s]\n",
            "100%|██████████| 1519/1519 [00:07<00:00, 195.66it/s]\n"
          ]
        },
        {
          "output_type": "stream",
          "name": "stdout",
          "text": [
            "Train 1.4243 (58.04%) | Val 1.4591 (57.02%) | Test 1.6655 (51.61%)\n",
            "Epoch: 10\n"
          ]
        },
        {
          "output_type": "stream",
          "name": "stderr",
          "text": [
            "100%|██████████| 2842/2842 [01:14<00:00, 37.94it/s]\n",
            "100%|██████████| 932/932 [00:12<00:00, 75.49it/s]\n",
            " 39%|███▉      | 596/1519 [00:02<00:04, 223.73it/s]"
          ]
        }
      ],
      "source": [
        "import pandas as pd\n",
        "\n",
        "from torch_geometric.transforms import HalfHop\n",
        "# blend features from src and dest equally (alpha=0.5).\n",
        "# add a virtual node to all edges (p=1)\n",
        "\n",
        "def hh_filter(outputs, batch):\n",
        "  # note that the labels (i.e. batch.y) do not need to be masked.\n",
        "  # dummy labels are not added\n",
        "  return outputs[~batch.slow_node_mask]\n",
        "\n",
        "probs = [0.1, 0.5, 1.0]\n",
        "best_hh_train_acc, best_hh_val_acc, best_hh_test_acc = [], [], []\n",
        "for hh_prob in probs:\n",
        "    hh_transform = HalfHop(alpha=0.5, p=hh_prob)\n",
        "    model, optimizer = get_model()\n",
        "    print(f\"Training with half-hop probability of {hh_prob}\\n\")\n",
        "    result = train(model,\n",
        "                   optimizer,\n",
        "                   num_epochs=num_epochs,\n",
        "                   transform=hh_transform,\n",
        "                   filter_output_fn=hh_filter,\n",
        "                   apply_transform_at_test=True)\n",
        "\n",
        "    best_ind = result['best_val_ind']\n",
        "    best_hh_train_acc.append(result['all_train_acc'][best_ind])\n",
        "    best_hh_val_acc.append(result['all_val_acc'][best_ind])\n",
        "    best_hh_test_acc.append(result['all_test_acc'][best_ind])"
      ]
    },
    {
      "cell_type": "markdown",
      "source": [
        "Now, let's plot the result. HalfHop outperforms the baseline marginally."
      ],
      "metadata": {
        "id": "4tlRZiewrOFz"
      }
    },
    {
      "cell_type": "code",
      "source": [
        "import pandas as pd\n",
        "import seaborn as sns\n",
        "import matplotlib.pyplot as plt\n",
        "\n",
        "df = pd.read_csv('out/hh_result.csv', index_col=0)\n",
        "df.loc[5] = [0, 0.5418, 0.615]\n",
        "\n",
        "plt.figure(figsize=(8, 6))\n",
        "sns.set_style(\"whitegrid\")\n",
        "\n",
        "ax = sns.barplot(\n",
        "    x='hh_prob',\n",
        "    y='test_acc',\n",
        "    data=df,\n",
        "    color='skyblue',\n",
        "    alpha=0.8\n",
        ")\n",
        "\n",
        "# Add value labels on top of bars\n",
        "for i in ax.containers:\n",
        "    ax.bar_label(i, fmt='%.4f', padding=3)\n",
        "\n",
        "ax.set(\n",
        "    xlabel='Half Hop Probability',\n",
        "    ylabel='Test Accuracy',\n",
        "    title='Test Accuracy vs Half Hop Probability'\n",
        ")\n",
        "\n",
        "# Format y-axis as percentages\n",
        "ax.yaxis.set_major_formatter(plt.FuncFormatter(lambda y, _: '{:.1%}'.format(y)))\n",
        "\n",
        "# Adjust y limits to focus on the variation\n",
        "ax.set_ylim(0.53, 0.56)\n",
        "\n",
        "plt.tight_layout()\n",
        "sns.despine()"
      ],
      "metadata": {
        "id": "G2SV1BY1O6yN"
      },
      "execution_count": null,
      "outputs": []
    },
    {
      "cell_type": "markdown",
      "metadata": {
        "id": "fJqO9Ikplx6g"
      },
      "source": [
        "### Virtual Node\n",
        "\n",
        "VirtualNode (introduced in [Gilmer 2017](https://arxiv.org/abs/1704.01212)) appends a virtual node to the given homogeneous graph that is connected to all other nodes. The virtual node serves as a global scratch space that each node both reads from and writes to in every step of message passing. This allows information to travel long distances during the propagation phase."
      ]
    },
    {
      "cell_type": "markdown",
      "source": [
        "Again, let's visualize what VirtualNode does. Here's an example graph:"
      ],
      "metadata": {
        "id": "nyrCv_4L9boV"
      }
    },
    {
      "cell_type": "code",
      "source": [
        "import networkx as nx\n",
        "from torch_geometric.utils import to_networkx\n",
        "from pylab import show\n",
        "from torch_geometric.data import Data\n",
        "import matplotlib.pyplot as plt\n",
        "\n",
        "num_nodes = 4\n",
        "simple_x = torch.arange(num_nodes)\n",
        "simple_x1 = simple_x + 1\n",
        "simple_x1[-1] = 0\n",
        "simple_edge_index = torch.stack([simple_x, simple_x1], dim=0)\n",
        "\n",
        "simple_x = (simple_x + 1) / 4\n",
        "simple_data = Data(x=simple_x, edge_index=simple_edge_index, num_nodes=num_nodes)\n",
        "\n",
        "G = to_networkx(simple_data)\n",
        "plt.figure(figsize=(3,3))\n",
        "pos = nx.spring_layout(G)\n",
        "node_color = [simple_data.x[node] for node in G.nodes()]\n",
        "nx.draw(G,\n",
        "        pos=pos,\n",
        "        cmap=plt.get_cmap('coolwarm'),\n",
        "        vmin=0,\n",
        "        vmax=1,\n",
        "        nodelist=G.nodes(),\n",
        "        node_color=node_color,\n",
        "        with_labels=True)\n",
        "show()"
      ],
      "metadata": {
        "colab": {
          "base_uri": "https://localhost:8080/",
          "height": 337
        },
        "id": "zILNR_I06xzK",
        "outputId": "be05e18e-de1c-4638-b9f3-afb3ee72d48e"
      },
      "execution_count": 112,
      "outputs": [
        {
          "output_type": "display_data",
          "data": {
            "text/plain": [
              "<Figure size 300x300 with 1 Axes>"
            ],
            "image/png": "[encoded data removed]"
          },
          "metadata": {}
        }
      ]
    },
    {
      "cell_type": "markdown",
      "source": [
        "Now, we create the virtual node. It is connected bi-directionally to all nodes, and has an initial feature of 0."
      ],
      "metadata": {
        "id": "bCPzx7Y99ilj"
      }
    },
    {
      "cell_type": "code",
      "source": [
        "from torch_geometric.transforms import VirtualNode\n",
        "vn = VirtualNode()\n",
        "vn_data = vn(simple_data)\n",
        "\n",
        "G = to_networkx(vn_data)\n",
        "plt.figure(figsize=(3,3))\n",
        "pos = nx.spring_layout(G)\n",
        "\n",
        "node_color = [vn_data.x[node] for node in G.nodes()]\n",
        "nx.draw(G,\n",
        "        pos=pos,\n",
        "        cmap=plt.get_cmap('coolwarm'),\n",
        "        nodelist=G.nodes(),\n",
        "        vmin=0,\n",
        "        vmax=1,\n",
        "        node_color=node_color,\n",
        "        with_labels=True)\n",
        "show()"
      ],
      "metadata": {
        "colab": {
          "base_uri": "https://localhost:8080/",
          "height": 337
        },
        "id": "fUNuwxIg6zk5",
        "outputId": "ee238e5b-da55-47ab-8992-d7ac933dd62b"
      },
      "execution_count": 113,
      "outputs": [
        {
          "output_type": "display_data",
          "data": {
            "text/plain": [
              "<Figure size 300x300 with 1 Axes>"
            ],
            "image/png": "[encoded data removed]"
          },
          "metadata": {}
        }
      ]
    },
    {
      "cell_type": "markdown",
      "source": [
        "Now, let's run training! Note that the virtual node transformation adds an extra dummy label and dummy node to both batch.x and batch.labels. It is fine to leave these in."
      ],
      "metadata": {
        "id": "lmYTvgRMCwE_"
      }
    },
    {
      "cell_type": "code",
      "execution_count": null,
      "metadata": {
        "colab": {
          "base_uri": "https://localhost:8080/"
        },
        "id": "HHfjmxWjlx6h",
        "outputId": "d9d2792e-3f6d-434d-b140-4646b8b421de"
      },
      "outputs": [
        {
          "output_type": "stream",
          "name": "stdout",
          "text": [
            "Training with virtual node\n",
            "\n",
            "Epoch: 01\n"
          ]
        },
        {
          "output_type": "stream",
          "name": "stderr",
          "text": [
            "\r  0%|          | 0/2842 [00:00<?, ?it/s]"
          ]
        },
        {
          "name": "stdout",
          "output_type": "stream",
          "text": [
            "before transform: torch.Size([1906, 128]), torch.Size([1906, 1])\n",
            "after transform: torch.Size([1907, 128]), torch.Size([1907, 1])\n",
            "> \u001b[0;32m<ipython-input-82-b3adf323d1b7>\u001b[0m(7)\u001b[0;36mvn_filter\u001b[0;34m()\u001b[0m\n",
            "\u001b[0;32m      5 \u001b[0;31m\u001b[0;32mdef\u001b[0m \u001b[0mvn_filter\u001b[0m\u001b[0;34m(\u001b[0m\u001b[0moutputs\u001b[0m\u001b[0;34m,\u001b[0m \u001b[0mbatch\u001b[0m\u001b[0;34m)\u001b[0m\u001b[0;34m:\u001b[0m\u001b[0;34m\u001b[0m\u001b[0;34m\u001b[0m\u001b[0m\n",
            "\u001b[0m\u001b[0;32m      6 \u001b[0;31m  \u001b[0mbreakpoint\u001b[0m\u001b[0;34m(\u001b[0m\u001b[0;34m)\u001b[0m\u001b[0;34m\u001b[0m\u001b[0;34m\u001b[0m\u001b[0m\n",
            "\u001b[0m\u001b[0;32m----> 7 \u001b[0;31m  \u001b[0;32mreturn\u001b[0m \u001b[0moutputs\u001b[0m\u001b[0;34m[\u001b[0m\u001b[0;34m~\u001b[0m\u001b[0mbatch\u001b[0m\u001b[0;34m.\u001b[0m\u001b[0mvn_mask\u001b[0m\u001b[0;34m]\u001b[0m\u001b[0;34m\u001b[0m\u001b[0;34m\u001b[0m\u001b[0m\n",
            "\u001b[0m\u001b[0;32m      8 \u001b[0;31m\u001b[0mvn_transform\u001b[0m \u001b[0;34m=\u001b[0m \u001b[0mVirtualNode\u001b[0m\u001b[0;34m(\u001b[0m\u001b[0;34m)\u001b[0m\u001b[0;34m\u001b[0m\u001b[0;34m\u001b[0m\u001b[0m\n",
            "\u001b[0m\u001b[0;32m      9 \u001b[0;31m\u001b[0mmodel\u001b[0m\u001b[0;34m,\u001b[0m \u001b[0moptimizer\u001b[0m \u001b[0;34m=\u001b[0m \u001b[0mget_model\u001b[0m\u001b[0;34m(\u001b[0m\u001b[0;34m)\u001b[0m\u001b[0;34m\u001b[0m\u001b[0;34m\u001b[0m\u001b[0m\n",
            "\u001b[0m\n",
            "ipdb> batch.y[-1]\n",
            "tensor([0])\n",
            "ipdb> batch.x[-1]\n",
            "tensor([0., 0., 0., 0., 0., 0., 0., 0., 0., 0., 0., 0., 0., 0., 0., 0., 0., 0., 0., 0., 0., 0., 0., 0.,\n",
            "        0., 0., 0., 0., 0., 0., 0., 0., 0., 0., 0., 0., 0., 0., 0., 0., 0., 0., 0., 0., 0., 0., 0., 0.,\n",
            "        0., 0., 0., 0., 0., 0., 0., 0., 0., 0., 0., 0., 0., 0., 0., 0., 0., 0., 0., 0., 0., 0., 0., 0.,\n",
            "        0., 0., 0., 0., 0., 0., 0., 0., 0., 0., 0., 0., 0., 0., 0., 0., 0., 0., 0., 0., 0., 0., 0., 0.,\n",
            "        0., 0., 0., 0., 0., 0., 0., 0., 0., 0., 0., 0., 0., 0., 0., 0., 0., 0., 0., 0., 0., 0., 0., 0.,\n",
            "        0., 0., 0., 0., 0., 0., 0., 0.])\n",
            "ipdb> batch.x[-2]\n",
            "tensor([-0.0700, -0.0365, -0.2194, -0.1301, -0.0332, -0.0614, -0.3106, -0.1240,\n",
            "         0.0491, -0.0013,  0.1673, -0.5697,  0.1314,  0.1891, -0.2333, -0.1865,\n",
            "         0.1142,  0.4250,  0.0566, -0.1834, -0.3973,  0.1057, -0.3947,  0.1664,\n",
            "        -0.3160,  0.3537,  0.1381, -0.4328,  0.0903, -0.0877, -0.1929, -0.0268,\n",
            "        -0.1189,  0.1808,  0.1628, -0.3449, -0.0598,  0.1289,  0.0925,  0.1213,\n",
            "         0.2259,  0.0296,  0.2141, -0.1889,  0.3081,  0.1771,  0.1662, -0.2310,\n",
            "         0.3356,  0.0087,  0.4167,  0.1889, -0.0747,  0.0427,  0.0115,  0.1497,\n",
            "        -0.1192, -0.2006, -0.0837, -0.3275,  0.5173,  0.1085,  0.2562, -0.1100,\n",
            "        -0.0627,  0.2594, -0.1150,  0.0419,  0.5974, -0.3372, -0.1596, -0.0709,\n",
            "        -0.0658, -0.0572,  0.0836, -0.3960,  0.0009,  0.2003,  0.0706, -0.1927,\n",
            "        -0.0401,  0.3066,  0.8387, -0.2647,  0.1964, -0.2610, -0.4962, -0.0228,\n",
            "         0.7958,  0.1852,  0.3503,  0.0163, -0.0154, -0.0792, -0.0637,  0.0306,\n",
            "        -0.0848,  0.0795,  0.0786, -0.2031,  0.0126,  0.6926, -0.0860, -0.2822,\n",
            "         0.2733,  0.0318, -0.2982,  0.1035, -0.2729,  0.3434, -0.3196, -0.1832,\n",
            "         0.1618, -0.1327,  0.1268,  0.1130,  0.0177, -0.0646, -0.0256,  0.0389,\n",
            "        -0.2317, -0.0371,  0.4774, -0.1904,  0.2290,  0.0466, -0.0397, -0.0927])\n",
            "ipdb> batch.y[-2]\n",
            "tensor([36])\n",
            "ipdb> \u0004\n"
          ]
        },
        {
          "output_type": "stream",
          "name": "stderr",
          "text": [
            "\r  0%|          | 0/2842 [00:59<?, ?it/s]"
          ]
        },
        {
          "output_type": "stream",
          "name": "stdout",
          "text": [
            "\n"
          ]
        },
        {
          "output_type": "stream",
          "name": "stderr",
          "text": [
            "\n"
          ]
        }
      ],
      "source": [
        "import pandas as pd\n",
        "\n",
        "from torch_geometric.transforms import VirtualNode\n",
        "\n",
        "def vn_filter(outputs, batch):\n",
        "  # virtual node adds a dummy label (0), and a dummy node (0)\n",
        "  return outputs\n",
        "\n",
        "vn_transform = VirtualNode()\n",
        "model, optimizer = get_model()\n",
        "print(f\"Training with virtual node\\n\")\n",
        "result = train(model,\n",
        "                optimizer,\n",
        "                num_epochs=num_epochs,\n",
        "                transform=vn_transform,\n",
        "                filter_output_fn=vn_filter,\n",
        "                apply_transform_at_test=True)\n",
        "\n",
        "best_ind = result['best_val_ind']\n",
        "best_vn_train_acc = result['all_train_acc'][best_ind]\n",
        "best_vn_val_acc = result['all_val_acc'][best_ind]\n",
        "best_vn_test_acc = result['all_test_acc'][best_ind]"
      ]
    },
    {
      "cell_type": "code",
      "execution_count": null,
      "metadata": {
        "colab": {
          "base_uri": "https://localhost:8080/",
          "height": 293
        },
        "id": "RBLiHgQQ2R7I",
        "outputId": "3eb46758-1f8c-492f-8379-dc75339d18b3"
      },
      "outputs": [
        {
          "ename": "ValueError",
          "evalue": "Could not interpret value `edge_prob` for `x`. An entry with this name does not appear in `data`.",
          "output_type": "error",
          "traceback": [
            "\u001b[0;31m---------------------------------------------------------------------------\u001b[0m",
            "\u001b[0;31mValueError\u001b[0m                                Traceback (most recent call last)",
            "\u001b[0;32m<ipython-input-39-e1aeb3467463>\u001b[0m in \u001b[0;36m<cell line: 1>\u001b[0;34m()\u001b[0m\n\u001b[0;32m----> 1\u001b[0;31m \u001b[0msns\u001b[0m\u001b[0;34m.\u001b[0m\u001b[0mlineplot\u001b[0m\u001b[0;34m(\u001b[0m\u001b[0mdata\u001b[0m\u001b[0;34m=\u001b[0m\u001b[0mdf\u001b[0m\u001b[0;34m,\u001b[0m \u001b[0mx\u001b[0m\u001b[0;34m=\u001b[0m\u001b[0;34m\"edge_prob\"\u001b[0m\u001b[0;34m,\u001b[0m \u001b[0my\u001b[0m\u001b[0;34m=\u001b[0m\u001b[0;34m\"test_acc\"\u001b[0m\u001b[0;34m)\u001b[0m\u001b[0;34m\u001b[0m\u001b[0;34m\u001b[0m\u001b[0m\n\u001b[0m",
            "\u001b[0;32m/usr/local/lib/python3.10/dist-packages/seaborn/relational.py\u001b[0m in \u001b[0;36mlineplot\u001b[0;34m(data, x, y, hue, size, style, units, weights, palette, hue_order, hue_norm, sizes, size_order, size_norm, dashes, markers, style_order, estimator, errorbar, n_boot, seed, orient, sort, err_style, err_kws, legend, ci, ax, **kwargs)\u001b[0m\n\u001b[1;32m    483\u001b[0m     \u001b[0merrorbar\u001b[0m \u001b[0;34m=\u001b[0m \u001b[0m_deprecate_ci\u001b[0m\u001b[0;34m(\u001b[0m\u001b[0merrorbar\u001b[0m\u001b[0;34m,\u001b[0m \u001b[0mci\u001b[0m\u001b[0;34m)\u001b[0m\u001b[0;34m\u001b[0m\u001b[0;34m\u001b[0m\u001b[0m\n\u001b[1;32m    484\u001b[0m \u001b[0;34m\u001b[0m\u001b[0m\n\u001b[0;32m--> 485\u001b[0;31m     p = _LinePlotter(\n\u001b[0m\u001b[1;32m    486\u001b[0m         \u001b[0mdata\u001b[0m\u001b[0;34m=\u001b[0m\u001b[0mdata\u001b[0m\u001b[0;34m,\u001b[0m\u001b[0;34m\u001b[0m\u001b[0;34m\u001b[0m\u001b[0m\n\u001b[1;32m    487\u001b[0m         variables=dict(\n",
            "\u001b[0;32m/usr/local/lib/python3.10/dist-packages/seaborn/relational.py\u001b[0m in \u001b[0;36m__init__\u001b[0;34m(self, data, variables, estimator, n_boot, seed, errorbar, sort, orient, err_style, err_kws, legend)\u001b[0m\n\u001b[1;32m    214\u001b[0m         )\n\u001b[1;32m    215\u001b[0m \u001b[0;34m\u001b[0m\u001b[0m\n\u001b[0;32m--> 216\u001b[0;31m         \u001b[0msuper\u001b[0m\u001b[0;34m(\u001b[0m\u001b[0;34m)\u001b[0m\u001b[0;34m.\u001b[0m\u001b[0m__init__\u001b[0m\u001b[0;34m(\u001b[0m\u001b[0mdata\u001b[0m\u001b[0;34m=\u001b[0m\u001b[0mdata\u001b[0m\u001b[0;34m,\u001b[0m \u001b[0mvariables\u001b[0m\u001b[0;34m=\u001b[0m\u001b[0mvariables\u001b[0m\u001b[0;34m)\u001b[0m\u001b[0;34m\u001b[0m\u001b[0;34m\u001b[0m\u001b[0m\n\u001b[0m\u001b[1;32m    217\u001b[0m \u001b[0;34m\u001b[0m\u001b[0m\n\u001b[1;32m    218\u001b[0m         \u001b[0mself\u001b[0m\u001b[0;34m.\u001b[0m\u001b[0mestimator\u001b[0m \u001b[0;34m=\u001b[0m \u001b[0mestimator\u001b[0m\u001b[0;34m\u001b[0m\u001b[0;34m\u001b[0m\u001b[0m\n",
            "\u001b[0;32m/usr/local/lib/python3.10/dist-packages/seaborn/_base.py\u001b[0m in \u001b[0;36m__init__\u001b[0;34m(self, data, variables)\u001b[0m\n\u001b[1;32m    632\u001b[0m         \u001b[0;31m# information for numeric axes would be information about log scales.\u001b[0m\u001b[0;34m\u001b[0m\u001b[0;34m\u001b[0m\u001b[0m\n\u001b[1;32m    633\u001b[0m         \u001b[0mself\u001b[0m\u001b[0;34m.\u001b[0m\u001b[0m_var_ordered\u001b[0m \u001b[0;34m=\u001b[0m \u001b[0;34m{\u001b[0m\u001b[0;34m\"x\"\u001b[0m\u001b[0;34m:\u001b[0m \u001b[0;32mFalse\u001b[0m\u001b[0;34m,\u001b[0m \u001b[0;34m\"y\"\u001b[0m\u001b[0;34m:\u001b[0m \u001b[0;32mFalse\u001b[0m\u001b[0;34m}\u001b[0m  \u001b[0;31m# alt., used DefaultDict\u001b[0m\u001b[0;34m\u001b[0m\u001b[0;34m\u001b[0m\u001b[0m\n\u001b[0;32m--> 634\u001b[0;31m         \u001b[0mself\u001b[0m\u001b[0;34m.\u001b[0m\u001b[0massign_variables\u001b[0m\u001b[0;34m(\u001b[0m\u001b[0mdata\u001b[0m\u001b[0;34m,\u001b[0m \u001b[0mvariables\u001b[0m\u001b[0;34m)\u001b[0m\u001b[0;34m\u001b[0m\u001b[0;34m\u001b[0m\u001b[0m\n\u001b[0m\u001b[1;32m    635\u001b[0m \u001b[0;34m\u001b[0m\u001b[0m\n\u001b[1;32m    636\u001b[0m         \u001b[0;31m# TODO Lots of tests assume that these are called to initialize the\u001b[0m\u001b[0;34m\u001b[0m\u001b[0;34m\u001b[0m\u001b[0m\n",
            "\u001b[0;32m/usr/local/lib/python3.10/dist-packages/seaborn/_base.py\u001b[0m in \u001b[0;36massign_variables\u001b[0;34m(self, data, variables)\u001b[0m\n\u001b[1;32m    677\u001b[0m             \u001b[0;31m# to centralize / standardize data consumption logic.\u001b[0m\u001b[0;34m\u001b[0m\u001b[0;34m\u001b[0m\u001b[0m\n\u001b[1;32m    678\u001b[0m             \u001b[0mself\u001b[0m\u001b[0;34m.\u001b[0m\u001b[0minput_format\u001b[0m \u001b[0;34m=\u001b[0m \u001b[0;34m\"long\"\u001b[0m\u001b[0;34m\u001b[0m\u001b[0;34m\u001b[0m\u001b[0m\n\u001b[0;32m--> 679\u001b[0;31m             \u001b[0mplot_data\u001b[0m \u001b[0;34m=\u001b[0m \u001b[0mPlotData\u001b[0m\u001b[0;34m(\u001b[0m\u001b[0mdata\u001b[0m\u001b[0;34m,\u001b[0m \u001b[0mvariables\u001b[0m\u001b[0;34m)\u001b[0m\u001b[0;34m\u001b[0m\u001b[0;34m\u001b[0m\u001b[0m\n\u001b[0m\u001b[1;32m    680\u001b[0m             \u001b[0mframe\u001b[0m \u001b[0;34m=\u001b[0m \u001b[0mplot_data\u001b[0m\u001b[0;34m.\u001b[0m\u001b[0mframe\u001b[0m\u001b[0;34m\u001b[0m\u001b[0;34m\u001b[0m\u001b[0m\n\u001b[1;32m    681\u001b[0m             \u001b[0mnames\u001b[0m \u001b[0;34m=\u001b[0m \u001b[0mplot_data\u001b[0m\u001b[0;34m.\u001b[0m\u001b[0mnames\u001b[0m\u001b[0;34m\u001b[0m\u001b[0;34m\u001b[0m\u001b[0m\n",
            "\u001b[0;32m/usr/local/lib/python3.10/dist-packages/seaborn/_core/data.py\u001b[0m in \u001b[0;36m__init__\u001b[0;34m(self, data, variables)\u001b[0m\n\u001b[1;32m     56\u001b[0m \u001b[0;34m\u001b[0m\u001b[0m\n\u001b[1;32m     57\u001b[0m         \u001b[0mdata\u001b[0m \u001b[0;34m=\u001b[0m \u001b[0mhandle_data_source\u001b[0m\u001b[0;34m(\u001b[0m\u001b[0mdata\u001b[0m\u001b[0;34m)\u001b[0m\u001b[0;34m\u001b[0m\u001b[0;34m\u001b[0m\u001b[0m\n\u001b[0;32m---> 58\u001b[0;31m         \u001b[0mframe\u001b[0m\u001b[0;34m,\u001b[0m \u001b[0mnames\u001b[0m\u001b[0;34m,\u001b[0m \u001b[0mids\u001b[0m \u001b[0;34m=\u001b[0m \u001b[0mself\u001b[0m\u001b[0;34m.\u001b[0m\u001b[0m_assign_variables\u001b[0m\u001b[0;34m(\u001b[0m\u001b[0mdata\u001b[0m\u001b[0;34m,\u001b[0m \u001b[0mvariables\u001b[0m\u001b[0;34m)\u001b[0m\u001b[0;34m\u001b[0m\u001b[0;34m\u001b[0m\u001b[0m\n\u001b[0m\u001b[1;32m     59\u001b[0m \u001b[0;34m\u001b[0m\u001b[0m\n\u001b[1;32m     60\u001b[0m         \u001b[0mself\u001b[0m\u001b[0;34m.\u001b[0m\u001b[0mframe\u001b[0m \u001b[0;34m=\u001b[0m \u001b[0mframe\u001b[0m\u001b[0;34m\u001b[0m\u001b[0;34m\u001b[0m\u001b[0m\n",
            "\u001b[0;32m/usr/local/lib/python3.10/dist-packages/seaborn/_core/data.py\u001b[0m in \u001b[0;36m_assign_variables\u001b[0;34m(self, data, variables)\u001b[0m\n\u001b[1;32m    230\u001b[0m                 \u001b[0;32melse\u001b[0m\u001b[0;34m:\u001b[0m\u001b[0;34m\u001b[0m\u001b[0;34m\u001b[0m\u001b[0m\n\u001b[1;32m    231\u001b[0m                     \u001b[0merr\u001b[0m \u001b[0;34m+=\u001b[0m \u001b[0;34m\"An entry with this name does not appear in `data`.\"\u001b[0m\u001b[0;34m\u001b[0m\u001b[0;34m\u001b[0m\u001b[0m\n\u001b[0;32m--> 232\u001b[0;31m                 \u001b[0;32mraise\u001b[0m \u001b[0mValueError\u001b[0m\u001b[0;34m(\u001b[0m\u001b[0merr\u001b[0m\u001b[0;34m)\u001b[0m\u001b[0;34m\u001b[0m\u001b[0;34m\u001b[0m\u001b[0m\n\u001b[0m\u001b[1;32m    233\u001b[0m \u001b[0;34m\u001b[0m\u001b[0m\n\u001b[1;32m    234\u001b[0m             \u001b[0;32melse\u001b[0m\u001b[0;34m:\u001b[0m\u001b[0;34m\u001b[0m\u001b[0;34m\u001b[0m\u001b[0m\n",
            "\u001b[0;31mValueError\u001b[0m: Could not interpret value `edge_prob` for `x`. An entry with this name does not appear in `data`."
          ]
        }
      ],
      "source": [
        "import pandas as pd\n",
        "import seaborn as sns\n",
        "import matplotlib.pyplot as plt\n",
        "\n",
        "# Create DataFrame with results\n",
        "df = pd.DataFrame({\n",
        "    'model': ['baseline', 'virtual node'],\n",
        "    'test_acc': [best_bl_test_acc, best_vn_test_acc]\n",
        "})\n",
        "\n",
        "plt.figure(figsize=(8, 6))\n",
        "sns.set_style(\"whitegrid\")\n",
        "\n",
        "ax = sns.barplot(\n",
        "    x='model',\n",
        "    y='test_acc',\n",
        "    data=df,\n",
        "    color='skyblue',\n",
        "    alpha=0.8\n",
        ")\n",
        "\n",
        "# Add value labels on top of bars\n",
        "for i in ax.containers:\n",
        "    ax.bar_label(i, fmt='%.4f', padding=3)\n",
        "\n",
        "ax.set(\n",
        "    xlabel='Model Type',\n",
        "    ylabel='Test Accuracy',\n",
        "    title='Test Accuracy: Baseline vs Virtual Node'\n",
        ")\n",
        "\n",
        "# Format y-axis as percentages\n",
        "ax.yaxis.set_major_formatter(plt.FuncFormatter(lambda y, _: '{:.1%}'.format(y)))\n",
        "\n",
        "# Adjust y limits to focus on variation\n",
        "ymin = min(df['test_acc']) * 0.95\n",
        "ymax = max(df['test_acc']) * 1.05\n",
        "ax.set_ylim(ymin, ymax)\n",
        "\n",
        "plt.tight_layout()\n",
        "sns.despine()\n"
      ]
    }
  ],
  "metadata": {
    "colab": {
      "provenance": [],
      "gpuType": "T4",
      "include_colab_link": true
    },
    "kernelspec": {
      "display_name": "Python 3",
      "name": "python3"
    },
    "language_info": {
      "codemirror_mode": {
        "name": "ipython",
        "version": 3
      },
      "file_extension": ".py",
      "mimetype": "text/x-python",
      "name": "python",
      "nbconvert_exporter": "python",
      "pygments_lexer": "ipython3",
      "version": "3.10.12"
    },
    "accelerator": "GPU"
  },
  "nbformat": 4,
  "nbformat_minor": 0
}