{
  "cells": [
    {
      "cell_type": "markdown",
      "metadata": {
        "id": "view-in-github",
        "colab_type": "text"
      },
      "source": [
        "<a href=\"https://colab.research.google.com/github/adelsuh/cs224_final_project/blob/main/graph_structure_aug.ipynb\" target=\"_parent\"><img src=\"https://colab.research.google.com/assets/colab-badge.svg\" alt=\"Open In Colab\"/></a>"
      ]
    },
    {
      "cell_type": "markdown",
      "metadata": {
        "id": "kS6ESNtSpN-z"
      },
      "source": [
        "# CS224W Final Project: Tutorial on the Augmentation of Graphs in PyG\n",
        "\n",
        "### Jerry Chan, Jihee Suh, John So"
      ]
    },
    {
      "cell_type": "markdown",
      "metadata": {
        "id": "iPsmdGx7UJ4z"
      },
      "source": [
        "### Notebook setup: install PyG + torch"
      ]
    },
    {
      "cell_type": "code",
      "execution_count": 1,
      "metadata": {
        "colab": {
          "base_uri": "https://localhost:8080/"
        },
        "collapsed": true,
        "id": "pS2qTpqApIRS",
        "outputId": "f2eddb29-24ff-4935-b8a0-7836789c5a56"
      },
      "outputs": [
        {
          "output_type": "stream",
          "name": "stdout",
          "text": [
            "2.4.0+cu121\n"
          ]
        }
      ],
      "source": [
        "import torch\n",
        "torch_version = str(torch.__version__)\n",
        "if \"2.4.0\" not in torch_version:\n",
        "  !pip install torch==2.4.0 -q\n",
        "print(torch_version)"
      ]
    },
    {
      "cell_type": "code",
      "execution_count": 2,
      "metadata": {
        "collapsed": true,
        "id": "dies5CJuqmum"
      },
      "outputs": [],
      "source": [
        "scatter_src = f\"https://pytorch-geometric.com/whl/torch-{torch_version}.html\"\n",
        "sparse_src = f\"https://pytorch-geometric.com/whl/torch-{torch_version}.html\"\n",
        "!pip install torch-scatter -f $scatter_src -q\n",
        "!pip install torch-sparse -f $sparse_src -q\n",
        "!pip install torch-geometric -q\n",
        "!pip install ogb -q"
      ]
    },
    {
      "cell_type": "code",
      "execution_count": 3,
      "metadata": {
        "colab": {
          "base_uri": "https://localhost:8080/"
        },
        "id": "0uIk066oMxUJ",
        "outputId": "e1e6d757-9329-4f50-dd82-e0ebb2562660"
      },
      "outputs": [
        {
          "output_type": "stream",
          "name": "stdout",
          "text": [
            "using device: cpu\n"
          ]
        }
      ],
      "source": [
        "import os\n",
        "import random\n",
        "import numpy as np\n",
        "import torch\n",
        "\n",
        "def seed_everything(seed):\n",
        "    random.seed(seed)\n",
        "    np.random.seed(seed)\n",
        "    os.environ[\"PYTHONHASHSEED\"] = str(seed)\n",
        "    torch.manual_seed(seed)\n",
        "    torch.cuda.manual_seed(seed)\n",
        "    torch.backends.cudnn.deterministic = True\n",
        "    torch.backends.cudnn.benchmark = False\n",
        "\n",
        "seed_everything(42)\n",
        "\n",
        "device = 'cuda' if torch.cuda.is_available() else 'cpu'\n",
        "print(f\"using device: {device}\")"
      ]
    },
    {
      "cell_type": "markdown",
      "metadata": {
        "id": "euGXjAPU1Ss4"
      },
      "source": [
        "### Setting up the dataset and tasks\n",
        "\n",
        "The below code sets up some hyperparameters which will be used in dataloading and training.\n"
      ]
    },
    {
      "cell_type": "code",
      "execution_count": 4,
      "metadata": {
        "cellView": "form",
        "colab": {
          "base_uri": "https://localhost:8080/"
        },
        "id": "Eg2APSF7WvSq",
        "outputId": "fd588efb-a80a-4dac-895b-3530d8c81346"
      },
      "outputs": [
        {
          "output_type": "stream",
          "name": "stdout",
          "text": [
            "\n",
            "Running training with the following configuration:\n",
            "   hidden_dim: 128\n",
            "   num_layers: 4\n",
            "   learning_rate: 0.0001\n",
            "   num_epochs: 10\n",
            "   batch_size: 32\n",
            "\n"
          ]
        }
      ],
      "source": [
        "# Model settings\n",
        "hidden_dim = 128 #@param {type: \"integer\"}\n",
        "num_layers = 4 #@param {type: \"integer\"}\n",
        "# Training settings\n",
        "learning_rate = 0.0001 #@param {type: \"number\"}\n",
        "num_epochs = 10 #@param {type: \"integer\"}\n",
        "\n",
        "# Dataloader settings\n",
        "batch_size = 32 #@param {type: \"integer\"}\n",
        "fan_out = 10 #@param {type: \"integer\", hint: \"Used in neighborhood sampling to sample a subgraph\"}\n",
        "dataloader_num_workers = 2 #@param {type: \"integer\"}\n",
        "\n",
        "print(f\"\"\"\n",
        "Running training with the following configuration:\n",
        "   hidden_dim: {hidden_dim}\n",
        "   num_layers: {num_layers}\n",
        "   learning_rate: {learning_rate}\n",
        "   num_epochs: {num_epochs}\n",
        "   batch_size: {batch_size}\n",
        "\"\"\")"
      ]
    },
    {
      "cell_type": "markdown",
      "metadata": {
        "id": "fNIrDcPdY9ot"
      },
      "source": [
        "### About the task: etc. etc.\n",
        "\n",
        "Some generic description about obgn.\n",
        "\n",
        "Run the below block to create the dataset. If this is your first time loading the dataset, it will additionally prompt you to download files.\n",
        "\n",
        "**Note**: this block loads the dataset into RAM each time it is called! So calling this block multiple times will likely consume all of the notebook's RAM. Take caution."
      ]
    },
    {
      "cell_type": "code",
      "execution_count": 5,
      "metadata": {
        "colab": {
          "base_uri": "https://localhost:8080/"
        },
        "id": "TjEjRXaMZLqZ",
        "outputId": "c6db83f1-00a8-4a28-9189-58789f0e01b6"
      },
      "outputs": [
        {
          "output_type": "stream",
          "name": "stderr",
          "text": [
            "/usr/local/lib/python3.10/dist-packages/ogb/nodeproppred/dataset_pyg.py:69: FutureWarning: You are using `torch.load` with `weights_only=False` (the current default value), which uses the default pickle module implicitly. It is possible to construct malicious pickle data which will execute arbitrary code during unpickling (See https://github.com/pytorch/pytorch/blob/main/SECURITY.md#untrusted-models for more details). In a future release, the default value for `weights_only` will be flipped to `True`. This limits the functions that could be executed during unpickling. Arbitrary objects will no longer be allowed to be loaded via this mode unless they are explicitly allowlisted by the user via `torch.serialization.add_safe_globals`. We recommend you start setting `weights_only=True` for any use case where you don't have full control of the loaded file. Please open an issue on GitHub for any issues related to this experimental feature.\n",
            "  self.data, self.slices = torch.load(self.processed_paths[0])\n"
          ]
        }
      ],
      "source": [
        "from ogb.nodeproppred import PygNodePropPredDataset\n",
        "from ogb.graphproppred import PygGraphPropPredDataset\n",
        "dataset = PygNodePropPredDataset(name='ogbn-arxiv', root='./arxiv/')"
      ]
    },
    {
      "cell_type": "code",
      "execution_count": 6,
      "metadata": {
        "colab": {
          "base_uri": "https://localhost:8080/"
        },
        "id": "bKdSKWebalo3",
        "outputId": "ec7c5d07-7c01-4114-f506-77404dd185f5"
      },
      "outputs": [
        {
          "output_type": "stream",
          "name": "stdout",
          "text": [
            "\n",
            "Summary of the OBGN Arxiv dataset:\n",
            "  Number of graphs: 1\n",
            "  Number of features: 128\n",
            "  Number of classes: 40\n",
            "  Length of each split:\n",
            "    Training: 90941\n",
            "    Validation: 29799\n",
            "    Test: 48603\n",
            "\n"
          ]
        }
      ],
      "source": [
        "split_idx = dataset.get_idx_split()\n",
        "# sample test set to speed up\n",
        "split_idx['test'] = split_idx['test']\n",
        "split_idx['valid'] = split_idx['valid']\n",
        "\n",
        "print(f\"\"\"\n",
        "Summary of the OBGN Arxiv dataset:\n",
        "  Number of graphs: {len(dataset)}\n",
        "  Number of features: {dataset.num_features}\n",
        "  Number of classes: {dataset.num_classes}\n",
        "  Length of each split:\n",
        "    Training: {len(split_idx['train'])}\n",
        "    Validation: {len(split_idx['valid'])}\n",
        "    Test: {len(split_idx['test'])}\n",
        "\"\"\")"
      ]
    },
    {
      "cell_type": "markdown",
      "metadata": {
        "id": "aUYQHiFYYloB"
      },
      "source": [
        "Now, let's create some dataloaders!\n",
        "\n",
        "todo: write something about neighbor loader. why do we need this?"
      ]
    },
    {
      "cell_type": "code",
      "execution_count": 7,
      "metadata": {
        "colab": {
          "base_uri": "https://localhost:8080/"
        },
        "id": "f3loxjdsYkwv",
        "outputId": "9a81e1c7-3f4b-4a12-bfb3-9f3e9416705b"
      },
      "outputs": [
        {
          "output_type": "stream",
          "name": "stderr",
          "text": [
            "/usr/local/lib/python3.10/dist-packages/torch_geometric/sampler/neighbor_sampler.py:61: UserWarning: Using 'NeighborSampler' without a 'pyg-lib' installation is deprecated and will be removed soon. Please install 'pyg-lib' for accelerated neighborhood sampling\n",
            "  warnings.warn(f\"Using '{self.__class__.__name__}' without a \"\n"
          ]
        }
      ],
      "source": [
        "from torch_geometric.loader import NeighborLoader\n",
        "\n",
        "data = dataset[0]\n",
        "train_loader = NeighborLoader(\n",
        "    data,\n",
        "    input_nodes=split_idx['train'],\n",
        "    num_neighbors=[fan_out] * num_layers,\n",
        "    batch_size=batch_size,\n",
        "    shuffle=True,\n",
        "    pin_memory=True,\n",
        "    num_workers=dataloader_num_workers\n",
        ")\n",
        "val_loader = NeighborLoader(\n",
        "    data,\n",
        "    input_nodes=split_idx['valid'],\n",
        "    num_neighbors=[fan_out] * num_layers,\n",
        "    batch_size=batch_size,\n",
        "    shuffle=True,\n",
        "    num_workers=dataloader_num_workers,\n",
        ")\n",
        "test_loader = NeighborLoader(\n",
        "    data,\n",
        "    input_nodes=split_idx['test'],\n",
        "    num_neighbors=[fan_out] * num_layers,\n",
        "    batch_size=batch_size,\n",
        "    shuffle=True,\n",
        "    num_workers=0\n",
        ")"
      ]
    },
    {
      "cell_type": "code",
      "execution_count": 8,
      "metadata": {
        "colab": {
          "base_uri": "https://localhost:8080/"
        },
        "id": "0HmhMpxvuxO0",
        "outputId": "670b02fc-852c-4378-85ff-08a1bd071d52"
      },
      "outputs": [
        {
          "output_type": "stream",
          "name": "stdout",
          "text": [
            "Example batch:\n",
            "Data(num_nodes=1512, edge_index=[2, 2194], x=[1512, 128], node_year=[1512, 1], y=[1512, 1], n_id=[1512], e_id=[2194], input_id=[32], batch_size=32)\n"
          ]
        }
      ],
      "source": [
        "print(f\"Example batch:\")\n",
        "train_batch = next(iter(train_loader))\n",
        "print(train_batch)"
      ]
    },
    {
      "cell_type": "markdown",
      "metadata": {
        "id": "YRim-oBTUVSe"
      },
      "source": [
        "### Training and Evaluation Utilities"
      ]
    },
    {
      "cell_type": "code",
      "execution_count": 9,
      "metadata": {
        "id": "RGBPUxkQ2R7H"
      },
      "outputs": [],
      "source": [
        "from torch_geometric.nn.models import GraphSAGE\n",
        "\n",
        "input_dim = dataset.num_features\n",
        "\n",
        "def get_model():\n",
        "    class GraphSAGENodeClassification(torch.nn.Module):\n",
        "        def __init__(self, input_dim, hidden_dim, num_layers, num_classes):\n",
        "            super(GraphSAGENodeClassification, self).__init__()\n",
        "            self.graph_sage = GraphSAGE(in_channels = input_dim, hidden_channels = hidden_dim, num_layers=num_layers)\n",
        "            self.cls_head = torch.nn.Sequential(\n",
        "                torch.nn.Dropout(0.1),\n",
        "                torch.nn.ReLU(),\n",
        "                torch.nn.Linear(hidden_dim, num_classes),\n",
        "            )\n",
        "            self.loss_fn = torch.nn.CrossEntropyLoss()\n",
        "\n",
        "        def forward(self, x, edge_index):\n",
        "            h = self.graph_sage(x, edge_index)\n",
        "            return self.cls_head(h)\n",
        "\n",
        "    model = GraphSAGENodeClassification(input_dim, hidden_dim, num_layers, dataset.num_classes)\n",
        "    optimizer = torch.optim.Adam(model.parameters(), lr=learning_rate)\n",
        "    model.to(device)\n",
        "    return model, optimizer"
      ]
    },
    {
      "cell_type": "markdown",
      "metadata": {
        "id": "oQk7f7vrcPKR"
      },
      "source": [
        "Next, we define a simple training loop and evaluation function:\n"
      ]
    },
    {
      "cell_type": "code",
      "execution_count": 10,
      "metadata": {
        "id": "KWZejP8NNFlG"
      },
      "outputs": [],
      "source": [
        "from tqdm import tqdm\n",
        "\n",
        "# training process\n",
        "def train_one_epoch(model,\n",
        "                    dataloader,\n",
        "                    optimizer,\n",
        "                    transform=None,\n",
        "                    filter_output_fn=None):\n",
        "    \"\"\"\n",
        "    Run one epoch of training on the model on the given dataset.\n",
        "\n",
        "    Args:\n",
        "        model (torch.nn.Module): The model to evaluate.\n",
        "        dataloader (torch.utils.data.DataLoader): The dataloader for the dataset.\n",
        "        transform: if specified and apply_transform is True, a transformation to apply to each batch\n",
        "        filter_output_fn: if specified and apply_transform is True, a transformation to apply to the output of each batch.\n",
        "    \"\"\"\n",
        "    model.train()\n",
        "\n",
        "    # define stats\n",
        "    total_loss = 0\n",
        "    total_correct = 0\n",
        "    num_examples = 0\n",
        "\n",
        "    for batch in tqdm(dataloader):\n",
        "\n",
        "        # transform batch if needed\n",
        "        batch_size = batch.batch_size\n",
        "        batch = batch.to(device)\n",
        "        if transform is not None:\n",
        "          batch = transform(batch)\n",
        "        # forward pass\n",
        "        optimizer.zero_grad()\n",
        "        logits = model(batch.x, batch.edge_index)\n",
        "        if filter_output_fn is not None:\n",
        "          logits = filter_output_fn(logits, batch)\n",
        "\n",
        "        # backward pass\n",
        "        num_labels = logits.shape[0]\n",
        "        labels = batch.y.squeeze(-1)\n",
        "\n",
        "        loss = model.loss_fn(logits, labels)\n",
        "        loss.backward()\n",
        "        optimizer.step()\n",
        "\n",
        "\n",
        "        # log stats\n",
        "        total_loss += loss.item() * num_labels\n",
        "        total_correct += logits.argmax(dim=-1).eq(labels).sum().item()\n",
        "        num_examples += num_labels\n",
        "\n",
        "    loss = total_loss / num_examples\n",
        "    acc = total_correct / num_examples\n",
        "    return loss, acc\n",
        "\n",
        "# test process\n",
        "@torch.no_grad()\n",
        "def test(model,\n",
        "         dataloader,\n",
        "         transform=None,\n",
        "         filter_output_fn=None,\n",
        "         apply_transform=True):\n",
        "    \"\"\"\n",
        "    Calculate metrics for the model on the given dataset.\n",
        "\n",
        "    Args:\n",
        "        model (torch.nn.Module): The model to evaluate.\n",
        "        dataloader (torch.utils.data.DataLoader): The dataloader for the dataset.\n",
        "        apply_transform: whether to use the arguments transform and filter_output_fn.\n",
        "        transform: if specified and apply_transform is True, a transformation to apply to each batch\n",
        "        filter_output_fn: if specified and apply_transform is True, a transformation to apply to the output of each batch.\n",
        "    \"\"\"\n",
        "    model.eval()\n",
        "\n",
        "    # define states\n",
        "    total_loss = 0\n",
        "    total_correct = 0\n",
        "    num_examples = 0\n",
        "\n",
        "    for batch in tqdm(dataloader):\n",
        "        # transform batch if needed\n",
        "        batch_size = batch.batch_size\n",
        "        batch = batch.to(device)\n",
        "        if apply_transform and (transform is not None):\n",
        "          batch = transform(batch)\n",
        "\n",
        "        # forward pass\n",
        "        logits = model(batch.x, batch.edge_index)\n",
        "        if apply_transform and (filter_output_fn is not None):\n",
        "          logits = filter_output_fn(logits, batch)\n",
        "\n",
        "        # compute loss\n",
        "        num_labels = logits.shape[0]\n",
        "        labels = batch.y.squeeze(-1)\n",
        "        loss = model.loss_fn(logits, labels)\n",
        "        # log stats\n",
        "        total_loss += loss.item() * num_labels\n",
        "        total_correct += logits.argmax(dim=-1).eq(labels).sum().item()\n",
        "        num_examples += num_labels\n",
        "\n",
        "    loss = total_loss / num_examples\n",
        "    acc = total_correct / num_examples\n",
        "    return loss, acc"
      ]
    },
    {
      "cell_type": "markdown",
      "metadata": {
        "id": "7r7qVZHKdIQi"
      },
      "source": [
        "To train and evaluate out model, call the below function!"
      ]
    },
    {
      "cell_type": "code",
      "execution_count": 11,
      "metadata": {
        "id": "e41neWDGY_Mw"
      },
      "outputs": [],
      "source": [
        "def train(model,\n",
        "          optimizer,\n",
        "          num_epochs,\n",
        "          transform=None,\n",
        "          filter_output_fn=None,\n",
        "          apply_transform_at_test=True):\n",
        "    all_train_acc, all_val_acc, all_test_acc = [], [], []\n",
        "    best_val_ind, best_val_acc = 0, 0\n",
        "    for epoch in range(num_epochs):\n",
        "        print(f'Epoch: {epoch+1:02d}')\n",
        "\n",
        "        # training\n",
        "        train_loss, train_acc = train_one_epoch(model,\n",
        "                                                train_loader,\n",
        "                                                optimizer,\n",
        "                                                transform,\n",
        "                                                filter_output_fn)\n",
        "        val_loss, val_acc = test(model,\n",
        "                                 val_loader,\n",
        "                                 transform,\n",
        "                                 filter_output_fn=filter_output_fn,\n",
        "                                 apply_transform=apply_transform_at_test)\n",
        "        test_loss, test_acc = test(model,\n",
        "                                   test_loader,\n",
        "                                   transform,\n",
        "                                   filter_output_fn=filter_output_fn,\n",
        "                                   apply_transform=apply_transform_at_test)\n",
        "\n",
        "        if val_acc > best_val_acc:\n",
        "            best_val_acc = val_acc\n",
        "            best_val_ind = epoch\n",
        "\n",
        "        print(f'Train {train_loss:.4f} ({100.0 * train_acc:.2f}%) | Val {val_loss:.4f} ({100.0 * val_acc:.2f}%) | Test {test_loss:.4f} ({100.0 * test_acc:.2f}%)')\n",
        "\n",
        "        all_train_acc.append(train_acc)\n",
        "        all_val_acc.append(val_acc)\n",
        "        all_test_acc.append(test_acc)\n",
        "\n",
        "    return {\n",
        "        'all_train_acc': np.array(all_train_acc),\n",
        "        'all_val_acc': np.array(all_val_acc),\n",
        "        'all_test_acc': np.array(all_test_acc),\n",
        "        'best_val_ind': best_val_ind,\n",
        "        'model': model\n",
        "    }"
      ]
    },
    {
      "cell_type": "markdown",
      "metadata": {
        "id": "7689hVEydrU7"
      },
      "source": [
        "To illustrate some example usage, let's run a baseline. This trains a GraphSAGE network with no graph structure augmentations."
      ]
    },
    {
      "cell_type": "code",
      "source": [
        "model, optimizer = get_model()\n",
        "results = train(model, optimizer, num_epochs=num_epochs)\n",
        "\n",
        "best_bl_train_acc = results['all_train_acc'][results['best_val_ind']]\n",
        "best_bl_val_acc = results['all_val_acc'][results['best_val_ind']]\n",
        "best_bl_test_acc = results['all_test_acc'][results['best_val_ind']]"
      ],
      "metadata": {
        "colab": {
          "base_uri": "https://localhost:8080/"
        },
        "id": "HJREZyVzPqIr",
        "outputId": "78657c28-589e-4515-e79a-7b1cc57b74bd"
      },
      "execution_count": null,
      "outputs": [
        {
          "output_type": "stream",
          "name": "stdout",
          "text": [
            "Epoch: 01\n"
          ]
        },
        {
          "output_type": "stream",
          "name": "stderr",
          "text": [
            "100%|██████████| 2842/2842 [03:26<00:00, 13.76it/s]\n",
            "100%|██████████| 932/932 [00:16<00:00, 56.62it/s]\n",
            "100%|██████████| 1519/1519 [00:07<00:00, 191.94it/s]\n"
          ]
        },
        {
          "output_type": "stream",
          "name": "stdout",
          "text": [
            "Train 1.8865 (47.50%) | Val 1.4823 (59.03%) | Test 1.5508 (57.39%)\n",
            "Epoch: 02\n"
          ]
        },
        {
          "output_type": "stream",
          "name": "stderr",
          "text": [
            "100%|██████████| 2842/2842 [03:07<00:00, 15.15it/s]\n",
            "100%|██████████| 932/932 [00:17<00:00, 52.08it/s]\n",
            "100%|██████████| 1519/1519 [00:06<00:00, 221.66it/s]\n"
          ]
        },
        {
          "output_type": "stream",
          "name": "stdout",
          "text": [
            "Train 1.4882 (57.95%) | Val 1.3542 (61.75%) | Test 1.4164 (60.29%)\n",
            "Epoch: 03\n"
          ]
        },
        {
          "output_type": "stream",
          "name": "stderr",
          "text": [
            "100%|██████████| 2842/2842 [03:06<00:00, 15.27it/s]\n",
            " 76%|███████▌  | 708/932 [00:12<00:04, 44.81it/s]"
          ]
        }
      ]
    },
    {
      "cell_type": "code",
      "source": [
        "import numpy as np\n",
        "import matplotlib.pyplot as plt\n",
        "import seaborn as sns\n",
        "from typing import Dict, Optional\n",
        "\n",
        "# Set a clean, modern aesthetic\n",
        "plt.style.use('seaborn-v0_8-pastel')\n",
        "sns.set_palette(\"deep\")\n",
        "\n",
        "def plot(x: Optional[np.ndarray] = None,\n",
        "         y: Dict[str, np.ndarray] = dict(),\n",
        "         xlabel: str = \"\",\n",
        "         ylabel: str = \"accuracy\"):\n",
        "\n",
        "  plt.figure(figsize=(6, 4), dpi=300)\n",
        "\n",
        "  for key, value in y.items():\n",
        "    if x is not None:\n",
        "      plt.plot(x, value, label=key)\n",
        "    else:\n",
        "      plt.plot(value, label=key)\n",
        "\n",
        "  plt.grid(True, linestyle='--', linewidth=0.5, color='grey', alpha=0.7)\n",
        "  plt.title('training accuracy', fontsize=16)\n",
        "  if x is not None:\n",
        "    plt.xlabel(xlabel)\n",
        "  plt.ylabel(ylabel)\n",
        "\n",
        "  plt.legend(frameon=True, fancybox=True, framealpha=0.7)\n",
        "  plt.tight_layout()\n",
        "  plt.gca().set_facecolor('none')\n",
        "  plt.gcf().patch.set_alpha(0.0)\n",
        "\n",
        "  plt.show()"
      ],
      "metadata": {
        "id": "Dpv163A4GlER"
      },
      "execution_count": null,
      "outputs": []
    },
    {
      "cell_type": "code",
      "source": [
        "to_plot = {\n",
        "    \"train\": results['all_train_acc'],\n",
        "    \"val\": results['all_val_acc'],\n",
        "}\n",
        "\n",
        "plot(y=to_plot, xlabel=\"epoch\")"
      ],
      "metadata": {
        "colab": {
          "base_uri": "https://localhost:8080/",
          "height": 433
        },
        "id": "wPbxf44hHYYm",
        "outputId": "ed1a712b-502b-4b90-ff33-9452a14e56f9"
      },
      "execution_count": 32,
      "outputs": [
        {
          "output_type": "display_data",
          "data": {
            "text/plain": [
              "<Figure size 1800x1200 with 1 Axes>"
            ],
            "image/png": "[encoded data removed]"
          },
          "metadata": {
            "needs_background": "light"
          }
        }
      ]
    },
    {
      "cell_type": "markdown",
      "metadata": {
        "id": "zFw4Vi5o1dPP"
      },
      "source": [
        "## Graph Structure Augmentation\n",
        "\n",
        "Modifying the **struture** of the graph is also a powerful way to improve the performance of GNNs. The performance of GNNs is very much related to the structure of the graph.\n",
        "\n",
        "To better motivate graph structure augmentations, let’s first revisit the core idea of GNNs: message passing. At each layer, nodes aggregate information from their neighbors, gradually building a representation that reflects their local neighborhood structure. In theory, deeper networks should be able to capture broader relationships in the graph, integrating information from distant nodes.\n",
        "\n",
        "- **Over-smoothing**:    Recall that a GNN with $k$ layers aggregates information from each node's $k$-hop neighborhood. Thus, as the network deepens, node representations increasingly mix, and after many layers, nodes tend to converge to very similar representations. This “blending” means that the network struggles to distinguish between nodes, especially in large, densely connected graphs. In extreme cases, the output becomes almost uniform across all nodes, rendering the GNN ineffective for tasks like classification or clustering.\n",
        "\n",
        "- **Global relationships**:    While increasing the receptive field of each node by stacking more GNN layers might seem like a solution, it exacerbates the over-smoothing problem noted above, highlighting the trade-offs between depth and effective information propagation.\n",
        "\n",
        "Graph structure augmentations tackle these challenges head-on by altering the graph’s connectivity, introducing extra nodes and/or edges. to improve the flow of information across the graph, mitigate over-smoothing, and enable GNNs to better capture both local and global patterns."
      ]
    },
    {
      "cell_type": "markdown",
      "metadata": {
        "id": "SYXn7Cqm-Ff1"
      },
      "source": [
        "### Half Hop\n",
        "\n",
        "Half-Hop (introduced in [Azabou 2023](https://arxiv.org/abs/2308.09198)) enhances message passing in neural networks by inserting intermediate \"slow nodes\" between connected nodes in a graph. This approach mitigates over-smoothing and improves performance, especially in scenarios where neighboring nodes have different labels. The PyG documentation can be found [here](https://pytorch-geometric.readthedocs.io/en/stable/generated/torch_geometric.transforms.HalfHop.html)."
      ]
    },
    {
      "cell_type": "code",
      "execution_count": 85,
      "metadata": {
        "colab": {
          "base_uri": "https://localhost:8080/",
          "height": 581
        },
        "id": "_rKVySq62R7H",
        "outputId": "8000aa0f-22d3-4250-a344-c542e0a8f0ae"
      },
      "outputs": [
        {
          "output_type": "stream",
          "name": "stdout",
          "text": [
            "Training with half-hop probability of 0.1\n",
            "\n",
            "Epoch: 01\n"
          ]
        },
        {
          "output_type": "stream",
          "name": "stderr",
          "text": [
            "\r  0%|          | 0/2842 [00:00<?, ?it/s]/usr/local/lib/python3.10/dist-packages/torch/utils/data/dataloader.py:557: UserWarning: This DataLoader will create 4 worker processes in total. Our suggested max number of worker in current system is 2, which is smaller than what this DataLoader is going to create. Please be aware that excessive worker creation might get DataLoader running slow or even freeze, lower the worker number to avoid potential slowness/freeze if necessary.\n",
            "  warnings.warn(_create_warning_msg(\n",
            "  1%|          | 27/2842 [00:03<06:18,  7.44it/s]\n"
          ]
        },
        {
          "output_type": "error",
          "ename": "KeyboardInterrupt",
          "evalue": "",
          "traceback": [
            "\u001b[0;31m---------------------------------------------------------------------------\u001b[0m",
            "\u001b[0;31mKeyboardInterrupt\u001b[0m                         Traceback (most recent call last)",
            "\u001b[0;32m<ipython-input-85-2d211e88f413>\u001b[0m in \u001b[0;36m<cell line: 14>\u001b[0;34m()\u001b[0m\n\u001b[1;32m     16\u001b[0m     \u001b[0mmodel\u001b[0m\u001b[0;34m,\u001b[0m \u001b[0moptimizer\u001b[0m \u001b[0;34m=\u001b[0m \u001b[0mget_model\u001b[0m\u001b[0;34m(\u001b[0m\u001b[0;34m)\u001b[0m\u001b[0;34m\u001b[0m\u001b[0;34m\u001b[0m\u001b[0m\n\u001b[1;32m     17\u001b[0m     \u001b[0mprint\u001b[0m\u001b[0;34m(\u001b[0m\u001b[0;34mf\"Training with half-hop probability of {hh_prob}\\n\"\u001b[0m\u001b[0;34m)\u001b[0m\u001b[0;34m\u001b[0m\u001b[0;34m\u001b[0m\u001b[0m\n\u001b[0;32m---> 18\u001b[0;31m     result = train(model,\n\u001b[0m\u001b[1;32m     19\u001b[0m                    \u001b[0moptimizer\u001b[0m\u001b[0;34m,\u001b[0m\u001b[0;34m\u001b[0m\u001b[0;34m\u001b[0m\u001b[0m\n\u001b[1;32m     20\u001b[0m                    \u001b[0mnum_epochs\u001b[0m\u001b[0;34m=\u001b[0m\u001b[0mnum_epochs\u001b[0m\u001b[0;34m,\u001b[0m\u001b[0;34m\u001b[0m\u001b[0;34m\u001b[0m\u001b[0m\n",
            "\u001b[0;32m<ipython-input-84-2029430e7b19>\u001b[0m in \u001b[0;36mtrain\u001b[0;34m(model, optimizer, num_epochs, transform, filter_output_fn, apply_transform_at_test)\u001b[0m\n\u001b[1;32m     11\u001b[0m \u001b[0;34m\u001b[0m\u001b[0m\n\u001b[1;32m     12\u001b[0m         \u001b[0;31m# training\u001b[0m\u001b[0;34m\u001b[0m\u001b[0;34m\u001b[0m\u001b[0m\n\u001b[0;32m---> 13\u001b[0;31m         train_loss, train_acc = train_one_epoch(model, \n\u001b[0m\u001b[1;32m     14\u001b[0m                                                 \u001b[0mtrain_loader\u001b[0m\u001b[0;34m,\u001b[0m\u001b[0;34m\u001b[0m\u001b[0;34m\u001b[0m\u001b[0m\n\u001b[1;32m     15\u001b[0m                                                 \u001b[0moptimizer\u001b[0m\u001b[0;34m,\u001b[0m\u001b[0;34m\u001b[0m\u001b[0;34m\u001b[0m\u001b[0m\n",
            "\u001b[0;32m<ipython-input-83-f29de55a0604>\u001b[0m in \u001b[0;36mtrain_one_epoch\u001b[0;34m(model, dataloader, optimizer, transform, filter_output_fn)\u001b[0m\n\u001b[1;32m     41\u001b[0m \u001b[0;34m\u001b[0m\u001b[0m\n\u001b[1;32m     42\u001b[0m         \u001b[0mloss\u001b[0m \u001b[0;34m=\u001b[0m \u001b[0mmodel\u001b[0m\u001b[0;34m.\u001b[0m\u001b[0mloss_fn\u001b[0m\u001b[0;34m(\u001b[0m\u001b[0mlogits\u001b[0m\u001b[0;34m,\u001b[0m \u001b[0mlabels\u001b[0m\u001b[0;34m)\u001b[0m\u001b[0;34m\u001b[0m\u001b[0;34m\u001b[0m\u001b[0m\n\u001b[0;32m---> 43\u001b[0;31m         \u001b[0mloss\u001b[0m\u001b[0;34m.\u001b[0m\u001b[0mbackward\u001b[0m\u001b[0;34m(\u001b[0m\u001b[0;34m)\u001b[0m\u001b[0;34m\u001b[0m\u001b[0;34m\u001b[0m\u001b[0m\n\u001b[0m\u001b[1;32m     44\u001b[0m         \u001b[0moptimizer\u001b[0m\u001b[0;34m.\u001b[0m\u001b[0mstep\u001b[0m\u001b[0;34m(\u001b[0m\u001b[0;34m)\u001b[0m\u001b[0;34m\u001b[0m\u001b[0;34m\u001b[0m\u001b[0m\n\u001b[1;32m     45\u001b[0m \u001b[0;34m\u001b[0m\u001b[0m\n",
            "\u001b[0;32m/usr/local/lib/python3.10/dist-packages/torch/_tensor.py\u001b[0m in \u001b[0;36mbackward\u001b[0;34m(self, gradient, retain_graph, create_graph, inputs)\u001b[0m\n\u001b[1;32m    519\u001b[0m                 \u001b[0minputs\u001b[0m\u001b[0;34m=\u001b[0m\u001b[0minputs\u001b[0m\u001b[0;34m,\u001b[0m\u001b[0;34m\u001b[0m\u001b[0;34m\u001b[0m\u001b[0m\n\u001b[1;32m    520\u001b[0m             )\n\u001b[0;32m--> 521\u001b[0;31m         torch.autograd.backward(\n\u001b[0m\u001b[1;32m    522\u001b[0m             \u001b[0mself\u001b[0m\u001b[0;34m,\u001b[0m \u001b[0mgradient\u001b[0m\u001b[0;34m,\u001b[0m \u001b[0mretain_graph\u001b[0m\u001b[0;34m,\u001b[0m \u001b[0mcreate_graph\u001b[0m\u001b[0;34m,\u001b[0m \u001b[0minputs\u001b[0m\u001b[0;34m=\u001b[0m\u001b[0minputs\u001b[0m\u001b[0;34m\u001b[0m\u001b[0;34m\u001b[0m\u001b[0m\n\u001b[1;32m    523\u001b[0m         )\n",
            "\u001b[0;32m/usr/local/lib/python3.10/dist-packages/torch/autograd/__init__.py\u001b[0m in \u001b[0;36mbackward\u001b[0;34m(tensors, grad_tensors, retain_graph, create_graph, grad_variables, inputs)\u001b[0m\n\u001b[1;32m    287\u001b[0m     \u001b[0;31m# some Python versions print out the first line of a multi-line function\u001b[0m\u001b[0;34m\u001b[0m\u001b[0;34m\u001b[0m\u001b[0m\n\u001b[1;32m    288\u001b[0m     \u001b[0;31m# calls in the traceback and some print out the last line\u001b[0m\u001b[0;34m\u001b[0m\u001b[0;34m\u001b[0m\u001b[0m\n\u001b[0;32m--> 289\u001b[0;31m     _engine_run_backward(\n\u001b[0m\u001b[1;32m    290\u001b[0m         \u001b[0mtensors\u001b[0m\u001b[0;34m,\u001b[0m\u001b[0;34m\u001b[0m\u001b[0;34m\u001b[0m\u001b[0m\n\u001b[1;32m    291\u001b[0m         \u001b[0mgrad_tensors_\u001b[0m\u001b[0;34m,\u001b[0m\u001b[0;34m\u001b[0m\u001b[0;34m\u001b[0m\u001b[0m\n",
            "\u001b[0;32m/usr/local/lib/python3.10/dist-packages/torch/autograd/graph.py\u001b[0m in \u001b[0;36m_engine_run_backward\u001b[0;34m(t_outputs, *args, **kwargs)\u001b[0m\n\u001b[1;32m    766\u001b[0m         \u001b[0munregister_hooks\u001b[0m \u001b[0;34m=\u001b[0m \u001b[0m_register_logging_hooks_on_whole_graph\u001b[0m\u001b[0;34m(\u001b[0m\u001b[0mt_outputs\u001b[0m\u001b[0;34m)\u001b[0m\u001b[0;34m\u001b[0m\u001b[0;34m\u001b[0m\u001b[0m\n\u001b[1;32m    767\u001b[0m     \u001b[0;32mtry\u001b[0m\u001b[0;34m:\u001b[0m\u001b[0;34m\u001b[0m\u001b[0;34m\u001b[0m\u001b[0m\n\u001b[0;32m--> 768\u001b[0;31m         return Variable._execution_engine.run_backward(  # Calls into the C++ engine to run the backward pass\n\u001b[0m\u001b[1;32m    769\u001b[0m             \u001b[0mt_outputs\u001b[0m\u001b[0;34m,\u001b[0m \u001b[0;34m*\u001b[0m\u001b[0margs\u001b[0m\u001b[0;34m,\u001b[0m \u001b[0;34m**\u001b[0m\u001b[0mkwargs\u001b[0m\u001b[0;34m\u001b[0m\u001b[0;34m\u001b[0m\u001b[0m\n\u001b[1;32m    770\u001b[0m         )  # Calls into the C++ engine to run the backward pass\n",
            "\u001b[0;31mKeyboardInterrupt\u001b[0m: "
          ]
        }
      ],
      "source": [
        "import pandas as pd\n",
        "\n",
        "from torch_geometric.transforms import HalfHop\n",
        "# blend features from src and dest equally (alpha=0.5).\n",
        "# add a virtual node to all edges (p=1)\n",
        "\n",
        "def hh_filter(outputs, batch):\n",
        "  # note that the labels (i.e. batch.y) do not need to be masked.\n",
        "  # dummy labels are not added\n",
        "  return outputs[~batch.slow_node_mask]\n",
        "\n",
        "probs = [0.1, 0.5, 1.0]\n",
        "best_hh_train_acc, best_hh_val_acc, best_hh_test_acc = [], [], []\n",
        "for hh_prob in probs:\n",
        "    hh_transform = HalfHop(alpha=0.5, p=hh_prob)\n",
        "    model, optimizer = get_model()\n",
        "    print(f\"Training with half-hop probability of {hh_prob}\\n\")\n",
        "    result = train(model,\n",
        "                   optimizer,\n",
        "                   num_epochs=num_epochs,\n",
        "                   transform=hh_transform,\n",
        "                   filter_output_fn=hh_filter,\n",
        "                   apply_transform_at_test=True)\n",
        "\n",
        "    best_ind = result['best_val_ind']\n",
        "    best_hh_train_acc.append(result['all_train_acc'][best_ind])\n",
        "    best_hh_val_acc.append(result['all_val_acc'][best_ind])\n",
        "    best_hh_test_acc.append(result['all_test_acc'][best_ind])"
      ]
    },
    {
      "cell_type": "code",
      "source": [
        "to_plot = {\n",
        "    \"train\": best_train_acc,\n",
        "    \"val\": best_val_acc,\n",
        "    \"test\": best_test_acc\n",
        "}\n",
        "\n",
        "plot(x=probs, y=to_plot, xlabel=\"half-hop probability\")"
      ],
      "metadata": {
        "id": "G2SV1BY1O6yN"
      },
      "execution_count": null,
      "outputs": []
    },
    {
      "cell_type": "code",
      "execution_count": null,
      "metadata": {
        "colab": {
          "base_uri": "https://localhost:8080/",
          "height": 468
        },
        "id": "AkgM8GSD2R7I",
        "outputId": "e77f2154-69ca-495d-85ba-89ea4d90e0f8"
      },
      "outputs": [
        {
          "data": {
            "text/plain": [
              "<Axes: xlabel='masking_prob', ylabel='test_acc'>"
            ]
          },
          "execution_count": 36,
          "metadata": {},
          "output_type": "execute_result"
        },
        {
          "data": {
            "image/png": "[encoded data removed]",
            "text/plain": [
              "<Figure size 640x480 with 1 Axes>"
            ]
          },
          "metadata": {},
          "output_type": "display_data"
        }
      ],
      "source": [
        "import seaborn as sns\n",
        "\n",
        "if not os.path.exists(\"out\"):\n",
        "    os.makedirs(\"out\")\n",
        "df = pd.DataFrame(rows)\n",
        "df.to_csv(\"out/masking_prob_results.csv\")\n",
        "df\n",
        "\n",
        "df.to_csv(\"out/masking_prob_results.csv\")\n",
        "sns.lineplot(data=df, x=\"masking_prob\", y=\"test_acc\")"
      ]
    },
    {
      "cell_type": "markdown",
      "metadata": {
        "id": "fJqO9Ikplx6g"
      },
      "source": [
        "### Virtual Node\n",
        "\n",
        "VirtualNode (introduced in [Gilmer 2017](https://arxiv.org/abs/1704.01212)) appends a virtual node to the given homogeneous graph that is connected to all other nodes. The virtual node serves as a global scratch space that each node both reads from and writes to in every step of message passing. This allows information to travel long distances during the propagation phase."
      ]
    },
    {
      "cell_type": "code",
      "execution_count": 82,
      "metadata": {
        "colab": {
          "base_uri": "https://localhost:8080/"
        },
        "id": "HHfjmxWjlx6h",
        "outputId": "d9d2792e-3f6d-434d-b140-4646b8b421de"
      },
      "outputs": [
        {
          "output_type": "stream",
          "name": "stdout",
          "text": [
            "Training with virtual node\n",
            "\n",
            "Epoch: 01\n"
          ]
        },
        {
          "output_type": "stream",
          "name": "stderr",
          "text": [
            "\r  0%|          | 0/2842 [00:00<?, ?it/s]"
          ]
        },
        {
          "name": "stdout",
          "output_type": "stream",
          "text": [
            "before transform: torch.Size([1906, 128]), torch.Size([1906, 1])\n",
            "after transform: torch.Size([1907, 128]), torch.Size([1907, 1])\n",
            "> \u001b[0;32m<ipython-input-82-b3adf323d1b7>\u001b[0m(7)\u001b[0;36mvn_filter\u001b[0;34m()\u001b[0m\n",
            "\u001b[0;32m      5 \u001b[0;31m\u001b[0;32mdef\u001b[0m \u001b[0mvn_filter\u001b[0m\u001b[0;34m(\u001b[0m\u001b[0moutputs\u001b[0m\u001b[0;34m,\u001b[0m \u001b[0mbatch\u001b[0m\u001b[0;34m)\u001b[0m\u001b[0;34m:\u001b[0m\u001b[0;34m\u001b[0m\u001b[0;34m\u001b[0m\u001b[0m\n",
            "\u001b[0m\u001b[0;32m      6 \u001b[0;31m  \u001b[0mbreakpoint\u001b[0m\u001b[0;34m(\u001b[0m\u001b[0;34m)\u001b[0m\u001b[0;34m\u001b[0m\u001b[0;34m\u001b[0m\u001b[0m\n",
            "\u001b[0m\u001b[0;32m----> 7 \u001b[0;31m  \u001b[0;32mreturn\u001b[0m \u001b[0moutputs\u001b[0m\u001b[0;34m[\u001b[0m\u001b[0;34m~\u001b[0m\u001b[0mbatch\u001b[0m\u001b[0;34m.\u001b[0m\u001b[0mvn_mask\u001b[0m\u001b[0;34m]\u001b[0m\u001b[0;34m\u001b[0m\u001b[0;34m\u001b[0m\u001b[0m\n",
            "\u001b[0m\u001b[0;32m      8 \u001b[0;31m\u001b[0mvn_transform\u001b[0m \u001b[0;34m=\u001b[0m \u001b[0mVirtualNode\u001b[0m\u001b[0;34m(\u001b[0m\u001b[0;34m)\u001b[0m\u001b[0;34m\u001b[0m\u001b[0;34m\u001b[0m\u001b[0m\n",
            "\u001b[0m\u001b[0;32m      9 \u001b[0;31m\u001b[0mmodel\u001b[0m\u001b[0;34m,\u001b[0m \u001b[0moptimizer\u001b[0m \u001b[0;34m=\u001b[0m \u001b[0mget_model\u001b[0m\u001b[0;34m(\u001b[0m\u001b[0;34m)\u001b[0m\u001b[0;34m\u001b[0m\u001b[0;34m\u001b[0m\u001b[0m\n",
            "\u001b[0m\n",
            "ipdb> batch.y[-1]\n",
            "tensor([0])\n",
            "ipdb> batch.x[-1]\n",
            "tensor([0., 0., 0., 0., 0., 0., 0., 0., 0., 0., 0., 0., 0., 0., 0., 0., 0., 0., 0., 0., 0., 0., 0., 0.,\n",
            "        0., 0., 0., 0., 0., 0., 0., 0., 0., 0., 0., 0., 0., 0., 0., 0., 0., 0., 0., 0., 0., 0., 0., 0.,\n",
            "        0., 0., 0., 0., 0., 0., 0., 0., 0., 0., 0., 0., 0., 0., 0., 0., 0., 0., 0., 0., 0., 0., 0., 0.,\n",
            "        0., 0., 0., 0., 0., 0., 0., 0., 0., 0., 0., 0., 0., 0., 0., 0., 0., 0., 0., 0., 0., 0., 0., 0.,\n",
            "        0., 0., 0., 0., 0., 0., 0., 0., 0., 0., 0., 0., 0., 0., 0., 0., 0., 0., 0., 0., 0., 0., 0., 0.,\n",
            "        0., 0., 0., 0., 0., 0., 0., 0.])\n",
            "ipdb> batch.x[-2]\n",
            "tensor([-0.0700, -0.0365, -0.2194, -0.1301, -0.0332, -0.0614, -0.3106, -0.1240,\n",
            "         0.0491, -0.0013,  0.1673, -0.5697,  0.1314,  0.1891, -0.2333, -0.1865,\n",
            "         0.1142,  0.4250,  0.0566, -0.1834, -0.3973,  0.1057, -0.3947,  0.1664,\n",
            "        -0.3160,  0.3537,  0.1381, -0.4328,  0.0903, -0.0877, -0.1929, -0.0268,\n",
            "        -0.1189,  0.1808,  0.1628, -0.3449, -0.0598,  0.1289,  0.0925,  0.1213,\n",
            "         0.2259,  0.0296,  0.2141, -0.1889,  0.3081,  0.1771,  0.1662, -0.2310,\n",
            "         0.3356,  0.0087,  0.4167,  0.1889, -0.0747,  0.0427,  0.0115,  0.1497,\n",
            "        -0.1192, -0.2006, -0.0837, -0.3275,  0.5173,  0.1085,  0.2562, -0.1100,\n",
            "        -0.0627,  0.2594, -0.1150,  0.0419,  0.5974, -0.3372, -0.1596, -0.0709,\n",
            "        -0.0658, -0.0572,  0.0836, -0.3960,  0.0009,  0.2003,  0.0706, -0.1927,\n",
            "        -0.0401,  0.3066,  0.8387, -0.2647,  0.1964, -0.2610, -0.4962, -0.0228,\n",
            "         0.7958,  0.1852,  0.3503,  0.0163, -0.0154, -0.0792, -0.0637,  0.0306,\n",
            "        -0.0848,  0.0795,  0.0786, -0.2031,  0.0126,  0.6926, -0.0860, -0.2822,\n",
            "         0.2733,  0.0318, -0.2982,  0.1035, -0.2729,  0.3434, -0.3196, -0.1832,\n",
            "         0.1618, -0.1327,  0.1268,  0.1130,  0.0177, -0.0646, -0.0256,  0.0389,\n",
            "        -0.2317, -0.0371,  0.4774, -0.1904,  0.2290,  0.0466, -0.0397, -0.0927])\n",
            "ipdb> batch.y[-2]\n",
            "tensor([36])\n",
            "ipdb> \u0004\n"
          ]
        },
        {
          "output_type": "stream",
          "name": "stderr",
          "text": [
            "\r  0%|          | 0/2842 [00:59<?, ?it/s]"
          ]
        },
        {
          "output_type": "stream",
          "name": "stdout",
          "text": [
            "\n"
          ]
        },
        {
          "output_type": "stream",
          "name": "stderr",
          "text": [
            "\n"
          ]
        }
      ],
      "source": [
        "import pandas as pd\n",
        "\n",
        "from torch_geometric.transforms import VirtualNode\n",
        "\n",
        "def vn_filter(outputs, batch):\n",
        "  # virtual node adds a dummy label (0), and a dummy node (0)\n",
        "  return outputs\n",
        "\n",
        "vn_transform = VirtualNode()\n",
        "model, optimizer = get_model()\n",
        "print(f\"Training with virtual node\\n\")\n",
        "result = train(model,\n",
        "                optimizer,\n",
        "                num_epochs=num_epochs,\n",
        "                transform=vn_transform,\n",
        "                filter_output_fn=vn_filter,\n",
        "                apply_transform_at_test=True)\n",
        "\n",
        "best_ind = result['best_val_ind']\n",
        "best_vn_train_acc = result['all_train_acc'][best_ind]\n",
        "best_vn_val_acc = result['all_val_acc'][best_ind]\n",
        "best_vn_test_acc = result['all_test_acc'][best_ind]"
      ]
    },
    {
      "cell_type": "code",
      "execution_count": null,
      "metadata": {
        "colab": {
          "base_uri": "https://localhost:8080/",
          "height": 293
        },
        "id": "RBLiHgQQ2R7I",
        "outputId": "3eb46758-1f8c-492f-8379-dc75339d18b3"
      },
      "outputs": [
        {
          "ename": "ValueError",
          "evalue": "Could not interpret value `edge_prob` for `x`. An entry with this name does not appear in `data`.",
          "output_type": "error",
          "traceback": [
            "\u001b[0;31m---------------------------------------------------------------------------\u001b[0m",
            "\u001b[0;31mValueError\u001b[0m                                Traceback (most recent call last)",
            "\u001b[0;32m<ipython-input-39-e1aeb3467463>\u001b[0m in \u001b[0;36m<cell line: 1>\u001b[0;34m()\u001b[0m\n\u001b[0;32m----> 1\u001b[0;31m \u001b[0msns\u001b[0m\u001b[0;34m.\u001b[0m\u001b[0mlineplot\u001b[0m\u001b[0;34m(\u001b[0m\u001b[0mdata\u001b[0m\u001b[0;34m=\u001b[0m\u001b[0mdf\u001b[0m\u001b[0;34m,\u001b[0m \u001b[0mx\u001b[0m\u001b[0;34m=\u001b[0m\u001b[0;34m\"edge_prob\"\u001b[0m\u001b[0;34m,\u001b[0m \u001b[0my\u001b[0m\u001b[0;34m=\u001b[0m\u001b[0;34m\"test_acc\"\u001b[0m\u001b[0;34m)\u001b[0m\u001b[0;34m\u001b[0m\u001b[0;34m\u001b[0m\u001b[0m\n\u001b[0m",
            "\u001b[0;32m/usr/local/lib/python3.10/dist-packages/seaborn/relational.py\u001b[0m in \u001b[0;36mlineplot\u001b[0;34m(data, x, y, hue, size, style, units, weights, palette, hue_order, hue_norm, sizes, size_order, size_norm, dashes, markers, style_order, estimator, errorbar, n_boot, seed, orient, sort, err_style, err_kws, legend, ci, ax, **kwargs)\u001b[0m\n\u001b[1;32m    483\u001b[0m     \u001b[0merrorbar\u001b[0m \u001b[0;34m=\u001b[0m \u001b[0m_deprecate_ci\u001b[0m\u001b[0;34m(\u001b[0m\u001b[0merrorbar\u001b[0m\u001b[0;34m,\u001b[0m \u001b[0mci\u001b[0m\u001b[0;34m)\u001b[0m\u001b[0;34m\u001b[0m\u001b[0;34m\u001b[0m\u001b[0m\n\u001b[1;32m    484\u001b[0m \u001b[0;34m\u001b[0m\u001b[0m\n\u001b[0;32m--> 485\u001b[0;31m     p = _LinePlotter(\n\u001b[0m\u001b[1;32m    486\u001b[0m         \u001b[0mdata\u001b[0m\u001b[0;34m=\u001b[0m\u001b[0mdata\u001b[0m\u001b[0;34m,\u001b[0m\u001b[0;34m\u001b[0m\u001b[0;34m\u001b[0m\u001b[0m\n\u001b[1;32m    487\u001b[0m         variables=dict(\n",
            "\u001b[0;32m/usr/local/lib/python3.10/dist-packages/seaborn/relational.py\u001b[0m in \u001b[0;36m__init__\u001b[0;34m(self, data, variables, estimator, n_boot, seed, errorbar, sort, orient, err_style, err_kws, legend)\u001b[0m\n\u001b[1;32m    214\u001b[0m         )\n\u001b[1;32m    215\u001b[0m \u001b[0;34m\u001b[0m\u001b[0m\n\u001b[0;32m--> 216\u001b[0;31m         \u001b[0msuper\u001b[0m\u001b[0;34m(\u001b[0m\u001b[0;34m)\u001b[0m\u001b[0;34m.\u001b[0m\u001b[0m__init__\u001b[0m\u001b[0;34m(\u001b[0m\u001b[0mdata\u001b[0m\u001b[0;34m=\u001b[0m\u001b[0mdata\u001b[0m\u001b[0;34m,\u001b[0m \u001b[0mvariables\u001b[0m\u001b[0;34m=\u001b[0m\u001b[0mvariables\u001b[0m\u001b[0;34m)\u001b[0m\u001b[0;34m\u001b[0m\u001b[0;34m\u001b[0m\u001b[0m\n\u001b[0m\u001b[1;32m    217\u001b[0m \u001b[0;34m\u001b[0m\u001b[0m\n\u001b[1;32m    218\u001b[0m         \u001b[0mself\u001b[0m\u001b[0;34m.\u001b[0m\u001b[0mestimator\u001b[0m \u001b[0;34m=\u001b[0m \u001b[0mestimator\u001b[0m\u001b[0;34m\u001b[0m\u001b[0;34m\u001b[0m\u001b[0m\n",
            "\u001b[0;32m/usr/local/lib/python3.10/dist-packages/seaborn/_base.py\u001b[0m in \u001b[0;36m__init__\u001b[0;34m(self, data, variables)\u001b[0m\n\u001b[1;32m    632\u001b[0m         \u001b[0;31m# information for numeric axes would be information about log scales.\u001b[0m\u001b[0;34m\u001b[0m\u001b[0;34m\u001b[0m\u001b[0m\n\u001b[1;32m    633\u001b[0m         \u001b[0mself\u001b[0m\u001b[0;34m.\u001b[0m\u001b[0m_var_ordered\u001b[0m \u001b[0;34m=\u001b[0m \u001b[0;34m{\u001b[0m\u001b[0;34m\"x\"\u001b[0m\u001b[0;34m:\u001b[0m \u001b[0;32mFalse\u001b[0m\u001b[0;34m,\u001b[0m \u001b[0;34m\"y\"\u001b[0m\u001b[0;34m:\u001b[0m \u001b[0;32mFalse\u001b[0m\u001b[0;34m}\u001b[0m  \u001b[0;31m# alt., used DefaultDict\u001b[0m\u001b[0;34m\u001b[0m\u001b[0;34m\u001b[0m\u001b[0m\n\u001b[0;32m--> 634\u001b[0;31m         \u001b[0mself\u001b[0m\u001b[0;34m.\u001b[0m\u001b[0massign_variables\u001b[0m\u001b[0;34m(\u001b[0m\u001b[0mdata\u001b[0m\u001b[0;34m,\u001b[0m \u001b[0mvariables\u001b[0m\u001b[0;34m)\u001b[0m\u001b[0;34m\u001b[0m\u001b[0;34m\u001b[0m\u001b[0m\n\u001b[0m\u001b[1;32m    635\u001b[0m \u001b[0;34m\u001b[0m\u001b[0m\n\u001b[1;32m    636\u001b[0m         \u001b[0;31m# TODO Lots of tests assume that these are called to initialize the\u001b[0m\u001b[0;34m\u001b[0m\u001b[0;34m\u001b[0m\u001b[0m\n",
            "\u001b[0;32m/usr/local/lib/python3.10/dist-packages/seaborn/_base.py\u001b[0m in \u001b[0;36massign_variables\u001b[0;34m(self, data, variables)\u001b[0m\n\u001b[1;32m    677\u001b[0m             \u001b[0;31m# to centralize / standardize data consumption logic.\u001b[0m\u001b[0;34m\u001b[0m\u001b[0;34m\u001b[0m\u001b[0m\n\u001b[1;32m    678\u001b[0m             \u001b[0mself\u001b[0m\u001b[0;34m.\u001b[0m\u001b[0minput_format\u001b[0m \u001b[0;34m=\u001b[0m \u001b[0;34m\"long\"\u001b[0m\u001b[0;34m\u001b[0m\u001b[0;34m\u001b[0m\u001b[0m\n\u001b[0;32m--> 679\u001b[0;31m             \u001b[0mplot_data\u001b[0m \u001b[0;34m=\u001b[0m \u001b[0mPlotData\u001b[0m\u001b[0;34m(\u001b[0m\u001b[0mdata\u001b[0m\u001b[0;34m,\u001b[0m \u001b[0mvariables\u001b[0m\u001b[0;34m)\u001b[0m\u001b[0;34m\u001b[0m\u001b[0;34m\u001b[0m\u001b[0m\n\u001b[0m\u001b[1;32m    680\u001b[0m             \u001b[0mframe\u001b[0m \u001b[0;34m=\u001b[0m \u001b[0mplot_data\u001b[0m\u001b[0;34m.\u001b[0m\u001b[0mframe\u001b[0m\u001b[0;34m\u001b[0m\u001b[0;34m\u001b[0m\u001b[0m\n\u001b[1;32m    681\u001b[0m             \u001b[0mnames\u001b[0m \u001b[0;34m=\u001b[0m \u001b[0mplot_data\u001b[0m\u001b[0;34m.\u001b[0m\u001b[0mnames\u001b[0m\u001b[0;34m\u001b[0m\u001b[0;34m\u001b[0m\u001b[0m\n",
            "\u001b[0;32m/usr/local/lib/python3.10/dist-packages/seaborn/_core/data.py\u001b[0m in \u001b[0;36m__init__\u001b[0;34m(self, data, variables)\u001b[0m\n\u001b[1;32m     56\u001b[0m \u001b[0;34m\u001b[0m\u001b[0m\n\u001b[1;32m     57\u001b[0m         \u001b[0mdata\u001b[0m \u001b[0;34m=\u001b[0m \u001b[0mhandle_data_source\u001b[0m\u001b[0;34m(\u001b[0m\u001b[0mdata\u001b[0m\u001b[0;34m)\u001b[0m\u001b[0;34m\u001b[0m\u001b[0;34m\u001b[0m\u001b[0m\n\u001b[0;32m---> 58\u001b[0;31m         \u001b[0mframe\u001b[0m\u001b[0;34m,\u001b[0m \u001b[0mnames\u001b[0m\u001b[0;34m,\u001b[0m \u001b[0mids\u001b[0m \u001b[0;34m=\u001b[0m \u001b[0mself\u001b[0m\u001b[0;34m.\u001b[0m\u001b[0m_assign_variables\u001b[0m\u001b[0;34m(\u001b[0m\u001b[0mdata\u001b[0m\u001b[0;34m,\u001b[0m \u001b[0mvariables\u001b[0m\u001b[0;34m)\u001b[0m\u001b[0;34m\u001b[0m\u001b[0;34m\u001b[0m\u001b[0m\n\u001b[0m\u001b[1;32m     59\u001b[0m \u001b[0;34m\u001b[0m\u001b[0m\n\u001b[1;32m     60\u001b[0m         \u001b[0mself\u001b[0m\u001b[0;34m.\u001b[0m\u001b[0mframe\u001b[0m \u001b[0;34m=\u001b[0m \u001b[0mframe\u001b[0m\u001b[0;34m\u001b[0m\u001b[0;34m\u001b[0m\u001b[0m\n",
            "\u001b[0;32m/usr/local/lib/python3.10/dist-packages/seaborn/_core/data.py\u001b[0m in \u001b[0;36m_assign_variables\u001b[0;34m(self, data, variables)\u001b[0m\n\u001b[1;32m    230\u001b[0m                 \u001b[0;32melse\u001b[0m\u001b[0;34m:\u001b[0m\u001b[0;34m\u001b[0m\u001b[0;34m\u001b[0m\u001b[0m\n\u001b[1;32m    231\u001b[0m                     \u001b[0merr\u001b[0m \u001b[0;34m+=\u001b[0m \u001b[0;34m\"An entry with this name does not appear in `data`.\"\u001b[0m\u001b[0;34m\u001b[0m\u001b[0;34m\u001b[0m\u001b[0m\n\u001b[0;32m--> 232\u001b[0;31m                 \u001b[0;32mraise\u001b[0m \u001b[0mValueError\u001b[0m\u001b[0;34m(\u001b[0m\u001b[0merr\u001b[0m\u001b[0;34m)\u001b[0m\u001b[0;34m\u001b[0m\u001b[0;34m\u001b[0m\u001b[0m\n\u001b[0m\u001b[1;32m    233\u001b[0m \u001b[0;34m\u001b[0m\u001b[0m\n\u001b[1;32m    234\u001b[0m             \u001b[0;32melse\u001b[0m\u001b[0;34m:\u001b[0m\u001b[0;34m\u001b[0m\u001b[0;34m\u001b[0m\u001b[0m\n",
            "\u001b[0;31mValueError\u001b[0m: Could not interpret value `edge_prob` for `x`. An entry with this name does not appear in `data`."
          ]
        }
      ],
      "source": [
        "sns.lineplot(data=df, x=\"edge_prob\", y=\"test_acc\")"
      ]
    },
    {
      "cell_type": "code",
      "execution_count": null,
      "metadata": {
        "id": "ktRl8GWF2R7I"
      },
      "outputs": [],
      "source": []
    }
  ],
  "metadata": {
    "colab": {
      "provenance": [],
      "include_colab_link": true
    },
    "kernelspec": {
      "display_name": "Python 3",
      "name": "python3"
    },
    "language_info": {
      "codemirror_mode": {
        "name": "ipython",
        "version": 3
      },
      "file_extension": ".py",
      "mimetype": "text/x-python",
      "name": "python",
      "nbconvert_exporter": "python",
      "pygments_lexer": "ipython3",
      "version": "3.10.12"
    }
  },
  "nbformat": 4,
  "nbformat_minor": 0
}